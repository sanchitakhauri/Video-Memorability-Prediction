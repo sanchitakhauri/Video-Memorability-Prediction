{
 "cells": [
  {
   "cell_type": "markdown",
   "metadata": {
    "id": "ZWFEZejPppnx"
   },
   "source": [
    "# Predicting Memorability using features like HMP, LBP, Aesthetics and C3D\n",
    "\n",
    "\n",
    "\n"
   ]
  },
  {
   "cell_type": "markdown",
   "metadata": {
    "id": "QFLe6wM-yynz"
   },
   "source": [
    "Import all the necessary packages"
   ]
  },
  {
   "cell_type": "code",
   "execution_count": null,
   "metadata": {
    "id": "erEwewiyDJsh"
   },
   "outputs": [],
   "source": [
    "import pandas as pd\n",
    "import pickle\n",
    "import numpy as np\n",
    "from string import punctuation\n",
    "from collections import Counter\n",
    "import matplotlib.pyplot as plt\n",
    "from numpy import arange\n",
    "from pandas import read_csv\n",
    "from google.colab import drive\n",
    "import os\n",
    "from math import sqrt\n",
    "\n",
    "from tensorflow.python.keras import Sequential\n",
    "from tensorflow.python.keras import layers\n",
    "from tensorflow.python.keras import regularizers\n",
    "from tensorflow.python.keras.preprocessing.text import Tokenizer\n",
    "\n",
    "from sklearn.model_selection import train_test_split\n",
    "from sklearn.ensemble import RandomForestRegressor\n",
    "from sklearn.svm import SVR\n",
    "from sklearn.preprocessing import StandardScaler\n",
    "from sklearn.ensemble import BaggingRegressor\n",
    "from sklearn.ensemble import GradientBoostingRegressor\n",
    "from sklearn.decomposition import PCA\n",
    "from sklearn.preprocessing import StandardScaler\n",
    "from sklearn.model_selection import GridSearchCV\n",
    "from sklearn.model_selection import RandomizedSearchCV\n",
    "from sklearn.model_selection import RepeatedKFold\n",
    "from sklearn.linear_model import ElasticNet\n",
    "from sklearn.metrics import mean_squared_error"
   ]
  },
  {
   "cell_type": "code",
   "execution_count": null,
   "metadata": {
    "id": "NWkGp2qjDJsq"
   },
   "outputs": [],
   "source": [
    "# for reproducability\n",
    "from numpy.random import seed\n",
    "seed(1)\n",
    "import tensorflow\n",
    "tensorflow.random.set_seed(1)"
   ]
  },
  {
   "cell_type": "markdown",
   "metadata": {
    "id": "nfOHnCvXnita"
   },
   "source": [
    "Get_score() - This function returns Spearman score"
   ]
  },
  {
   "cell_type": "code",
   "execution_count": null,
   "metadata": {
    "id": "uTwlAhPUNwy0"
   },
   "outputs": [],
   "source": [
    "def Get_score(Y_pred,Y_true):\n",
    "    '''Calculate the Spearman's correlation coefficient'''\n",
    "    Y_pred = np.squeeze(Y_pred)\n",
    "    Y_true = np.squeeze(Y_true)\n",
    "    if Y_pred.shape != Y_true.shape:\n",
    "        print('Input shapes don\\'t match!')\n",
    "    else:\n",
    "        if len(Y_pred.shape) == 1:\n",
    "            Res = pd.DataFrame({'Y_true':Y_true,'Y_pred':Y_pred})\n",
    "            score_mat = Res[['Y_true','Y_pred']].corr(method='spearman',min_periods=1)\n",
    "            print('The Spearman\\'s correlation coefficient is: %.3f' % score_mat.iloc[1][0])\n",
    "        else:\n",
    "            for ii in range(Y_pred.shape[1]):\n",
    "                Get_score(Y_pred[:,ii],Y_true[:,ii])"
   ]
  },
  {
   "cell_type": "markdown",
   "metadata": {
    "id": "fv5OU0hZxtam"
   },
   "source": [
    "X_seq() - This function returns an array of features extracted from the input, which is dataframe."
   ]
  },
  {
   "cell_type": "code",
   "execution_count": null,
   "metadata": {
    "id": "ysLRLKdRRB1r"
   },
   "outputs": [],
   "source": [
    "def define_x_seq(df ,max_len, column_name, array_size):\n",
    "  X_seq = np.zeros((len(df[column_name]),max_len))\n",
    "  for i in range(len(df[column_name])):\n",
    "      n = array_size\n",
    "      if n==0:\n",
    "          print(i)\n",
    "      else:\n",
    "          X_seq[i,-n:] = df.loc[i,column_name]\n",
    "  X_seq.shape\n",
    "  return X_seq\n"
   ]
  },
  {
   "cell_type": "markdown",
   "metadata": {
    "id": "0uRAQGzHyMxu"
   },
   "source": [
    "Split_data() - This function split feaures into training and testing dataset in the ratio of 80 : 20 respectively"
   ]
  },
  {
   "cell_type": "code",
   "execution_count": null,
   "metadata": {
    "id": "d8cy0wvHUBxu"
   },
   "outputs": [],
   "source": [
    "def Split_data(X_seq):  \n",
    "  Y = labels[['short-term_memorability','long-term_memorability']].values # targets\n",
    "  X = X_seq # sequences\n",
    "  X_train, X_test, Y_train, Y_test = train_test_split(X,Y, test_size=0.2, random_state=42) # random state for reproducability\n",
    "  return X_train, X_test, Y_train, Y_test"
   ]
  },
  {
   "cell_type": "markdown",
   "metadata": {
    "id": "eFw6FoBxniOo"
   },
   "source": [
    "Loading the data from Google Drive."
   ]
  },
  {
   "cell_type": "code",
   "execution_count": null,
   "metadata": {
    "colab": {
     "base_uri": "https://localhost:8080/"
    },
    "id": "3mZ7BM-lGQiD",
    "outputId": "75bee1ea-31c0-4796-d362-046c48d31ac9"
   },
   "outputs": [
    {
     "name": "stdout",
     "output_type": "stream",
     "text": [
      "Drive already mounted at /content/drive/; to attempt to forcibly remount, call drive.mount(\"/content/drive/\", force_remount=True).\n"
     ]
    }
   ],
   "source": [
    "drive.mount('/content/drive/')\n",
    "os.chdir('/content/drive/My Drive/CA684_Assignment')"
   ]
  },
  {
   "cell_type": "markdown",
   "metadata": {
    "id": "gDyJ0s7vn8bZ"
   },
   "source": [
    "Install pyprind and tqdm to show progress bar whenever required"
   ]
  },
  {
   "cell_type": "code",
   "execution_count": null,
   "metadata": {
    "colab": {
     "base_uri": "https://localhost:8080/"
    },
    "id": "moOKNipjDWpv",
    "outputId": "5f461f4d-dd6c-44ca-8e33-d3ceebf50abc"
   },
   "outputs": [
    {
     "name": "stdout",
     "output_type": "stream",
     "text": [
      "Requirement already satisfied: pyprind in /usr/local/lib/python3.7/dist-packages (2.11.3)\n"
     ]
    }
   ],
   "source": [
    "!pip install pyprind\n",
    "import pyprind"
   ]
  },
  {
   "cell_type": "markdown",
   "metadata": {
    "id": "vp6LZgQ9z4j5"
   },
   "source": [
    "Load the ground truth values\n"
   ]
  },
  {
   "cell_type": "code",
   "execution_count": null,
   "metadata": {
    "id": "7hF0WymIzl6l"
   },
   "outputs": [],
   "source": [
    "label_path = './Dev-set/Ground-truth/'\n",
    "labels=pd.read_csv(label_path+'ground-truth.csv')"
   ]
  },
  {
   "cell_type": "markdown",
   "metadata": {
    "id": "2t_Zsxg4b2fd"
   },
   "source": [
    "# 1> Best Performing Models - trained on training set (4800 dataset) and evaluated on validation set (1200 dataset)"
   ]
  },
  {
   "cell_type": "markdown",
   "metadata": {
    "id": "b4XyAVN4g8Kq"
   },
   "source": [
    "## 1.1 Long-term Memorability"
   ]
  },
  {
   "cell_type": "markdown",
   "metadata": {
    "id": "LhCYKipDyGdZ"
   },
   "source": [
    "### 1.1.1 Loading Data - Aesthetic Features"
   ]
  },
  {
   "cell_type": "markdown",
   "metadata": {
    "id": "HdRBiqw1xcbr"
   },
   "source": [
    "read_aesthetic_features() - reads aesthetic feature files from Google drive"
   ]
  },
  {
   "cell_type": "code",
   "execution_count": null,
   "metadata": {
    "id": "pILb4BGBxihA"
   },
   "outputs": [],
   "source": [
    "os.chdir('/content/drive/My Drive/CA684 - Machine Learning Assignment/dev-set_aesthetic-features/features/aesthetic_visual_features')\n",
    "\n",
    "# Read Aesthetic mean and median feature files\n",
    "def read_aesthetic_features(fname):\n",
    "    \"\"\"Scan vectors from file\"\"\" \n",
    "    if os.path.exists(fname):\n",
    "      with open(fname) as f:\n",
    "          for line in f:\n",
    "              aes =[float(item) for item in line.split(',')] # convert to float type, using default separator\n",
    "      return aes\n",
    "    else:\n",
    "      return np.zeros(109)"
   ]
  },
  {
   "cell_type": "markdown",
   "metadata": {
    "id": "B-1lYdq3xozx"
   },
   "source": [
    "Read aesthetic files one by one and store them in a dataframe"
   ]
  },
  {
   "cell_type": "code",
   "execution_count": null,
   "metadata": {},
   "outputs": [],
   "source": [
    "df_aes = pd.DataFrame(columns=['video','AES-mean','AES-median'])\n",
    "\n",
    "pbar = pyprind.ProgBar(len(labels['video']), title='Loading Aesthetic files')\n",
    "\n",
    "# load the Aesthetic files\n",
    "for i, video in enumerate(labels['video']):\n",
    "    df_aes.loc[i,'video'] = video   \n",
    "    df_aes.loc[i,'AES-mean'] = read_aesthetic_features('./aesthetic_feat_dev-set_mean/' + (video.split('.')[0]) + '.txt')\n",
    "    df_aes.loc[i,'AES-median'] = read_aesthetic_features('./aesthetic_feat_dev-set_median/' + (video.split('.')[0]) + '.txt')\n",
    "    pbar.update()"
   ]
  },
  {
   "cell_type": "markdown",
   "metadata": {
    "id": "J17mfaHgx8SE"
   },
   "source": [
    "Save df_aes as a pickle file for later use."
   ]
  },
  {
   "cell_type": "code",
   "execution_count": null,
   "metadata": {
    "id": "UzUXgnZ4xihH"
   },
   "outputs": [],
   "source": [
    "os.chdir('/content/drive/My Drive/')\n",
    "df_aes.to_pickle(\"AES_file.pkl\")"
   ]
  },
  {
   "cell_type": "markdown",
   "metadata": {
    "id": "g1StdtA6yB2p"
   },
   "source": [
    "Read AES_file.pkl and store it in a dataframe"
   ]
  },
  {
   "cell_type": "code",
   "execution_count": null,
   "metadata": {
    "colab": {
     "base_uri": "https://localhost:8080/"
    },
    "id": "IyCh_RxMxihH",
    "outputId": "ae89f91e-18b0-4143-bd8d-aa35a5ecadfe"
   },
   "outputs": [
    {
     "name": "stdout",
     "output_type": "stream",
     "text": [
      "               video  ...                                         AES-median\n",
      "0        video3.webm  ...  [0.180874, 0.715626, 0.19893, 0.610453, 0.1216...\n",
      "1        video4.webm  ...  [0.146076, 0.55007, 0.460729, 0.424397, 0.3418...\n",
      "2        video6.webm  ...  [0.063898, 0.827439, 0.211925, 0.720297, 0.129...\n",
      "3        video8.webm  ...  [0.380539, 0.134683, 0.746891, 0.171604, 0.697...\n",
      "4       video10.webm  ...  [0.427258, 0.381448, 0.582746, 0.409475, 0.489...\n",
      "...              ...  ...                                                ...\n",
      "5995  video7488.webm  ...  [0.413464, 0.195451, 0.71372, 0.282848, 0.6534...\n",
      "5996  video7489.webm  ...  [0.264377, 0.192016, 0.448979, 0.164919, 0.412...\n",
      "5997  video7491.webm  ...  [0.177078, 0.221348, 0.67387, 0.180848, 0.6131...\n",
      "5998  video7492.webm  ...  [0.113838, 0.585274, 0.496719, 0.474999, 0.352...\n",
      "5999  video7493.webm  ...  [0.554715, 0.132732, 0.691821, 0.209476, 0.646...\n",
      "\n",
      "[6000 rows x 3 columns]\n"
     ]
    }
   ],
   "source": [
    "os.chdir('/content/drive/My Drive/CA684 - Machine Learning Assignment')\n",
    "df_aes = pd.read_pickle(\"AES_file.pkl\")\n",
    "print(df_aes)"
   ]
  },
  {
   "cell_type": "markdown",
   "metadata": {
    "id": "5VQf7mqXyNfc"
   },
   "source": [
    "Store all the values in column 'AES-mean' in a numpy array"
   ]
  },
  {
   "cell_type": "code",
   "execution_count": null,
   "metadata": {
    "colab": {
     "base_uri": "https://localhost:8080/"
    },
    "id": "3aQPEvaFxihH",
    "outputId": "cfdc4c18-87ce-4c29-900e-85dc115c5c92"
   },
   "outputs": [
    {
     "data": {
      "text/plain": [
       "(6000, 109)"
      ]
     },
     "execution_count": 11,
     "metadata": {
      "tags": []
     },
     "output_type": "execute_result"
    }
   ],
   "source": [
    "max_len = 109\n",
    "X_seq = define_x_seq(df_aes,max_len,'AES-mean', len(df_aes.loc[0,'AES-mean']))\n",
    "X_seq.shape"
   ]
  },
  {
   "cell_type": "markdown",
   "metadata": {
    "id": "bzEt8LvMyXWo"
   },
   "source": [
    "Split the dataset in 80: 20 ratio for training and testing sets"
   ]
  },
  {
   "cell_type": "code",
   "execution_count": null,
   "metadata": {
    "id": "f34j4SdFxihH"
   },
   "outputs": [],
   "source": [
    "X_train, X_test, Y_train, Y_test = Split_data(X_seq)"
   ]
  },
  {
   "cell_type": "markdown",
   "metadata": {
    "id": "RfRK6lkBx0vE"
   },
   "source": [
    "### 1.1.2 Random Forest - Best Long-term memorability score (0.134)"
   ]
  },
  {
   "cell_type": "markdown",
   "metadata": {
    "id": "-t1n4VquymCg"
   },
   "source": [
    "Train Aesthetic features on a Random Forest"
   ]
  },
  {
   "cell_type": "code",
   "execution_count": null,
   "metadata": {
    "colab": {
     "base_uri": "https://localhost:8080/"
    },
    "id": "BPfjmk2Jx0vE",
    "outputId": "544d77ef-1843-498e-feea-87fae363e343"
   },
   "outputs": [
    {
     "data": {
      "text/plain": [
       "RandomForestRegressor(bootstrap=True, ccp_alpha=0.0, criterion='mse',\n",
       "                      max_depth=None, max_features='auto', max_leaf_nodes=None,\n",
       "                      max_samples=None, min_impurity_decrease=0.0,\n",
       "                      min_impurity_split=None, min_samples_leaf=1,\n",
       "                      min_samples_split=2, min_weight_fraction_leaf=0.0,\n",
       "                      n_estimators=1000, n_jobs=None, oob_score=False,\n",
       "                      random_state=42, verbose=0, warm_start=False)"
      ]
     },
     "execution_count": 180,
     "metadata": {
      "tags": []
     },
     "output_type": "execute_result"
    }
   ],
   "source": [
    "# Instantiate model with 1000 decision trees\n",
    "rf = RandomForestRegressor(n_estimators = 1000, random_state = 42)\n",
    "# Train the model on training data\n",
    "rf.fit(X_train, Y_train)"
   ]
  },
  {
   "cell_type": "markdown",
   "metadata": {
    "id": "-jqNysiLnVck"
   },
   "source": [
    "Get Spearman's scores"
   ]
  },
  {
   "cell_type": "code",
   "execution_count": null,
   "metadata": {
    "colab": {
     "base_uri": "https://localhost:8080/"
    },
    "id": "IAC9bwXEx0vF",
    "outputId": "f2d34b0a-b90c-45ee-dbb6-cd92eb2ba4dd"
   },
   "outputs": [
    {
     "name": "stdout",
     "output_type": "stream",
     "text": [
      "The Spearman's correlation coefficient is: 0.324\n",
      "The Spearman's correlation coefficient is: 0.134\n"
     ]
    }
   ],
   "source": [
    "predictions = rf.predict(X_test)\n",
    "Get_score(predictions, Y_test)"
   ]
  },
  {
   "cell_type": "markdown",
   "metadata": {
    "id": "CVjbzrvlxFXw"
   },
   "source": [
    "## 1.2 Short-term Memorability"
   ]
  },
  {
   "cell_type": "markdown",
   "metadata": {
    "id": "F38ikq_1zyrI"
   },
   "source": [
    "### 1.2.1 Loading Data - LBP and C3D"
   ]
  },
  {
   "cell_type": "markdown",
   "metadata": {
    "id": "5iGzjTLS0kQR"
   },
   "source": [
    "Load LBP from the pickle file generate in section 4.1 \n",
    "https://colab.research.google.com/drive/19NdaFjBPQlESBok79bLd0f9-lYwpW1ht?authuser=2#scrollTo=tsoQsto1h6Ou&line=1&uniqifier=1"
   ]
  },
  {
   "cell_type": "code",
   "execution_count": null,
   "metadata": {
    "colab": {
     "base_uri": "https://localhost:8080/"
    },
    "id": "e4enLXVv0iHc",
    "outputId": "cd86e3aa-2634-49c8-da15-d9c6f868f7aa"
   },
   "outputs": [
    {
     "name": "stdout",
     "output_type": "stream",
     "text": [
      "               video  ...                                            LBP-112\n",
      "0        video3.webm  ...  [0.01043451, 0.00247637, 0.00192178, 0.0014665...\n",
      "1        video4.webm  ...  [0.00991127, 0.00292679, 0.00233845, 0.0020862...\n",
      "2        video6.webm  ...  [0.00782986, 0.00120563, 0.00085166, 0.0006939...\n",
      "3        video8.webm  ...  [0.01097222, 0.00419367, 0.0028178, 0.00211709...\n",
      "4       video10.webm  ...  [0.02204427, 0.00510851, 0.00511767, 0.0041420...\n",
      "...              ...  ...                                                ...\n",
      "5995  video7488.webm  ...  [0.01651235, 0.0036738, 0.00279562, 0.00200762...\n",
      "5996  video7489.webm  ...  [0.03702064, 0.00227286, 0.00241802, 0.0025082...\n",
      "5997  video7491.webm  ...  [0.02289207, 0.00598573, 0.00546055, 0.0042144...\n",
      "5998  video7492.webm  ...  [0.01113329, 0.00202691, 0.00201678, 0.0017365...\n",
      "5999  video7493.webm  ...  [0.01129292, 0.00211179, 0.0017853, 0.00150222...\n",
      "\n",
      "[6000 rows x 4 columns]\n"
     ]
    }
   ],
   "source": [
    "os.chdir('/content/drive/My Drive/CA684 - Machine Learning Assignment')\n",
    "df_lbp = pd.read_pickle(\"LBP_file.pkl\")\n",
    "print(df_lbp)"
   ]
  },
  {
   "cell_type": "markdown",
   "metadata": {
    "id": "sOhoHgLn045j"
   },
   "source": [
    "Loading C3D from pickle file generated in section 3.1 https://colab.research.google.com/drive/19NdaFjBPQlESBok79bLd0f9-lYwpW1ht?authuser=2#scrollTo=vBK1ypdq-U8B&line=1&uniqifier=1"
   ]
  },
  {
   "cell_type": "code",
   "execution_count": null,
   "metadata": {
    "colab": {
     "base_uri": "https://localhost:8080/"
    },
    "id": "LLZQF5aV1Q9x",
    "outputId": "884a043e-5b80-4b2f-fd3e-2e55f063e8ca"
   },
   "outputs": [
    {
     "name": "stdout",
     "output_type": "stream",
     "text": [
      "               video                                                C3D\n",
      "0        video3.webm  [0.02024942, 0.0015778, 0.00082625, 0.00094509...\n",
      "1        video4.webm  [0.000118, 0.00089075, 0.00018769, 4.543e-05, ...\n",
      "2        video6.webm  [0.01176522, 0.00074577, 0.00078353, 1.328e-05...\n",
      "3        video8.webm  [0.00022343, 0.00016499, 7.35e-06, 1.615e-05, ...\n",
      "4       video10.webm  [9.006e-05, 0.00061494, 0.00343634, 0.00128092...\n",
      "...              ...                                                ...\n",
      "5995  video7488.webm  [0.35724622, 0.07598178, 0.00302532, 2.772e-05...\n",
      "5996  video7489.webm  [0.19280288, 0.00093812, 0.00506054, 1.35e-06,...\n",
      "5997  video7491.webm  [2.589e-05, 0.00012192, 2.781e-05, 2.608e-05, ...\n",
      "5998  video7492.webm  [0.26509121, 0.09653918, 5.971e-05, 0.00022735...\n",
      "5999  video7493.webm  [0.02058949, 0.00122141, 0.00206607, 0.0023161...\n",
      "\n",
      "[6000 rows x 2 columns]\n"
     ]
    }
   ],
   "source": [
    "os.chdir('/content/drive/My Drive/CA684 - Machine Learning Assignment')\n",
    "pickle_df_c3d = pd.read_pickle(\"C3D_file.pkl\")\n",
    "print(pickle_df_c3d)"
   ]
  },
  {
   "cell_type": "markdown",
   "metadata": {
    "id": "OiZ404tp1mPT"
   },
   "source": [
    "Concatenate C3D and LBP together"
   ]
  },
  {
   "cell_type": "code",
   "execution_count": null,
   "metadata": {
    "colab": {
     "base_uri": "https://localhost:8080/"
    },
    "id": "91CZbSUa1r_i",
    "outputId": "c468cd59-7c97-4eea-dbf2-397afc4201fb"
   },
   "outputs": [
    {
     "name": "stdout",
     "output_type": "stream",
     "text": [
      "15\n"
     ]
    },
    {
     "data": {
      "text/plain": [
       "(6000, 467)"
      ]
     },
     "execution_count": 12,
     "metadata": {
      "tags": []
     },
     "output_type": "execute_result"
    }
   ],
   "source": [
    "max_len = 467\n",
    "len(pickle_df_c3d)\n",
    "X_seq = np.zeros((len(df_lbp['LBP-112']),max_len))\n",
    "count = 0\n",
    "for i in range(len(df_lbp['LBP-112'])):\n",
    "    n = 467\n",
    "    if n==0:\n",
    "        print(i)\n",
    "    elif len(df_lbp.loc[i,'LBP-112'] + df_lbp.loc[i,'LBP-56'] + df_lbp.loc[i,'LBP-0']) == 366:\n",
    "        X_seq[i,-n:] = df_lbp.loc[i,'LBP-112'] + df_lbp.loc[i,'LBP-56'] + df_lbp.loc[i,'LBP-0'] + pickle_df_c3d.loc[i,'C3D']\n",
    "    else:\n",
    "      count = count + 1\n",
    "print(count)\n",
    "X_seq.shape"
   ]
  },
  {
   "cell_type": "markdown",
   "metadata": {
    "id": "VmtPLcLWzEYu"
   },
   "source": [
    "Split the data in training and testing set"
   ]
  },
  {
   "cell_type": "code",
   "execution_count": null,
   "metadata": {
    "id": "H1junVmq1r_k"
   },
   "outputs": [],
   "source": [
    "X_train, X_test, Y_train, Y_test =Split_data(X_seq)"
   ]
  },
  {
   "cell_type": "markdown",
   "metadata": {
    "id": "DzrdVk251zHN"
   },
   "source": [
    "### 1.2.2 Random Forest - Best short-term memorability score (0.337)"
   ]
  },
  {
   "cell_type": "code",
   "execution_count": null,
   "metadata": {
    "colab": {
     "base_uri": "https://localhost:8080/"
    },
    "id": "Q0sOEe8c1zHO",
    "outputId": "9ccaeeb4-62e2-4308-9aa4-1be4a6c95717"
   },
   "outputs": [
    {
     "name": "stdout",
     "output_type": "stream",
     "text": [
      "The Spearman's correlation coefficient is: 0.337\n",
      "The Spearman's correlation coefficient is: 0.132\n"
     ]
    }
   ],
   "source": [
    "# Instantiate model with 1000 decision trees\n",
    "rf = RandomForestRegressor(n_estimators = 1000, random_state = 42)\n",
    "# Train the model on training data\n",
    "rf.fit(X_train, Y_train)\n",
    "predictions = rf.predict(X_test)\n",
    "Get_score(predictions, Y_test)"
   ]
  },
  {
   "cell_type": "markdown",
   "metadata": {
    "id": "DHg4dQEQDJse"
   },
   "source": [
    "# 2> Predicting video memorability using HMP"
   ]
  },
  {
   "cell_type": "markdown",
   "metadata": {
    "id": "6HVDLMrSDJsg"
   },
   "source": [
    "## 2.1 Loading HMP"
   ]
  },
  {
   "cell_type": "markdown",
   "metadata": {
    "id": "mfdTj5R60QEf"
   },
   "source": [
    "read_HMP() - reads HMP values from the google drive and loads them in a numpy array"
   ]
  },
  {
   "cell_type": "code",
   "execution_count": null,
   "metadata": {
    "id": "CgRN5BdEDJsu"
   },
   "outputs": [],
   "source": [
    "# load HMP\n",
    "def read_HMP(fname):\n",
    "    \"\"\"Scan HMP(Histogram of Motion Patterns) features from file\"\"\"\n",
    "    with open(fname) as f:\n",
    "        for line in f:\n",
    "            pairs=line.split()\n",
    "            HMP_temp = { int(p.split(':')[0]) : float(p.split(':')[1]) for p in pairs}\n",
    "    # there are 6075 bins, fill zeros\n",
    "    HMP = np.zeros(6075)\n",
    "    for idx in HMP_temp.keys():\n",
    "        HMP[idx-1] = HMP_temp[idx]            \n",
    "    return HMP"
   ]
  },
  {
   "cell_type": "markdown",
   "metadata": {
    "id": "-AGBKpHZ0mOW"
   },
   "source": [
    "Call read_HMP() function and store the HMP values in a dataframe"
   ]
  },
  {
   "cell_type": "code",
   "execution_count": null,
   "metadata": {
    "id": "FIPfvV-44EJZ"
   },
   "outputs": [],
   "source": [
    "df_hmp = pd.DataFrame(columns=['video','HMP'])\n",
    "\n",
    "# load the HMP\n",
    "for i, video in enumerate(labels['video']):\n",
    "    File_name = (video.split('.')[0]) + '.txt'\n",
    "    hmp_path = './Dev-set/HMP/' + File_name\n",
    "    df_hmp.loc[i,'video'] = video\n",
    "    df_hmp.loc[i,'HMP'] = read_HMP(hmp_path)"
   ]
  },
  {
   "cell_type": "markdown",
   "metadata": {
    "id": "2a6w43dG00E5"
   },
   "source": [
    "Store HMP values in a pickle file for later use."
   ]
  },
  {
   "cell_type": "code",
   "execution_count": null,
   "metadata": {
    "colab": {
     "base_uri": "https://localhost:8080/"
    },
    "id": "rvpNEsJiSrP1",
    "outputId": "ab750a19-7e48-4efd-a2e8-b2ba83657854"
   },
   "outputs": [
    {
     "name": "stdout",
     "output_type": "stream",
     "text": [
      "/content/drive/My Drive\n"
     ]
    }
   ],
   "source": [
    "os.chdir('/content/drive/My Drive/')\n",
    "!pwd\n",
    "df_hmp.to_pickle(\"HMP_file.pkl\")"
   ]
  },
  {
   "cell_type": "markdown",
   "metadata": {
    "id": "ddiuyGpF07Rw"
   },
   "source": [
    "Read HMP_file.pkl from the Google drive and store them in pickl_df_hmp"
   ]
  },
  {
   "cell_type": "code",
   "execution_count": null,
   "metadata": {
    "colab": {
     "base_uri": "https://localhost:8080/"
    },
    "id": "XSOtfXaGG4El",
    "outputId": "7898c1a1-4570-4832-d597-d13d295d2203"
   },
   "outputs": [
    {
     "name": "stdout",
     "output_type": "stream",
     "text": [
      "               video                                                HMP\n",
      "0        video3.webm  [0.125563, 0.024036, 0.000314, 0.0, 0.015864, ...\n",
      "1        video4.webm  [0.007526, 0.001421, 6.8e-05, 0.0, 0.001184, 0...\n",
      "2        video6.webm  [0.109584, 0.018978, 0.000289, 0.0, 0.008774, ...\n",
      "3        video8.webm  [0.120431, 0.013561, 0.000277, 0.0, 0.018974, ...\n",
      "4       video10.webm  [0.005026, 0.001356, 5.5e-05, 0.0, 0.000665, 2...\n",
      "...              ...                                                ...\n",
      "5995  video7488.webm  [0.003779, 0.001352, 7.7e-05, 0.0, 0.000475, 7...\n",
      "5996  video7489.webm  [0.001396, 0.000417, 7e-06, 0.0, 0.000145, 4e-...\n",
      "5997  video7491.webm  [0.023139, 0.007435, 0.000322, 0.0, 0.004319, ...\n",
      "5998  video7492.webm  [0.0149, 0.004607, 9.9e-05, 0.0, 0.001559, 1.4...\n",
      "5999  video7493.webm  [0.041592, 0.013047, 0.000448, 0.0, 0.010044, ...\n",
      "\n",
      "[6000 rows x 2 columns]\n"
     ]
    }
   ],
   "source": [
    "os.chdir('/content/drive/My Drive/CA684 - Machine Learning Assignment')\n",
    "pickl_df_hmp = pd.read_pickle(\"HMP_file.pkl\")\n",
    "print(pickl_df_hmp)"
   ]
  },
  {
   "cell_type": "code",
   "execution_count": null,
   "metadata": {
    "colab": {
     "base_uri": "https://localhost:8080/"
    },
    "id": "F-2865s5YWnI",
    "outputId": "c38804b8-65ca-4f71-8c34-38fca1ffbcf7"
   },
   "outputs": [
    {
     "name": "stdout",
     "output_type": "stream",
     "text": [
      "               video  ...  nb_long-term_annotations\n",
      "0        video3.webm  ...                        13\n",
      "1        video4.webm  ...                        12\n",
      "2        video6.webm  ...                        10\n",
      "3        video8.webm  ...                        11\n",
      "4       video10.webm  ...                        10\n",
      "...              ...  ...                       ...\n",
      "5995  video7488.webm  ...                         9\n",
      "5996  video7489.webm  ...                        31\n",
      "5997  video7491.webm  ...                        11\n",
      "5998  video7492.webm  ...                        16\n",
      "5999  video7493.webm  ...                        13\n",
      "\n",
      "[6000 rows x 5 columns]\n"
     ]
    }
   ],
   "source": [
    "print(labels)"
   ]
  },
  {
   "cell_type": "code",
   "execution_count": null,
   "metadata": {
    "colab": {
     "base_uri": "https://localhost:8080/"
    },
    "id": "QHxxd4iYakVv",
    "outputId": "1abc9e28-d74f-4db9-adb0-8b67b6ce0355"
   },
   "outputs": [
    {
     "data": {
      "text/plain": [
       "6075"
      ]
     },
     "execution_count": 12,
     "metadata": {
      "tags": []
     },
     "output_type": "execute_result"
    }
   ],
   "source": [
    "len(pickl_df_hmp.loc[1]['HMP'])"
   ]
  },
  {
   "cell_type": "markdown",
   "metadata": {
    "id": "n-yFD7KxDJtT"
   },
   "source": [
    "Define the maximum length of feature"
   ]
  },
  {
   "cell_type": "code",
   "execution_count": null,
   "metadata": {
    "id": "JyKyrg2PDJtT"
   },
   "outputs": [],
   "source": [
    "# calculating max length\n",
    "max_len = 6075"
   ]
  },
  {
   "cell_type": "markdown",
   "metadata": {
    "id": "Ax-D6snMDJtW"
   },
   "source": [
    "Making sequences index same length by calling X_seq function"
   ]
  },
  {
   "cell_type": "code",
   "execution_count": null,
   "metadata": {
    "id": "K3kDvINdDJtW"
   },
   "outputs": [],
   "source": [
    "X_seq = define_x_seq(pickl_df_hmp,max_len,'HMP', len(pickl_df_hmp.loc[0,'HMP']))"
   ]
  },
  {
   "cell_type": "code",
   "execution_count": null,
   "metadata": {
    "colab": {
     "base_uri": "https://localhost:8080/"
    },
    "id": "iJ62yD5Kk66U",
    "outputId": "9e86f369-e7d6-426d-ea04-95cf48fb39ce"
   },
   "outputs": [
    {
     "name": "stdout",
     "output_type": "stream",
     "text": [
      "[0.041592 0.013047 0.000448 ... 0.000289 0.000988 0.000161]\n"
     ]
    }
   ],
   "source": [
    "print(X_seq[5999,:])"
   ]
  },
  {
   "cell_type": "code",
   "execution_count": null,
   "metadata": {
    "colab": {
     "base_uri": "https://localhost:8080/"
    },
    "id": "cEepLE4mwnF-",
    "outputId": "8b87ea61-aad7-42aa-e5ef-cbfe78289032"
   },
   "outputs": [
    {
     "name": "stdout",
     "output_type": "stream",
     "text": [
      "[1.25563e-01 2.40360e-02 3.14000e-04 ... 8.60000e-05 5.80000e-04\n",
      " 0.00000e+00]\n"
     ]
    }
   ],
   "source": [
    "print(X_seq[0,:]) # length of 1st sequence after padding the caption with zeros."
   ]
  },
  {
   "cell_type": "markdown",
   "metadata": {
    "id": "SlKI1KysDJtc"
   },
   "source": [
    "## 2.2 Building network model - using Keras library (-0.052, 0.013)\n"
   ]
  },
  {
   "cell_type": "markdown",
   "metadata": {
    "id": "GzynUVI799Rs"
   },
   "source": [
    "Split data set to training and test data"
   ]
  },
  {
   "cell_type": "code",
   "execution_count": null,
   "metadata": {
    "id": "cNrj6bZo5sP8"
   },
   "outputs": [],
   "source": [
    "X_train, X_test, Y_train, Y_test = Split_data(X_seq)"
   ]
  },
  {
   "cell_type": "markdown",
   "metadata": {
    "id": "wFLB3Pln-YYm"
   },
   "source": [
    "Shape of the data"
   ]
  },
  {
   "cell_type": "code",
   "execution_count": null,
   "metadata": {
    "colab": {
     "base_uri": "https://localhost:8080/"
    },
    "id": "mzPLy7ARIFEH",
    "outputId": "3fc8e82a-8ce5-4433-9e76-e69f487f438e"
   },
   "outputs": [
    {
     "name": "stdout",
     "output_type": "stream",
     "text": [
      "X_train (4800, 6075)\n",
      "X_test (1200, 6075)\n",
      "Y_train (4800, 2)\n",
      "Y_test (1200, 2)\n"
     ]
    }
   ],
   "source": [
    "print('X_train', X_train.shape)\n",
    "print('X_test', X_test.shape)\n",
    "print('Y_train', Y_train.shape)\n",
    "print('Y_test', Y_test.shape)"
   ]
  },
  {
   "cell_type": "markdown",
   "metadata": {
    "id": "5cHOCH_f-j82"
   },
   "source": [
    "### 2.2.1 Construction\n",
    "\n",
    "A dense layer is just a regular layer of neurons in a NN. Each neuron recieves input from all the neurons in the previous layer, thus densely connected. \n",
    "\n",
    "The layer has a weight matrix W, a bias vector b, and the activations of previous layer a. The following is the docstring of class Dense from the keras documentation:\n",
    "\n",
    "*output = activation(dot(input, kernel) + bias)*\n",
    "\n",
    "where activation is the element-wise activation function passed as the activation argument, kernel is a weights matrix created by the layer, and bias is a bias vector created by the layer"
   ]
  },
  {
   "cell_type": "code",
   "execution_count": null,
   "metadata": {
    "id": "tFwb0D5lDJtm"
   },
   "outputs": [],
   "source": [
    "# add dropout - Helps prevent overfitting\n",
    "# add regularizers - Regularizers allow to apply penalties on layer parameters or layer activity during optimization.\n",
    "# activations - Used to determine the output of network. It maps the resulting values in between 0 to 1 or -1 to 1 etc. (depending upon the function).\n",
    "\n",
    "model = Sequential() # The Sequential model is a linear stack of layers.\n",
    "\n",
    "# You can simply add layers via the .add() method:\n",
    "model.add(layers.Dense(10,activation='relu',kernel_regularizer=regularizers.l2(0.0005),input_shape=(max_len,))) # Just your regular densely-connected NN layer.\n",
    "model.add(layers.Dropout(0.5)) #Dropout consists in randomly setting a fraction rate of input units to 0 at each update during training; helps prevent overfitting.\n",
    "model.add(layers.Dense(10,activation='relu',kernel_regularizer=regularizers.l2(0.0005)))\n",
    "model.add(layers.Dropout(0.5))\n",
    "model.add(layers.Dense(2,activation='sigmoid'))"
   ]
  },
  {
   "cell_type": "markdown",
   "metadata": {
    "id": "Y-Deo1W3gmmP"
   },
   "source": [
    "### 2.2.2 Compilation\n",
    "Define three arguments:\n",
    "\n",
    "1.   An optimizer\n",
    "2.   A loss function\n",
    "3.   A list of metrics\n"
   ]
  },
  {
   "cell_type": "code",
   "execution_count": null,
   "metadata": {
    "id": "v0nyOkHeDJto"
   },
   "outputs": [],
   "source": [
    "# compile the model \n",
    "model.compile(optimizer='rmsprop',loss='mse',metrics=['accuracy'])"
   ]
  },
  {
   "cell_type": "markdown",
   "metadata": {
    "id": "qqmp-U6g-tWa"
   },
   "source": [
    "### 2.2.3 Training\n",
    "\n",
    "Train the model using our training and testing data."
   ]
  },
  {
   "cell_type": "code",
   "execution_count": null,
   "metadata": {
    "colab": {
     "base_uri": "https://localhost:8080/"
    },
    "id": "shISLYbEDJtr",
    "outputId": "2b1fe0bc-8d72-42e2-b75e-3d4afc074672"
   },
   "outputs": [
    {
     "name": "stdout",
     "output_type": "stream",
     "text": [
      "Epoch 1/20\n",
      "150/150 [==============================] - 1s 3ms/step - loss: 0.1009 - accuracy: 0.5460\n",
      "Epoch 2/20\n",
      "150/150 [==============================] - 0s 2ms/step - loss: 0.0500 - accuracy: 0.6006\n",
      "Epoch 3/20\n",
      "150/150 [==============================] - 0s 2ms/step - loss: 0.0325 - accuracy: 0.6874\n",
      "Epoch 4/20\n",
      "150/150 [==============================] - 0s 2ms/step - loss: 0.0242 - accuracy: 0.6810\n",
      "Epoch 5/20\n",
      "150/150 [==============================] - 0s 2ms/step - loss: 0.0203 - accuracy: 0.6876\n",
      "Epoch 6/20\n",
      "150/150 [==============================] - 0s 2ms/step - loss: 0.0175 - accuracy: 0.6822\n",
      "Epoch 7/20\n",
      "150/150 [==============================] - 0s 2ms/step - loss: 0.0159 - accuracy: 0.6942\n",
      "Epoch 8/20\n",
      "150/150 [==============================] - 0s 3ms/step - loss: 0.0155 - accuracy: 0.7030\n",
      "Epoch 9/20\n",
      "150/150 [==============================] - 0s 2ms/step - loss: 0.0154 - accuracy: 0.6987\n",
      "Epoch 10/20\n",
      "150/150 [==============================] - 0s 2ms/step - loss: 0.0147 - accuracy: 0.7031\n",
      "Epoch 11/20\n",
      "150/150 [==============================] - 0s 2ms/step - loss: 0.0142 - accuracy: 0.6931\n",
      "Epoch 12/20\n",
      "150/150 [==============================] - 0s 2ms/step - loss: 0.0145 - accuracy: 0.6967\n",
      "Epoch 13/20\n",
      "150/150 [==============================] - 0s 2ms/step - loss: 0.0144 - accuracy: 0.6922\n",
      "Epoch 14/20\n",
      "150/150 [==============================] - 0s 2ms/step - loss: 0.0143 - accuracy: 0.7117\n",
      "Epoch 15/20\n",
      "150/150 [==============================] - 0s 2ms/step - loss: 0.0132 - accuracy: 0.7004\n",
      "Epoch 16/20\n",
      "150/150 [==============================] - 0s 2ms/step - loss: 0.0137 - accuracy: 0.7004\n",
      "Epoch 17/20\n",
      "150/150 [==============================] - 0s 2ms/step - loss: 0.0137 - accuracy: 0.6945\n",
      "Epoch 18/20\n",
      "150/150 [==============================] - 0s 2ms/step - loss: 0.0141 - accuracy: 0.7183\n",
      "Epoch 19/20\n",
      "150/150 [==============================] - 0s 2ms/step - loss: 0.0139 - accuracy: 0.7036\n",
      "Epoch 20/20\n",
      "150/150 [==============================] - 0s 2ms/step - loss: 0.0135 - accuracy: 0.7075\n"
     ]
    }
   ],
   "source": [
    "# training the model \n",
    "history = model.fit(X_train,Y_train,epochs=20)"
   ]
  },
  {
   "cell_type": "markdown",
   "metadata": {
    "id": "oH4h4vqHDJtu"
   },
   "source": [
    "### 2.2.4 Visualising the validation and training loss"
   ]
  },
  {
   "cell_type": "code",
   "execution_count": null,
   "metadata": {
    "colab": {
     "base_uri": "https://localhost:8080/",
     "height": 295
    },
    "id": "pXkZVXSlDJtv",
    "outputId": "f3d86671-b16a-412a-dd45-eee6558efc56"
   },
   "outputs": [
    {
     "data": {
      "image/png": "[encoded data removed]",
      "text/plain": [
       "<Figure size 432x288 with 1 Axes>"
      ]
     },
     "metadata": {
      "needs_background": "light",
      "tags": []
     },
     "output_type": "display_data"
    }
   ],
   "source": [
    "loss = history.history['loss']\n",
    "\n",
    "epochs = range(1,len(loss)+1)\n",
    "\n",
    "plt.plot(epochs,loss,'bo',label='Training loss')\n",
    "plt.title('Training loss')\n",
    "plt.xlabel('Epochs')\n",
    "plt.ylabel('Loss')\n",
    "plt.legend()\n",
    "plt.show()"
   ]
  },
  {
   "cell_type": "markdown",
   "metadata": {
    "id": "NvBXQCgN_rtc"
   },
   "source": [
    "Training and validation accuracy"
   ]
  },
  {
   "cell_type": "code",
   "execution_count": null,
   "metadata": {
    "colab": {
     "base_uri": "https://localhost:8080/",
     "height": 295
    },
    "id": "gDkmKSf5DJtz",
    "outputId": "3e1cfb57-4ce6-42c3-c237-12feb9cf9158"
   },
   "outputs": [
    {
     "data": {
      "image/png": "[encoded data removed]",
      "text/plain": [
       "<Figure size 432x288 with 1 Axes>"
      ]
     },
     "metadata": {
      "needs_background": "light",
      "tags": []
     },
     "output_type": "display_data"
    }
   ],
   "source": [
    "plt.figure()\n",
    "acc = history.history['accuracy']\n",
    "plt.plot(epochs, acc, 'bo', label='Training acc')\n",
    "plt.title('Training accuracy')\n",
    "plt.xlabel('Epochs')\n",
    "plt.ylabel('Acc')\n",
    "plt.legend()\n",
    "plt.show()"
   ]
  },
  {
   "cell_type": "markdown",
   "metadata": {
    "id": "AmAIO4Kn_yxq"
   },
   "source": [
    "Predictions on the newly trained model...."
   ]
  },
  {
   "cell_type": "code",
   "execution_count": null,
   "metadata": {
    "colab": {
     "base_uri": "https://localhost:8080/"
    },
    "id": "_7511uDqz7k8",
    "outputId": "8a2a1429-4270-489a-9fa3-b5d2bc39ff6c"
   },
   "outputs": [
    {
     "name": "stdout",
     "output_type": "stream",
     "text": [
      "The Spearman's correlation coefficient is: -0.052\n",
      "The Spearman's correlation coefficient is: 0.013\n"
     ]
    }
   ],
   "source": [
    "predictions = model.predict(X_test)\n",
    "Get_score(predictions, Y_test) # Try remember what the Spearman scores actually mean!"
   ]
  },
  {
   "cell_type": "markdown",
   "metadata": {
    "id": "7N9SptqXlK8i"
   },
   "source": [
    "Saving your model"
   ]
  },
  {
   "cell_type": "code",
   "execution_count": null,
   "metadata": {
    "id": "uBL0H2sVlltY"
   },
   "outputs": [],
   "source": [
    "model.save('/My Drive/CA684 - Machine Learning Assignment/HMP_Model.h5')  # creates a HDF5 file 'my_model.h5'"
   ]
  },
  {
   "cell_type": "markdown",
   "metadata": {
    "id": "-WbEgmpl96uu"
   },
   "source": [
    "## 2.3 PCA to reduce dimension"
   ]
  },
  {
   "cell_type": "code",
   "execution_count": null,
   "metadata": {
    "id": "b_DrqKSo-CHl"
   },
   "outputs": [],
   "source": [
    "# Generate column names\n",
    "columns = []\n",
    "for i in range(len(pickl_df_hmp.loc[0,'HMP'])):\n",
    "  columns.append(i)"
   ]
  },
  {
   "cell_type": "code",
   "execution_count": null,
   "metadata": {
    "id": "r60UNGgl-Pet"
   },
   "outputs": [],
   "source": [
    "PCA_HMP = pd.DataFrame(pickl_df_hmp['HMP'].to_list(), columns = columns)"
   ]
  },
  {
   "cell_type": "code",
   "execution_count": null,
   "metadata": {
    "colab": {
     "base_uri": "https://localhost:8080/",
     "height": 244
    },
    "id": "qMri_IKB-mus",
    "outputId": "dd20dd13-205b-4639-ab64-633a92b21326"
   },
   "outputs": [
    {
     "data": {
      "text/html": [
       "<div>\n",
       "<style scoped>\n",
       "    .dataframe tbody tr th:only-of-type {\n",
       "        vertical-align: middle;\n",
       "    }\n",
       "\n",
       "    .dataframe tbody tr th {\n",
       "        vertical-align: top;\n",
       "    }\n",
       "\n",
       "    .dataframe thead th {\n",
       "        text-align: right;\n",
       "    }\n",
       "</style>\n",
       "<table border=\"1\" class=\"dataframe\">\n",
       "  <thead>\n",
       "    <tr style=\"text-align: right;\">\n",
       "      <th></th>\n",
       "      <th>0</th>\n",
       "      <th>1</th>\n",
       "      <th>2</th>\n",
       "      <th>3</th>\n",
       "      <th>4</th>\n",
       "      <th>5</th>\n",
       "      <th>6</th>\n",
       "      <th>7</th>\n",
       "      <th>8</th>\n",
       "      <th>9</th>\n",
       "      <th>10</th>\n",
       "      <th>11</th>\n",
       "      <th>12</th>\n",
       "      <th>13</th>\n",
       "      <th>14</th>\n",
       "      <th>15</th>\n",
       "      <th>16</th>\n",
       "      <th>17</th>\n",
       "      <th>18</th>\n",
       "      <th>19</th>\n",
       "      <th>20</th>\n",
       "      <th>21</th>\n",
       "      <th>22</th>\n",
       "      <th>23</th>\n",
       "      <th>24</th>\n",
       "      <th>25</th>\n",
       "      <th>26</th>\n",
       "      <th>27</th>\n",
       "      <th>28</th>\n",
       "      <th>29</th>\n",
       "      <th>30</th>\n",
       "      <th>31</th>\n",
       "      <th>32</th>\n",
       "      <th>33</th>\n",
       "      <th>34</th>\n",
       "      <th>35</th>\n",
       "      <th>36</th>\n",
       "      <th>37</th>\n",
       "      <th>38</th>\n",
       "      <th>39</th>\n",
       "      <th>...</th>\n",
       "      <th>6035</th>\n",
       "      <th>6036</th>\n",
       "      <th>6037</th>\n",
       "      <th>6038</th>\n",
       "      <th>6039</th>\n",
       "      <th>6040</th>\n",
       "      <th>6041</th>\n",
       "      <th>6042</th>\n",
       "      <th>6043</th>\n",
       "      <th>6044</th>\n",
       "      <th>6045</th>\n",
       "      <th>6046</th>\n",
       "      <th>6047</th>\n",
       "      <th>6048</th>\n",
       "      <th>6049</th>\n",
       "      <th>6050</th>\n",
       "      <th>6051</th>\n",
       "      <th>6052</th>\n",
       "      <th>6053</th>\n",
       "      <th>6054</th>\n",
       "      <th>6055</th>\n",
       "      <th>6056</th>\n",
       "      <th>6057</th>\n",
       "      <th>6058</th>\n",
       "      <th>6059</th>\n",
       "      <th>6060</th>\n",
       "      <th>6061</th>\n",
       "      <th>6062</th>\n",
       "      <th>6063</th>\n",
       "      <th>6064</th>\n",
       "      <th>6065</th>\n",
       "      <th>6066</th>\n",
       "      <th>6067</th>\n",
       "      <th>6068</th>\n",
       "      <th>6069</th>\n",
       "      <th>6070</th>\n",
       "      <th>6071</th>\n",
       "      <th>6072</th>\n",
       "      <th>6073</th>\n",
       "      <th>6074</th>\n",
       "    </tr>\n",
       "  </thead>\n",
       "  <tbody>\n",
       "    <tr>\n",
       "      <th>0</th>\n",
       "      <td>0.125563</td>\n",
       "      <td>0.024036</td>\n",
       "      <td>0.000314</td>\n",
       "      <td>0.0</td>\n",
       "      <td>0.015864</td>\n",
       "      <td>0.000358</td>\n",
       "      <td>0.0</td>\n",
       "      <td>0.000000</td>\n",
       "      <td>0.000086</td>\n",
       "      <td>0.0</td>\n",
       "      <td>0.0</td>\n",
       "      <td>0.0</td>\n",
       "      <td>0.0</td>\n",
       "      <td>0.002795</td>\n",
       "      <td>0.000054</td>\n",
       "      <td>0.0</td>\n",
       "      <td>0.000000</td>\n",
       "      <td>0.000037</td>\n",
       "      <td>0.0</td>\n",
       "      <td>0.0</td>\n",
       "      <td>0.0</td>\n",
       "      <td>0.0</td>\n",
       "      <td>0.0</td>\n",
       "      <td>0.0</td>\n",
       "      <td>0.0</td>\n",
       "      <td>0.0</td>\n",
       "      <td>0.000005</td>\n",
       "      <td>0.0</td>\n",
       "      <td>0.0</td>\n",
       "      <td>0.0</td>\n",
       "      <td>0.0</td>\n",
       "      <td>0.0</td>\n",
       "      <td>0.0</td>\n",
       "      <td>0.0</td>\n",
       "      <td>0.0</td>\n",
       "      <td>0.0</td>\n",
       "      <td>0.0</td>\n",
       "      <td>0.0</td>\n",
       "      <td>0.0</td>\n",
       "      <td>0.0</td>\n",
       "      <td>...</td>\n",
       "      <td>0.000002</td>\n",
       "      <td>0.000173</td>\n",
       "      <td>0.000459</td>\n",
       "      <td>0.000000</td>\n",
       "      <td>0.000148</td>\n",
       "      <td>0.000104</td>\n",
       "      <td>0.000000</td>\n",
       "      <td>0.000121</td>\n",
       "      <td>0.000551</td>\n",
       "      <td>0.000000</td>\n",
       "      <td>0.000114</td>\n",
       "      <td>0.000884</td>\n",
       "      <td>0.000002</td>\n",
       "      <td>0.000116</td>\n",
       "      <td>0.000077</td>\n",
       "      <td>0.000002</td>\n",
       "      <td>0.000027</td>\n",
       "      <td>0.000136</td>\n",
       "      <td>0.000000</td>\n",
       "      <td>0.000000</td>\n",
       "      <td>0.000002</td>\n",
       "      <td>0.000000</td>\n",
       "      <td>0.000091</td>\n",
       "      <td>0.000035</td>\n",
       "      <td>0.000000</td>\n",
       "      <td>0.000163</td>\n",
       "      <td>0.000467</td>\n",
       "      <td>0.000002</td>\n",
       "      <td>0.000010</td>\n",
       "      <td>0.000017</td>\n",
       "      <td>0.000000</td>\n",
       "      <td>0.000393</td>\n",
       "      <td>0.000279</td>\n",
       "      <td>0.000000</td>\n",
       "      <td>0.000289</td>\n",
       "      <td>0.001926</td>\n",
       "      <td>0.000000</td>\n",
       "      <td>0.000086</td>\n",
       "      <td>0.000580</td>\n",
       "      <td>0.000000</td>\n",
       "    </tr>\n",
       "    <tr>\n",
       "      <th>1</th>\n",
       "      <td>0.007526</td>\n",
       "      <td>0.001421</td>\n",
       "      <td>0.000068</td>\n",
       "      <td>0.0</td>\n",
       "      <td>0.001184</td>\n",
       "      <td>0.000143</td>\n",
       "      <td>0.0</td>\n",
       "      <td>0.000000</td>\n",
       "      <td>0.000079</td>\n",
       "      <td>0.0</td>\n",
       "      <td>0.0</td>\n",
       "      <td>0.0</td>\n",
       "      <td>0.0</td>\n",
       "      <td>0.000246</td>\n",
       "      <td>0.000024</td>\n",
       "      <td>0.0</td>\n",
       "      <td>0.000000</td>\n",
       "      <td>0.000042</td>\n",
       "      <td>0.0</td>\n",
       "      <td>0.0</td>\n",
       "      <td>0.0</td>\n",
       "      <td>0.0</td>\n",
       "      <td>0.0</td>\n",
       "      <td>0.0</td>\n",
       "      <td>0.0</td>\n",
       "      <td>0.0</td>\n",
       "      <td>0.000004</td>\n",
       "      <td>0.0</td>\n",
       "      <td>0.0</td>\n",
       "      <td>0.0</td>\n",
       "      <td>0.0</td>\n",
       "      <td>0.0</td>\n",
       "      <td>0.0</td>\n",
       "      <td>0.0</td>\n",
       "      <td>0.0</td>\n",
       "      <td>0.0</td>\n",
       "      <td>0.0</td>\n",
       "      <td>0.0</td>\n",
       "      <td>0.0</td>\n",
       "      <td>0.0</td>\n",
       "      <td>...</td>\n",
       "      <td>0.000685</td>\n",
       "      <td>0.000308</td>\n",
       "      <td>0.001054</td>\n",
       "      <td>0.000751</td>\n",
       "      <td>0.000176</td>\n",
       "      <td>0.000062</td>\n",
       "      <td>0.000000</td>\n",
       "      <td>0.000123</td>\n",
       "      <td>0.000398</td>\n",
       "      <td>0.000086</td>\n",
       "      <td>0.000246</td>\n",
       "      <td>0.000433</td>\n",
       "      <td>0.000446</td>\n",
       "      <td>0.000143</td>\n",
       "      <td>0.000053</td>\n",
       "      <td>0.000000</td>\n",
       "      <td>0.000053</td>\n",
       "      <td>0.000099</td>\n",
       "      <td>0.000009</td>\n",
       "      <td>0.000004</td>\n",
       "      <td>0.000033</td>\n",
       "      <td>0.000004</td>\n",
       "      <td>0.000051</td>\n",
       "      <td>0.000035</td>\n",
       "      <td>0.000000</td>\n",
       "      <td>0.000062</td>\n",
       "      <td>0.000358</td>\n",
       "      <td>0.000035</td>\n",
       "      <td>0.000024</td>\n",
       "      <td>0.000083</td>\n",
       "      <td>0.000053</td>\n",
       "      <td>0.000244</td>\n",
       "      <td>0.000066</td>\n",
       "      <td>0.000000</td>\n",
       "      <td>0.000081</td>\n",
       "      <td>0.000617</td>\n",
       "      <td>0.000094</td>\n",
       "      <td>0.000220</td>\n",
       "      <td>0.000762</td>\n",
       "      <td>0.001224</td>\n",
       "    </tr>\n",
       "    <tr>\n",
       "      <th>2</th>\n",
       "      <td>0.109584</td>\n",
       "      <td>0.018978</td>\n",
       "      <td>0.000289</td>\n",
       "      <td>0.0</td>\n",
       "      <td>0.008774</td>\n",
       "      <td>0.000208</td>\n",
       "      <td>0.0</td>\n",
       "      <td>0.000002</td>\n",
       "      <td>0.000088</td>\n",
       "      <td>0.0</td>\n",
       "      <td>0.0</td>\n",
       "      <td>0.0</td>\n",
       "      <td>0.0</td>\n",
       "      <td>0.002046</td>\n",
       "      <td>0.000061</td>\n",
       "      <td>0.0</td>\n",
       "      <td>0.000000</td>\n",
       "      <td>0.000038</td>\n",
       "      <td>0.0</td>\n",
       "      <td>0.0</td>\n",
       "      <td>0.0</td>\n",
       "      <td>0.0</td>\n",
       "      <td>0.0</td>\n",
       "      <td>0.0</td>\n",
       "      <td>0.0</td>\n",
       "      <td>0.0</td>\n",
       "      <td>0.000002</td>\n",
       "      <td>0.0</td>\n",
       "      <td>0.0</td>\n",
       "      <td>0.0</td>\n",
       "      <td>0.0</td>\n",
       "      <td>0.0</td>\n",
       "      <td>0.0</td>\n",
       "      <td>0.0</td>\n",
       "      <td>0.0</td>\n",
       "      <td>0.0</td>\n",
       "      <td>0.0</td>\n",
       "      <td>0.0</td>\n",
       "      <td>0.0</td>\n",
       "      <td>0.0</td>\n",
       "      <td>...</td>\n",
       "      <td>0.000083</td>\n",
       "      <td>0.000057</td>\n",
       "      <td>0.000158</td>\n",
       "      <td>0.000073</td>\n",
       "      <td>0.000021</td>\n",
       "      <td>0.000009</td>\n",
       "      <td>0.000002</td>\n",
       "      <td>0.000019</td>\n",
       "      <td>0.000095</td>\n",
       "      <td>0.000021</td>\n",
       "      <td>0.000019</td>\n",
       "      <td>0.000090</td>\n",
       "      <td>0.000073</td>\n",
       "      <td>0.000050</td>\n",
       "      <td>0.000024</td>\n",
       "      <td>0.000000</td>\n",
       "      <td>0.000012</td>\n",
       "      <td>0.000021</td>\n",
       "      <td>0.000000</td>\n",
       "      <td>0.000000</td>\n",
       "      <td>0.000002</td>\n",
       "      <td>0.000000</td>\n",
       "      <td>0.000017</td>\n",
       "      <td>0.000007</td>\n",
       "      <td>0.000002</td>\n",
       "      <td>0.000066</td>\n",
       "      <td>0.000203</td>\n",
       "      <td>0.000026</td>\n",
       "      <td>0.000002</td>\n",
       "      <td>0.000040</td>\n",
       "      <td>0.000007</td>\n",
       "      <td>0.000054</td>\n",
       "      <td>0.000045</td>\n",
       "      <td>0.000000</td>\n",
       "      <td>0.000028</td>\n",
       "      <td>0.000291</td>\n",
       "      <td>0.000033</td>\n",
       "      <td>0.000052</td>\n",
       "      <td>0.000258</td>\n",
       "      <td>0.000215</td>\n",
       "    </tr>\n",
       "    <tr>\n",
       "      <th>3</th>\n",
       "      <td>0.120431</td>\n",
       "      <td>0.013561</td>\n",
       "      <td>0.000277</td>\n",
       "      <td>0.0</td>\n",
       "      <td>0.018974</td>\n",
       "      <td>0.000913</td>\n",
       "      <td>0.0</td>\n",
       "      <td>0.000024</td>\n",
       "      <td>0.000713</td>\n",
       "      <td>0.0</td>\n",
       "      <td>0.0</td>\n",
       "      <td>0.0</td>\n",
       "      <td>0.0</td>\n",
       "      <td>0.002496</td>\n",
       "      <td>0.000149</td>\n",
       "      <td>0.0</td>\n",
       "      <td>0.000011</td>\n",
       "      <td>0.000157</td>\n",
       "      <td>0.0</td>\n",
       "      <td>0.0</td>\n",
       "      <td>0.0</td>\n",
       "      <td>0.0</td>\n",
       "      <td>0.0</td>\n",
       "      <td>0.0</td>\n",
       "      <td>0.0</td>\n",
       "      <td>0.0</td>\n",
       "      <td>0.000005</td>\n",
       "      <td>0.0</td>\n",
       "      <td>0.0</td>\n",
       "      <td>0.0</td>\n",
       "      <td>0.0</td>\n",
       "      <td>0.0</td>\n",
       "      <td>0.0</td>\n",
       "      <td>0.0</td>\n",
       "      <td>0.0</td>\n",
       "      <td>0.0</td>\n",
       "      <td>0.0</td>\n",
       "      <td>0.0</td>\n",
       "      <td>0.0</td>\n",
       "      <td>0.0</td>\n",
       "      <td>...</td>\n",
       "      <td>0.000210</td>\n",
       "      <td>0.000434</td>\n",
       "      <td>0.000543</td>\n",
       "      <td>0.000412</td>\n",
       "      <td>0.000412</td>\n",
       "      <td>0.000045</td>\n",
       "      <td>0.000003</td>\n",
       "      <td>0.000144</td>\n",
       "      <td>0.000282</td>\n",
       "      <td>0.000037</td>\n",
       "      <td>0.000197</td>\n",
       "      <td>0.000218</td>\n",
       "      <td>0.000157</td>\n",
       "      <td>0.000237</td>\n",
       "      <td>0.000021</td>\n",
       "      <td>0.000000</td>\n",
       "      <td>0.000040</td>\n",
       "      <td>0.000056</td>\n",
       "      <td>0.000008</td>\n",
       "      <td>0.000005</td>\n",
       "      <td>0.000013</td>\n",
       "      <td>0.000019</td>\n",
       "      <td>0.000168</td>\n",
       "      <td>0.000013</td>\n",
       "      <td>0.000000</td>\n",
       "      <td>0.000133</td>\n",
       "      <td>0.000202</td>\n",
       "      <td>0.000029</td>\n",
       "      <td>0.000029</td>\n",
       "      <td>0.000035</td>\n",
       "      <td>0.000059</td>\n",
       "      <td>0.001110</td>\n",
       "      <td>0.000075</td>\n",
       "      <td>0.000008</td>\n",
       "      <td>0.000333</td>\n",
       "      <td>0.000793</td>\n",
       "      <td>0.000101</td>\n",
       "      <td>0.000588</td>\n",
       "      <td>0.000503</td>\n",
       "      <td>0.000452</td>\n",
       "    </tr>\n",
       "    <tr>\n",
       "      <th>4</th>\n",
       "      <td>0.005026</td>\n",
       "      <td>0.001356</td>\n",
       "      <td>0.000055</td>\n",
       "      <td>0.0</td>\n",
       "      <td>0.000665</td>\n",
       "      <td>0.000029</td>\n",
       "      <td>0.0</td>\n",
       "      <td>0.000000</td>\n",
       "      <td>0.000024</td>\n",
       "      <td>0.0</td>\n",
       "      <td>0.0</td>\n",
       "      <td>0.0</td>\n",
       "      <td>0.0</td>\n",
       "      <td>0.000147</td>\n",
       "      <td>0.000020</td>\n",
       "      <td>0.0</td>\n",
       "      <td>0.000000</td>\n",
       "      <td>0.000000</td>\n",
       "      <td>0.0</td>\n",
       "      <td>0.0</td>\n",
       "      <td>0.0</td>\n",
       "      <td>0.0</td>\n",
       "      <td>0.0</td>\n",
       "      <td>0.0</td>\n",
       "      <td>0.0</td>\n",
       "      <td>0.0</td>\n",
       "      <td>0.000000</td>\n",
       "      <td>0.0</td>\n",
       "      <td>0.0</td>\n",
       "      <td>0.0</td>\n",
       "      <td>0.0</td>\n",
       "      <td>0.0</td>\n",
       "      <td>0.0</td>\n",
       "      <td>0.0</td>\n",
       "      <td>0.0</td>\n",
       "      <td>0.0</td>\n",
       "      <td>0.0</td>\n",
       "      <td>0.0</td>\n",
       "      <td>0.0</td>\n",
       "      <td>0.0</td>\n",
       "      <td>...</td>\n",
       "      <td>0.000160</td>\n",
       "      <td>0.000996</td>\n",
       "      <td>0.001604</td>\n",
       "      <td>0.000103</td>\n",
       "      <td>0.000768</td>\n",
       "      <td>0.000215</td>\n",
       "      <td>0.000009</td>\n",
       "      <td>0.000415</td>\n",
       "      <td>0.000926</td>\n",
       "      <td>0.000020</td>\n",
       "      <td>0.000538</td>\n",
       "      <td>0.001178</td>\n",
       "      <td>0.000050</td>\n",
       "      <td>0.000518</td>\n",
       "      <td>0.000169</td>\n",
       "      <td>0.000007</td>\n",
       "      <td>0.000134</td>\n",
       "      <td>0.000169</td>\n",
       "      <td>0.000007</td>\n",
       "      <td>0.000026</td>\n",
       "      <td>0.000046</td>\n",
       "      <td>0.000007</td>\n",
       "      <td>0.000373</td>\n",
       "      <td>0.000088</td>\n",
       "      <td>0.000000</td>\n",
       "      <td>0.000338</td>\n",
       "      <td>0.000441</td>\n",
       "      <td>0.000029</td>\n",
       "      <td>0.000070</td>\n",
       "      <td>0.000149</td>\n",
       "      <td>0.000009</td>\n",
       "      <td>0.000882</td>\n",
       "      <td>0.000200</td>\n",
       "      <td>0.000009</td>\n",
       "      <td>0.000559</td>\n",
       "      <td>0.001097</td>\n",
       "      <td>0.000018</td>\n",
       "      <td>0.000632</td>\n",
       "      <td>0.001128</td>\n",
       "      <td>0.000064</td>\n",
       "    </tr>\n",
       "  </tbody>\n",
       "</table>\n",
       "<p>5 rows × 6075 columns</p>\n",
       "</div>"
      ],
      "text/plain": [
       "       0         1         2     3     ...      6071      6072      6073      6074\n",
       "0  0.125563  0.024036  0.000314   0.0  ...  0.000000  0.000086  0.000580  0.000000\n",
       "1  0.007526  0.001421  0.000068   0.0  ...  0.000094  0.000220  0.000762  0.001224\n",
       "2  0.109584  0.018978  0.000289   0.0  ...  0.000033  0.000052  0.000258  0.000215\n",
       "3  0.120431  0.013561  0.000277   0.0  ...  0.000101  0.000588  0.000503  0.000452\n",
       "4  0.005026  0.001356  0.000055   0.0  ...  0.000018  0.000632  0.001128  0.000064\n",
       "\n",
       "[5 rows x 6075 columns]"
      ]
     },
     "execution_count": 146,
     "metadata": {
      "tags": []
     },
     "output_type": "execute_result"
    }
   ],
   "source": [
    "PCA_HMP.head()"
   ]
  },
  {
   "cell_type": "code",
   "execution_count": null,
   "metadata": {
    "colab": {
     "base_uri": "https://localhost:8080/"
    },
    "id": "PSFCEDKD-3-w",
    "outputId": "a8c21ea3-2d45-4cab-ea69-0417343da4cf"
   },
   "outputs": [
    {
     "data": {
      "text/plain": [
       "100"
      ]
     },
     "execution_count": 161,
     "metadata": {
      "tags": []
     },
     "output_type": "execute_result"
    }
   ],
   "source": [
    "# Generate column names\n",
    "PCA_columns = []\n",
    "for i in range(100):\n",
    "  PCA_columns.append('PCA'+str(i))\n",
    "len(PCA_columns)"
   ]
  },
  {
   "cell_type": "code",
   "execution_count": null,
   "metadata": {
    "colab": {
     "base_uri": "https://localhost:8080/",
     "height": 244
    },
    "id": "miOISJXG-v8J",
    "outputId": "a80be995-5b8a-4b9a-a877-2f88232ce18c"
   },
   "outputs": [
    {
     "data": {
      "text/html": [
       "<div>\n",
       "<style scoped>\n",
       "    .dataframe tbody tr th:only-of-type {\n",
       "        vertical-align: middle;\n",
       "    }\n",
       "\n",
       "    .dataframe tbody tr th {\n",
       "        vertical-align: top;\n",
       "    }\n",
       "\n",
       "    .dataframe thead th {\n",
       "        text-align: right;\n",
       "    }\n",
       "</style>\n",
       "<table border=\"1\" class=\"dataframe\">\n",
       "  <thead>\n",
       "    <tr style=\"text-align: right;\">\n",
       "      <th></th>\n",
       "      <th>PCA0</th>\n",
       "      <th>PCA1</th>\n",
       "      <th>PCA2</th>\n",
       "      <th>PCA3</th>\n",
       "      <th>PCA4</th>\n",
       "      <th>PCA5</th>\n",
       "      <th>PCA6</th>\n",
       "      <th>PCA7</th>\n",
       "      <th>PCA8</th>\n",
       "      <th>PCA9</th>\n",
       "      <th>PCA10</th>\n",
       "      <th>PCA11</th>\n",
       "      <th>PCA12</th>\n",
       "      <th>PCA13</th>\n",
       "      <th>PCA14</th>\n",
       "      <th>PCA15</th>\n",
       "      <th>PCA16</th>\n",
       "      <th>PCA17</th>\n",
       "      <th>PCA18</th>\n",
       "      <th>PCA19</th>\n",
       "      <th>PCA20</th>\n",
       "      <th>PCA21</th>\n",
       "      <th>PCA22</th>\n",
       "      <th>PCA23</th>\n",
       "      <th>PCA24</th>\n",
       "      <th>PCA25</th>\n",
       "      <th>PCA26</th>\n",
       "      <th>PCA27</th>\n",
       "      <th>PCA28</th>\n",
       "      <th>PCA29</th>\n",
       "      <th>PCA30</th>\n",
       "      <th>PCA31</th>\n",
       "      <th>PCA32</th>\n",
       "      <th>PCA33</th>\n",
       "      <th>PCA34</th>\n",
       "      <th>PCA35</th>\n",
       "      <th>PCA36</th>\n",
       "      <th>PCA37</th>\n",
       "      <th>PCA38</th>\n",
       "      <th>PCA39</th>\n",
       "      <th>...</th>\n",
       "      <th>PCA60</th>\n",
       "      <th>PCA61</th>\n",
       "      <th>PCA62</th>\n",
       "      <th>PCA63</th>\n",
       "      <th>PCA64</th>\n",
       "      <th>PCA65</th>\n",
       "      <th>PCA66</th>\n",
       "      <th>PCA67</th>\n",
       "      <th>PCA68</th>\n",
       "      <th>PCA69</th>\n",
       "      <th>PCA70</th>\n",
       "      <th>PCA71</th>\n",
       "      <th>PCA72</th>\n",
       "      <th>PCA73</th>\n",
       "      <th>PCA74</th>\n",
       "      <th>PCA75</th>\n",
       "      <th>PCA76</th>\n",
       "      <th>PCA77</th>\n",
       "      <th>PCA78</th>\n",
       "      <th>PCA79</th>\n",
       "      <th>PCA80</th>\n",
       "      <th>PCA81</th>\n",
       "      <th>PCA82</th>\n",
       "      <th>PCA83</th>\n",
       "      <th>PCA84</th>\n",
       "      <th>PCA85</th>\n",
       "      <th>PCA86</th>\n",
       "      <th>PCA87</th>\n",
       "      <th>PCA88</th>\n",
       "      <th>PCA89</th>\n",
       "      <th>PCA90</th>\n",
       "      <th>PCA91</th>\n",
       "      <th>PCA92</th>\n",
       "      <th>PCA93</th>\n",
       "      <th>PCA94</th>\n",
       "      <th>PCA95</th>\n",
       "      <th>PCA96</th>\n",
       "      <th>PCA97</th>\n",
       "      <th>PCA98</th>\n",
       "      <th>PCA99</th>\n",
       "    </tr>\n",
       "  </thead>\n",
       "  <tbody>\n",
       "    <tr>\n",
       "      <th>0</th>\n",
       "      <td>0.102093</td>\n",
       "      <td>-0.022775</td>\n",
       "      <td>-0.012566</td>\n",
       "      <td>-0.007334</td>\n",
       "      <td>0.005708</td>\n",
       "      <td>-0.018789</td>\n",
       "      <td>-0.010647</td>\n",
       "      <td>-0.007567</td>\n",
       "      <td>-0.000473</td>\n",
       "      <td>-0.004699</td>\n",
       "      <td>0.005531</td>\n",
       "      <td>0.001799</td>\n",
       "      <td>0.003617</td>\n",
       "      <td>0.005426</td>\n",
       "      <td>-0.000819</td>\n",
       "      <td>0.001739</td>\n",
       "      <td>0.003488</td>\n",
       "      <td>-0.003767</td>\n",
       "      <td>-0.000426</td>\n",
       "      <td>-0.003877</td>\n",
       "      <td>0.001663</td>\n",
       "      <td>-0.003303</td>\n",
       "      <td>-0.001731</td>\n",
       "      <td>-0.001289</td>\n",
       "      <td>0.002878</td>\n",
       "      <td>0.002616</td>\n",
       "      <td>-0.000529</td>\n",
       "      <td>-0.002209</td>\n",
       "      <td>0.003940</td>\n",
       "      <td>0.000231</td>\n",
       "      <td>0.000560</td>\n",
       "      <td>0.001313</td>\n",
       "      <td>-0.004649</td>\n",
       "      <td>0.000695</td>\n",
       "      <td>-0.000826</td>\n",
       "      <td>0.001018</td>\n",
       "      <td>0.000146</td>\n",
       "      <td>0.002140</td>\n",
       "      <td>0.000679</td>\n",
       "      <td>-0.000389</td>\n",
       "      <td>...</td>\n",
       "      <td>0.000686</td>\n",
       "      <td>-0.001101</td>\n",
       "      <td>0.000956</td>\n",
       "      <td>0.000006</td>\n",
       "      <td>0.000636</td>\n",
       "      <td>-0.000757</td>\n",
       "      <td>-0.000709</td>\n",
       "      <td>0.000474</td>\n",
       "      <td>0.001631</td>\n",
       "      <td>-0.001092</td>\n",
       "      <td>-0.000019</td>\n",
       "      <td>-0.000768</td>\n",
       "      <td>0.001675</td>\n",
       "      <td>-0.000491</td>\n",
       "      <td>-0.001406</td>\n",
       "      <td>-0.000301</td>\n",
       "      <td>0.001170</td>\n",
       "      <td>-0.000693</td>\n",
       "      <td>0.000358</td>\n",
       "      <td>-0.000248</td>\n",
       "      <td>0.000824</td>\n",
       "      <td>0.001156</td>\n",
       "      <td>0.000402</td>\n",
       "      <td>0.000302</td>\n",
       "      <td>0.000277</td>\n",
       "      <td>-0.000009</td>\n",
       "      <td>0.001263</td>\n",
       "      <td>-0.000399</td>\n",
       "      <td>0.000162</td>\n",
       "      <td>-0.000914</td>\n",
       "      <td>0.000664</td>\n",
       "      <td>0.000948</td>\n",
       "      <td>-0.000094</td>\n",
       "      <td>-0.000372</td>\n",
       "      <td>0.000333</td>\n",
       "      <td>-0.000205</td>\n",
       "      <td>0.000074</td>\n",
       "      <td>-0.000604</td>\n",
       "      <td>-0.000542</td>\n",
       "      <td>-0.000070</td>\n",
       "    </tr>\n",
       "    <tr>\n",
       "      <th>1</th>\n",
       "      <td>-0.027480</td>\n",
       "      <td>0.014782</td>\n",
       "      <td>-0.007706</td>\n",
       "      <td>0.004680</td>\n",
       "      <td>-0.018600</td>\n",
       "      <td>0.005358</td>\n",
       "      <td>-0.018797</td>\n",
       "      <td>-0.010442</td>\n",
       "      <td>0.015245</td>\n",
       "      <td>0.009886</td>\n",
       "      <td>0.003516</td>\n",
       "      <td>-0.000194</td>\n",
       "      <td>0.002001</td>\n",
       "      <td>-0.002598</td>\n",
       "      <td>-0.003027</td>\n",
       "      <td>0.005247</td>\n",
       "      <td>0.000675</td>\n",
       "      <td>-0.003136</td>\n",
       "      <td>0.003093</td>\n",
       "      <td>0.001711</td>\n",
       "      <td>-0.005403</td>\n",
       "      <td>0.002060</td>\n",
       "      <td>0.001747</td>\n",
       "      <td>0.000776</td>\n",
       "      <td>0.000742</td>\n",
       "      <td>0.001425</td>\n",
       "      <td>0.000882</td>\n",
       "      <td>-0.000961</td>\n",
       "      <td>0.000328</td>\n",
       "      <td>-0.002514</td>\n",
       "      <td>-0.000230</td>\n",
       "      <td>-0.000283</td>\n",
       "      <td>0.001731</td>\n",
       "      <td>-0.000941</td>\n",
       "      <td>-0.003579</td>\n",
       "      <td>-0.000543</td>\n",
       "      <td>-0.003754</td>\n",
       "      <td>0.001298</td>\n",
       "      <td>0.002444</td>\n",
       "      <td>-0.002914</td>\n",
       "      <td>...</td>\n",
       "      <td>-0.000028</td>\n",
       "      <td>0.000133</td>\n",
       "      <td>-0.000056</td>\n",
       "      <td>0.000571</td>\n",
       "      <td>0.000484</td>\n",
       "      <td>0.000111</td>\n",
       "      <td>-0.000657</td>\n",
       "      <td>0.000697</td>\n",
       "      <td>-0.000809</td>\n",
       "      <td>0.000918</td>\n",
       "      <td>0.000584</td>\n",
       "      <td>0.000374</td>\n",
       "      <td>0.000753</td>\n",
       "      <td>-0.000641</td>\n",
       "      <td>0.000597</td>\n",
       "      <td>0.000500</td>\n",
       "      <td>0.000612</td>\n",
       "      <td>-0.000516</td>\n",
       "      <td>-0.000896</td>\n",
       "      <td>-0.000473</td>\n",
       "      <td>-0.000480</td>\n",
       "      <td>0.000880</td>\n",
       "      <td>0.000028</td>\n",
       "      <td>-0.000050</td>\n",
       "      <td>-0.000154</td>\n",
       "      <td>0.000063</td>\n",
       "      <td>-0.000723</td>\n",
       "      <td>-0.000237</td>\n",
       "      <td>0.001015</td>\n",
       "      <td>-0.000348</td>\n",
       "      <td>0.000590</td>\n",
       "      <td>0.000145</td>\n",
       "      <td>0.000008</td>\n",
       "      <td>-0.000098</td>\n",
       "      <td>0.000243</td>\n",
       "      <td>-0.000421</td>\n",
       "      <td>0.000326</td>\n",
       "      <td>0.000379</td>\n",
       "      <td>-0.000112</td>\n",
       "      <td>0.000087</td>\n",
       "    </tr>\n",
       "    <tr>\n",
       "      <th>2</th>\n",
       "      <td>0.096392</td>\n",
       "      <td>-0.022249</td>\n",
       "      <td>-0.023496</td>\n",
       "      <td>0.008948</td>\n",
       "      <td>0.043130</td>\n",
       "      <td>0.011504</td>\n",
       "      <td>-0.003400</td>\n",
       "      <td>-0.009570</td>\n",
       "      <td>0.002707</td>\n",
       "      <td>0.013276</td>\n",
       "      <td>0.008228</td>\n",
       "      <td>0.036603</td>\n",
       "      <td>-0.014472</td>\n",
       "      <td>-0.002949</td>\n",
       "      <td>-0.008191</td>\n",
       "      <td>-0.006012</td>\n",
       "      <td>-0.001919</td>\n",
       "      <td>0.000720</td>\n",
       "      <td>-0.012390</td>\n",
       "      <td>0.004713</td>\n",
       "      <td>0.005475</td>\n",
       "      <td>-0.002971</td>\n",
       "      <td>0.000204</td>\n",
       "      <td>0.005824</td>\n",
       "      <td>-0.009904</td>\n",
       "      <td>-0.006276</td>\n",
       "      <td>0.007628</td>\n",
       "      <td>-0.008600</td>\n",
       "      <td>-0.009220</td>\n",
       "      <td>-0.000917</td>\n",
       "      <td>-0.001893</td>\n",
       "      <td>0.005368</td>\n",
       "      <td>-0.001458</td>\n",
       "      <td>0.001671</td>\n",
       "      <td>-0.004418</td>\n",
       "      <td>-0.003758</td>\n",
       "      <td>0.001497</td>\n",
       "      <td>-0.001146</td>\n",
       "      <td>0.002702</td>\n",
       "      <td>-0.003932</td>\n",
       "      <td>...</td>\n",
       "      <td>0.003415</td>\n",
       "      <td>-0.001226</td>\n",
       "      <td>0.001802</td>\n",
       "      <td>0.002888</td>\n",
       "      <td>-0.000958</td>\n",
       "      <td>-0.000287</td>\n",
       "      <td>0.001331</td>\n",
       "      <td>0.001735</td>\n",
       "      <td>-0.002474</td>\n",
       "      <td>0.000686</td>\n",
       "      <td>-0.001950</td>\n",
       "      <td>-0.000136</td>\n",
       "      <td>-0.002721</td>\n",
       "      <td>0.002133</td>\n",
       "      <td>-0.001793</td>\n",
       "      <td>-0.000780</td>\n",
       "      <td>-0.001529</td>\n",
       "      <td>0.003039</td>\n",
       "      <td>-0.001779</td>\n",
       "      <td>-0.000818</td>\n",
       "      <td>0.001021</td>\n",
       "      <td>-0.001488</td>\n",
       "      <td>0.001712</td>\n",
       "      <td>-0.000242</td>\n",
       "      <td>0.000550</td>\n",
       "      <td>0.000275</td>\n",
       "      <td>0.001122</td>\n",
       "      <td>-0.000201</td>\n",
       "      <td>-0.000899</td>\n",
       "      <td>0.001957</td>\n",
       "      <td>-0.000146</td>\n",
       "      <td>-0.000931</td>\n",
       "      <td>0.000932</td>\n",
       "      <td>0.001023</td>\n",
       "      <td>-0.001124</td>\n",
       "      <td>-0.001650</td>\n",
       "      <td>-0.002091</td>\n",
       "      <td>0.000261</td>\n",
       "      <td>-0.001202</td>\n",
       "      <td>0.000845</td>\n",
       "    </tr>\n",
       "    <tr>\n",
       "      <th>3</th>\n",
       "      <td>0.110719</td>\n",
       "      <td>-0.006592</td>\n",
       "      <td>-0.007290</td>\n",
       "      <td>-0.005581</td>\n",
       "      <td>-0.027423</td>\n",
       "      <td>0.003599</td>\n",
       "      <td>-0.004011</td>\n",
       "      <td>-0.003332</td>\n",
       "      <td>-0.003770</td>\n",
       "      <td>-0.010008</td>\n",
       "      <td>0.013530</td>\n",
       "      <td>-0.002208</td>\n",
       "      <td>0.005392</td>\n",
       "      <td>0.001321</td>\n",
       "      <td>-0.001405</td>\n",
       "      <td>-0.002194</td>\n",
       "      <td>0.002354</td>\n",
       "      <td>-0.005120</td>\n",
       "      <td>0.008394</td>\n",
       "      <td>-0.002103</td>\n",
       "      <td>-0.000541</td>\n",
       "      <td>-0.001442</td>\n",
       "      <td>-0.001483</td>\n",
       "      <td>0.003393</td>\n",
       "      <td>-0.002315</td>\n",
       "      <td>-0.003217</td>\n",
       "      <td>0.001833</td>\n",
       "      <td>-0.003860</td>\n",
       "      <td>0.001966</td>\n",
       "      <td>0.001425</td>\n",
       "      <td>-0.002136</td>\n",
       "      <td>0.004543</td>\n",
       "      <td>0.002859</td>\n",
       "      <td>-0.002316</td>\n",
       "      <td>0.001759</td>\n",
       "      <td>0.000179</td>\n",
       "      <td>-0.001111</td>\n",
       "      <td>-0.000018</td>\n",
       "      <td>-0.000155</td>\n",
       "      <td>0.002144</td>\n",
       "      <td>...</td>\n",
       "      <td>0.001357</td>\n",
       "      <td>-0.001507</td>\n",
       "      <td>0.000924</td>\n",
       "      <td>0.001645</td>\n",
       "      <td>-0.000108</td>\n",
       "      <td>0.000378</td>\n",
       "      <td>-0.000351</td>\n",
       "      <td>-0.001143</td>\n",
       "      <td>0.000645</td>\n",
       "      <td>0.000369</td>\n",
       "      <td>0.000471</td>\n",
       "      <td>-0.000162</td>\n",
       "      <td>-0.000925</td>\n",
       "      <td>-0.000259</td>\n",
       "      <td>0.000541</td>\n",
       "      <td>-0.000023</td>\n",
       "      <td>-0.000560</td>\n",
       "      <td>-0.000179</td>\n",
       "      <td>-0.000153</td>\n",
       "      <td>-0.000050</td>\n",
       "      <td>-0.000822</td>\n",
       "      <td>-0.000029</td>\n",
       "      <td>0.000164</td>\n",
       "      <td>0.000414</td>\n",
       "      <td>0.000017</td>\n",
       "      <td>-0.000611</td>\n",
       "      <td>0.000162</td>\n",
       "      <td>-0.000239</td>\n",
       "      <td>-0.000103</td>\n",
       "      <td>0.000115</td>\n",
       "      <td>0.000058</td>\n",
       "      <td>0.000420</td>\n",
       "      <td>-0.000091</td>\n",
       "      <td>0.000007</td>\n",
       "      <td>-0.000173</td>\n",
       "      <td>0.000596</td>\n",
       "      <td>-0.000577</td>\n",
       "      <td>-0.000228</td>\n",
       "      <td>0.000071</td>\n",
       "      <td>-0.000306</td>\n",
       "    </tr>\n",
       "    <tr>\n",
       "      <th>4</th>\n",
       "      <td>-0.030392</td>\n",
       "      <td>-0.021138</td>\n",
       "      <td>0.008381</td>\n",
       "      <td>-0.000503</td>\n",
       "      <td>-0.005759</td>\n",
       "      <td>-0.005420</td>\n",
       "      <td>-0.003539</td>\n",
       "      <td>0.004919</td>\n",
       "      <td>0.004206</td>\n",
       "      <td>0.001777</td>\n",
       "      <td>0.004386</td>\n",
       "      <td>0.001321</td>\n",
       "      <td>0.003063</td>\n",
       "      <td>-0.001087</td>\n",
       "      <td>0.000373</td>\n",
       "      <td>0.000313</td>\n",
       "      <td>-0.001862</td>\n",
       "      <td>-0.002668</td>\n",
       "      <td>-0.001388</td>\n",
       "      <td>-0.000905</td>\n",
       "      <td>-0.000816</td>\n",
       "      <td>0.000278</td>\n",
       "      <td>-0.000036</td>\n",
       "      <td>0.001263</td>\n",
       "      <td>-0.000572</td>\n",
       "      <td>0.000263</td>\n",
       "      <td>0.000797</td>\n",
       "      <td>0.000883</td>\n",
       "      <td>-0.000671</td>\n",
       "      <td>0.001334</td>\n",
       "      <td>-0.000042</td>\n",
       "      <td>0.000996</td>\n",
       "      <td>-0.001239</td>\n",
       "      <td>0.000800</td>\n",
       "      <td>0.000967</td>\n",
       "      <td>-0.001019</td>\n",
       "      <td>0.000143</td>\n",
       "      <td>-0.000127</td>\n",
       "      <td>0.001014</td>\n",
       "      <td>-0.000740</td>\n",
       "      <td>...</td>\n",
       "      <td>-0.000228</td>\n",
       "      <td>-0.000564</td>\n",
       "      <td>-0.001063</td>\n",
       "      <td>0.000166</td>\n",
       "      <td>-0.000617</td>\n",
       "      <td>-0.000655</td>\n",
       "      <td>-0.001101</td>\n",
       "      <td>-0.000543</td>\n",
       "      <td>0.000210</td>\n",
       "      <td>0.000010</td>\n",
       "      <td>0.000386</td>\n",
       "      <td>0.000202</td>\n",
       "      <td>-0.000787</td>\n",
       "      <td>-0.000238</td>\n",
       "      <td>0.000293</td>\n",
       "      <td>0.000288</td>\n",
       "      <td>-0.000477</td>\n",
       "      <td>-0.000810</td>\n",
       "      <td>0.000075</td>\n",
       "      <td>-0.000206</td>\n",
       "      <td>0.000217</td>\n",
       "      <td>0.000323</td>\n",
       "      <td>-0.000311</td>\n",
       "      <td>-0.001143</td>\n",
       "      <td>-0.000047</td>\n",
       "      <td>0.000133</td>\n",
       "      <td>0.000830</td>\n",
       "      <td>0.000220</td>\n",
       "      <td>0.000529</td>\n",
       "      <td>-0.000296</td>\n",
       "      <td>0.000287</td>\n",
       "      <td>-0.000058</td>\n",
       "      <td>-0.000141</td>\n",
       "      <td>0.000563</td>\n",
       "      <td>-0.000558</td>\n",
       "      <td>-0.000203</td>\n",
       "      <td>-0.000242</td>\n",
       "      <td>0.000108</td>\n",
       "      <td>0.000144</td>\n",
       "      <td>0.000216</td>\n",
       "    </tr>\n",
       "  </tbody>\n",
       "</table>\n",
       "<p>5 rows × 100 columns</p>\n",
       "</div>"
      ],
      "text/plain": [
       "       PCA0      PCA1      PCA2  ...     PCA97     PCA98     PCA99\n",
       "0  0.102093 -0.022775 -0.012566  ... -0.000604 -0.000542 -0.000070\n",
       "1 -0.027480  0.014782 -0.007706  ...  0.000379 -0.000112  0.000087\n",
       "2  0.096392 -0.022249 -0.023496  ...  0.000261 -0.001202  0.000845\n",
       "3  0.110719 -0.006592 -0.007290  ... -0.000228  0.000071 -0.000306\n",
       "4 -0.030392 -0.021138  0.008381  ...  0.000108  0.000144  0.000216\n",
       "\n",
       "[5 rows x 100 columns]"
      ]
     },
     "execution_count": 162,
     "metadata": {
      "tags": []
     },
     "output_type": "execute_result"
    }
   ],
   "source": [
    "pca = PCA(n_components=100)\n",
    "principalComponents = pca.fit_transform(PCA_HMP)\n",
    "principalDf = pd.DataFrame(data = principalComponents\n",
    "             , columns = PCA_columns)\n",
    "principalDf.head()"
   ]
  },
  {
   "cell_type": "code",
   "execution_count": null,
   "metadata": {
    "colab": {
     "base_uri": "https://localhost:8080/"
    },
    "id": "YaT04zbPQm0t",
    "outputId": "32789660-2090-4e9d-c578-0a3227a3bd48"
   },
   "outputs": [
    {
     "data": {
      "text/plain": [
       "6000"
      ]
     },
     "execution_count": 135,
     "metadata": {
      "tags": []
     },
     "output_type": "execute_result"
    }
   ],
   "source": [
    "len(principalDf['PCA0'])"
   ]
  },
  {
   "cell_type": "code",
   "execution_count": null,
   "metadata": {
    "colab": {
     "base_uri": "https://localhost:8080/"
    },
    "id": "DXIWXiEVAb2e",
    "outputId": "7bdfc057-dfd7-46b3-8ca0-fa9a29775ca2"
   },
   "outputs": [
    {
     "name": "stdout",
     "output_type": "stream",
     "text": [
      "0.1020931051290748\n"
     ]
    }
   ],
   "source": [
    "temp_PCA_Values = np.zeros((len(principalDf['PCA0']),100))\n",
    "for i in range(len(principalDf['PCA0'])):\n",
    "    for j in range(100):\n",
    "      temp_PCA_Values[i,j] = principalDf.loc[i,'PCA'+str(j)]\n",
    "print(temp_PCA_Values[0,0])"
   ]
  },
  {
   "cell_type": "code",
   "execution_count": null,
   "metadata": {
    "colab": {
     "base_uri": "https://localhost:8080/"
    },
    "id": "WuBY1tLyAPs_",
    "outputId": "a6ab282c-bb84-408a-888d-8b986715b9aa"
   },
   "outputs": [
    {
     "data": {
      "text/plain": [
       "(6000, 100)"
      ]
     },
     "execution_count": 164,
     "metadata": {
      "tags": []
     },
     "output_type": "execute_result"
    }
   ],
   "source": [
    "temp_PCA_Values.shape"
   ]
  },
  {
   "cell_type": "code",
   "execution_count": null,
   "metadata": {
    "colab": {
     "base_uri": "https://localhost:8080/"
    },
    "id": "3QdVIHVxPd9_",
    "outputId": "e21becd6-b36e-4f8d-fdb8-bd9208eac4e0"
   },
   "outputs": [
    {
     "data": {
      "text/plain": [
       "0.021012248245125962"
      ]
     },
     "execution_count": 90,
     "metadata": {
      "tags": []
     },
     "output_type": "execute_result"
    }
   ],
   "source": [
    "temp_PCA_Values[5999,0]"
   ]
  },
  {
   "cell_type": "code",
   "execution_count": null,
   "metadata": {
    "id": "ZTs80o3cOp8U"
   },
   "outputs": [],
   "source": [
    "X_train, X_test, Y_train, Y_test = Split_data(temp_PCA_Values)"
   ]
  },
  {
   "cell_type": "markdown",
   "metadata": {
    "id": "aMwx3qaxOvFL"
   },
   "source": [
    "## 2.4 Gradient Boosting Regressor (0.296, 0.058)"
   ]
  },
  {
   "cell_type": "code",
   "execution_count": null,
   "metadata": {
    "colab": {
     "base_uri": "https://localhost:8080/"
    },
    "id": "w9ZPmZ37O4pX",
    "outputId": "c1ca734b-21b3-4ed1-aad6-89689625934d"
   },
   "outputs": [
    {
     "data": {
      "text/plain": [
       "GradientBoostingRegressor(alpha=0.9, ccp_alpha=0.0, criterion='friedman_mse',\n",
       "                          init=None, learning_rate=0.1, loss='ls', max_depth=3,\n",
       "                          max_features=None, max_leaf_nodes=None,\n",
       "                          min_impurity_decrease=0.0, min_impurity_split=None,\n",
       "                          min_samples_leaf=1, min_samples_split=2,\n",
       "                          min_weight_fraction_leaf=0.0, n_estimators=100,\n",
       "                          n_iter_no_change=None, presort='deprecated',\n",
       "                          random_state=None, subsample=1.0, tol=0.0001,\n",
       "                          validation_fraction=0.1, verbose=0, warm_start=False)"
      ]
     },
     "execution_count": 166,
     "metadata": {
      "tags": []
     },
     "output_type": "execute_result"
    }
   ],
   "source": [
    "model= GradientBoostingRegressor()\n",
    "model.fit(X_train, Y_train[:,0])"
   ]
  },
  {
   "cell_type": "code",
   "execution_count": null,
   "metadata": {
    "id": "ynkA4sSnO9WX"
   },
   "outputs": [],
   "source": [
    "predictions = model.predict(X_test)"
   ]
  },
  {
   "cell_type": "code",
   "execution_count": null,
   "metadata": {
    "colab": {
     "base_uri": "https://localhost:8080/"
    },
    "id": "jf9B5UiHPB-S",
    "outputId": "949ee76c-6b50-456c-9015-567de512f491"
   },
   "outputs": [
    {
     "name": "stdout",
     "output_type": "stream",
     "text": [
      "The Spearman's correlation coefficient is: 0.296\n"
     ]
    }
   ],
   "source": [
    "Get_score(predictions, Y_test[:,0])"
   ]
  },
  {
   "cell_type": "code",
   "execution_count": null,
   "metadata": {
    "colab": {
     "base_uri": "https://localhost:8080/"
    },
    "id": "fF_EAYRnRhGs",
    "outputId": "760aee36-037c-4388-b168-9eb480f26a92"
   },
   "outputs": [
    {
     "name": "stdout",
     "output_type": "stream",
     "text": [
      "The Spearman's correlation coefficient is: 0.058\n"
     ]
    }
   ],
   "source": [
    "model= GradientBoostingRegressor()\n",
    "model.fit(X_train, Y_train[:,1])\n",
    "predictions = model.predict(X_test)\n",
    "Get_score(predictions, Y_test[:,1])"
   ]
  },
  {
   "cell_type": "markdown",
   "metadata": {
    "id": "6WPfgiy4SiaP"
   },
   "source": [
    "## 2.5 Random Forest (0.314, 0.080)"
   ]
  },
  {
   "cell_type": "code",
   "execution_count": null,
   "metadata": {
    "id": "nHNakhsaSk58"
   },
   "outputs": [],
   "source": [
    "# Instantiate model with 1000 decision trees\n",
    "rf = RandomForestRegressor(n_estimators = 1000, random_state = 42)\n",
    "# Train the model on training data\n",
    "rf.fit(X_train, Y_train)"
   ]
  },
  {
   "cell_type": "code",
   "execution_count": null,
   "metadata": {
    "id": "T678lHpTSpEV"
   },
   "outputs": [],
   "source": [
    "predictions = rf.predict(X_test)"
   ]
  },
  {
   "cell_type": "code",
   "execution_count": null,
   "metadata": {
    "colab": {
     "base_uri": "https://localhost:8080/"
    },
    "id": "kXF-yc2QSrd3",
    "outputId": "1b6dd999-8d4c-43f7-e313-8ab39abdb674"
   },
   "outputs": [
    {
     "name": "stdout",
     "output_type": "stream",
     "text": [
      "The Spearman's correlation coefficient is: 0.314\n",
      "The Spearman's correlation coefficient is: 0.080\n"
     ]
    }
   ],
   "source": [
    "Get_score(predictions, Y_test)"
   ]
  },
  {
   "cell_type": "markdown",
   "metadata": {
    "id": "acP8Q_dqTcan"
   },
   "source": [
    "## 2.6 Elastic Net (0.272, 0.112)"
   ]
  },
  {
   "cell_type": "code",
   "execution_count": null,
   "metadata": {
    "colab": {
     "base_uri": "https://localhost:8080/"
    },
    "id": "38RFkpUbTfl3",
    "outputId": "438a1c68-bd94-4ae7-ec9a-3488fe36c966"
   },
   "outputs": [
    {
     "name": "stderr",
     "output_type": "stream",
     "text": [
      "/usr/local/lib/python3.7/dist-packages/sklearn/linear_model/_coordinate_descent.py:476: ConvergenceWarning: Objective did not converge. You might want to increase the number of iterations. Duality gap: 14.815319827384897, tolerance: 0.0031603040479166646\n",
      "  positive)\n"
     ]
    },
    {
     "name": "stdout",
     "output_type": "stream",
     "text": [
      "MAE: -0.088\n",
      "Config: {'alpha': 1e-05, 'l1_ratio': 0.0}\n"
     ]
    },
    {
     "name": "stderr",
     "output_type": "stream",
     "text": [
      "/usr/local/lib/python3.7/dist-packages/sklearn/linear_model/_coordinate_descent.py:476: ConvergenceWarning: Objective did not converge. You might want to increase the number of iterations. Duality gap: 48.72059674237346, tolerance: 0.009935011935916671\n",
      "  positive)\n"
     ]
    }
   ],
   "source": [
    "# define model\n",
    "model = ElasticNet()\n",
    "# define model evaluation method\n",
    "cv = RepeatedKFold(n_splits=10, n_repeats=3, random_state=1)\n",
    "# define grid\n",
    "grid = dict()\n",
    "grid['alpha'] = [1e-5, 1e-4, 1e-3, 1e-2, 1e-1, 0.0, 1.0, 10.0, 100.0]\n",
    "grid['l1_ratio'] = arange(0, 1, 0.01)\n",
    "# define search\n",
    "search = GridSearchCV(model, grid, scoring='neg_mean_absolute_error', cv=cv, n_jobs=-1)\n",
    "# perform the search\n",
    "results = search.fit(X_train, Y_train)\n",
    "# summarize\n",
    "print('MAE: %.3f' % results.best_score_)\n",
    "print('Config: %s' % results.best_params_)"
   ]
  },
  {
   "cell_type": "code",
   "execution_count": null,
   "metadata": {
    "colab": {
     "base_uri": "https://localhost:8080/"
    },
    "id": "tocbrvM8TjPh",
    "outputId": "8c7504cc-91e4-494e-ffe7-902f6489788b"
   },
   "outputs": [
    {
     "name": "stderr",
     "output_type": "stream",
     "text": [
      "/usr/local/lib/python3.7/dist-packages/sklearn/linear_model/_coordinate_descent.py:476: ConvergenceWarning: Objective did not converge. You might want to increase the number of iterations. Duality gap: 14.815319827384897, tolerance: 0.0031603040479166646\n",
      "  positive)\n"
     ]
    },
    {
     "name": "stdout",
     "output_type": "stream",
     "text": [
      "The Spearman's correlation coefficient is: 0.272\n",
      "The Spearman's correlation coefficient is: 0.112\n"
     ]
    },
    {
     "name": "stderr",
     "output_type": "stream",
     "text": [
      "/usr/local/lib/python3.7/dist-packages/sklearn/linear_model/_coordinate_descent.py:476: ConvergenceWarning: Objective did not converge. You might want to increase the number of iterations. Duality gap: 48.72059674237346, tolerance: 0.009935011935916671\n",
      "  positive)\n"
     ]
    }
   ],
   "source": [
    "ElasticNet_model = ElasticNet(alpha=1e-05, l1_ratio=0.0)\n",
    "ElasticNet_model.fit(X_train, Y_train)\n",
    "predictions = ElasticNet_model.predict(X_test)\n",
    "Get_score(predictions, Y_test)"
   ]
  },
  {
   "cell_type": "markdown",
   "metadata": {
    "id": "K7_Av7WXTw_J"
   },
   "source": [
    "## 2.7 Support Vector Regressor (0.309, 0.091)"
   ]
  },
  {
   "cell_type": "code",
   "execution_count": null,
   "metadata": {
    "colab": {
     "base_uri": "https://localhost:8080/"
    },
    "id": "tbCRJTqYT6iJ",
    "outputId": "0d86192f-bfc0-472f-cbab-48a0ea93ebca"
   },
   "outputs": [
    {
     "name": "stdout",
     "output_type": "stream",
     "text": [
      "The Spearman's correlation coefficient is: 0.309\n"
     ]
    }
   ],
   "source": [
    "regressor = BaggingRegressor(SVR(kernel = 'rbf'))\n",
    "regressor.fit(X_train, Y_train[:,0]);\n",
    "predictions = regressor.predict(X_test)\n",
    "Get_score(predictions, Y_test[:,0])"
   ]
  },
  {
   "cell_type": "code",
   "execution_count": null,
   "metadata": {
    "colab": {
     "base_uri": "https://localhost:8080/"
    },
    "id": "hfMkbZVUUBYh",
    "outputId": "022c2a0c-1dbc-4b64-c412-a28c117c2868"
   },
   "outputs": [
    {
     "name": "stdout",
     "output_type": "stream",
     "text": [
      "The Spearman's correlation coefficient is: 0.091\n"
     ]
    }
   ],
   "source": [
    "regressor_long_term_memorability =  BaggingRegressor(SVR(kernel = 'rbf'))\n",
    "regressor_long_term_memorability.fit(X_train, Y_train[:,1]);\n",
    "predictions_long_term = regressor_long_term_memorability.predict(X_test)\n",
    "Get_score(predictions_long_term, Y_test[:,1])"
   ]
  },
  {
   "cell_type": "markdown",
   "metadata": {
    "id": "IfInM_4LmmL5"
   },
   "source": [
    "# 3> Predicting video memorability using C3D"
   ]
  },
  {
   "cell_type": "markdown",
   "metadata": {
    "id": "vBK1ypdq-U8B"
   },
   "source": [
    "## 3.1 Loading C3D"
   ]
  },
  {
   "cell_type": "markdown",
   "metadata": {
    "id": "zNGzey2y8pD8"
   },
   "source": [
    "read_C3D() - reads C3D files from the Google drive"
   ]
  },
  {
   "cell_type": "code",
   "execution_count": null,
   "metadata": {
    "id": "RUrHt72Sg5g2"
   },
   "outputs": [],
   "source": [
    "#Change the directory\n",
    "os.chdir('/content/drive/My Drive/CA684_Assignment')\n",
    "\n",
    "# load C3D\n",
    "def read_C3D(fname):\n",
    "    \"\"\"Scan vectors from file\"\"\"\n",
    "    with open(fname) as f:\n",
    "        for line in f:\n",
    "            C3D =[float(item) for item in line.split()] # convert to float type, using default separator\n",
    "    return C3D"
   ]
  },
  {
   "cell_type": "markdown",
   "metadata": {
    "id": "K3G0D_4n87G1"
   },
   "source": [
    "Store C3D features in a dataframe and save the values in pickle file."
   ]
  },
  {
   "cell_type": "code",
   "execution_count": null,
   "metadata": {
    "colab": {
     "base_uri": "https://localhost:8080/"
    },
    "id": "enpo83jRmxtt",
    "outputId": "d6c20c55-fb86-4bf2-f24f-235334eaae4b"
   },
   "outputs": [
    {
     "name": "stderr",
     "output_type": "stream",
     "text": [
      "Loading C3D files\n",
      "0% [##############################] 100% | ETA: 00:00:00"
     ]
    },
    {
     "name": "stdout",
     "output_type": "stream",
     "text": [
      "/content/drive/My Drive\n"
     ]
    },
    {
     "name": "stderr",
     "output_type": "stream",
     "text": [
      "\n",
      "Total time elapsed: 01:07:49\n"
     ]
    }
   ],
   "source": [
    "df_c3d = pd.DataFrame(columns=['video','C3D'])\n",
    "\n",
    "pbar = pyprind.ProgBar(len(labels['video']), title='Loading C3D files')\n",
    "\n",
    "# load the C3D\n",
    "for i, video in enumerate(labels['video']):\n",
    "    File_name = (video.split('.')[0]) + '.txt'\n",
    "    c3d_path = './Dev-set/C3D/' + File_name\n",
    "    df_c3d.loc[i,'video'] = video\n",
    "    df_c3d.loc[i,'C3D'] = read_C3D(c3d_path)\n",
    "    pbar.update()\n",
    "\n",
    "os.chdir('/content/drive/My Drive/')\n",
    "!pwd\n",
    "df_c3d.to_pickle(\"C3D_file.pkl\")"
   ]
  },
  {
   "cell_type": "markdown",
   "metadata": {
    "id": "53rUY9bE9MAh"
   },
   "source": [
    "Load C3D_file.pkl from the Google drive and check the values."
   ]
  },
  {
   "cell_type": "code",
   "execution_count": null,
   "metadata": {
    "colab": {
     "base_uri": "https://localhost:8080/"
    },
    "id": "I_bsyMs37mZ6",
    "outputId": "28b67c59-f5f2-43a1-ae3f-7d356438376d"
   },
   "outputs": [
    {
     "name": "stdout",
     "output_type": "stream",
     "text": [
      "               video                                                C3D\n",
      "0        video3.webm  [0.02024942, 0.0015778, 0.00082625, 0.00094509...\n",
      "1        video4.webm  [0.000118, 0.00089075, 0.00018769, 4.543e-05, ...\n",
      "2        video6.webm  [0.01176522, 0.00074577, 0.00078353, 1.328e-05...\n",
      "3        video8.webm  [0.00022343, 0.00016499, 7.35e-06, 1.615e-05, ...\n",
      "4       video10.webm  [9.006e-05, 0.00061494, 0.00343634, 0.00128092...\n",
      "...              ...                                                ...\n",
      "5995  video7488.webm  [0.35724622, 0.07598178, 0.00302532, 2.772e-05...\n",
      "5996  video7489.webm  [0.19280288, 0.00093812, 0.00506054, 1.35e-06,...\n",
      "5997  video7491.webm  [2.589e-05, 0.00012192, 2.781e-05, 2.608e-05, ...\n",
      "5998  video7492.webm  [0.26509121, 0.09653918, 5.971e-05, 0.00022735...\n",
      "5999  video7493.webm  [0.02058949, 0.00122141, 0.00206607, 0.0023161...\n",
      "\n",
      "[6000 rows x 2 columns]\n"
     ]
    }
   ],
   "source": [
    "os.chdir('/content/drive/My Drive/CA684 - Machine Learning Assignment')\n",
    "pickle_df_c3d = pd.read_pickle(\"C3D_file.pkl\")\n",
    "print(pickle_df_c3d)"
   ]
  },
  {
   "cell_type": "markdown",
   "metadata": {
    "id": "ZfPcp_318YjK"
   },
   "source": [
    "Define the maximum length of sequence"
   ]
  },
  {
   "cell_type": "code",
   "execution_count": null,
   "metadata": {
    "id": "r6Vjez6h8YjK"
   },
   "outputs": [],
   "source": [
    "# calculating max length\n",
    "max_len = 101"
   ]
  },
  {
   "cell_type": "markdown",
   "metadata": {
    "id": "xlzYS1Jg8YjL"
   },
   "source": [
    "Making sequences index same length by calling X_seq function"
   ]
  },
  {
   "cell_type": "code",
   "execution_count": null,
   "metadata": {
    "colab": {
     "base_uri": "https://localhost:8080/"
    },
    "id": "GJYw1GNO8YjL",
    "outputId": "4e898ed6-3494-46e2-e66c-bcbcb528197b"
   },
   "outputs": [
    {
     "name": "stdout",
     "output_type": "stream",
     "text": [
      "101\n",
      "6000\n"
     ]
    }
   ],
   "source": [
    "print(len(pickle_df_c3d.loc[0]['C3D'])) # length of 1st sequence\n",
    "print(len(pickle_df_c3d['C3D']))"
   ]
  },
  {
   "cell_type": "code",
   "execution_count": null,
   "metadata": {
    "colab": {
     "base_uri": "https://localhost:8080/"
    },
    "id": "T2EGmzmC8YjL",
    "outputId": "8837be4d-985d-4229-c1db-1e6cac401763"
   },
   "outputs": [
    {
     "data": {
      "text/plain": [
       "(6000, 101)"
      ]
     },
     "execution_count": 34,
     "metadata": {
      "tags": []
     },
     "output_type": "execute_result"
    }
   ],
   "source": [
    "X_seq = define_x_seq(pickle_df_c3d,max_len,'C3D', len(pickle_df_c3d.loc[0,'C3D']))\n",
    "X_seq.shape"
   ]
  },
  {
   "cell_type": "code",
   "execution_count": null,
   "metadata": {
    "colab": {
     "base_uri": "https://localhost:8080/"
    },
    "id": "Z1fVqICG8YjL",
    "outputId": "1da57c6c-6d55-4ff3-b44e-6e0a6c65316b"
   },
   "outputs": [
    {
     "name": "stdout",
     "output_type": "stream",
     "text": [
      "[2.0589490e-02 1.2214100e-03 2.0660700e-03 2.3161800e-03 1.2580000e-05\n",
      " 5.6380000e-05 2.5767000e-04 1.5191000e-04 4.1251000e-04 1.8630000e-05\n",
      " 4.3249000e-04 1.6259000e-04 1.2113320e-02 5.2986000e-04 4.0460000e-05\n",
      " 2.0667000e-04 7.8200000e-06 8.8940000e-05 2.3304700e-03 8.1199000e-04\n",
      " 4.5800000e-06 4.6400000e-04 2.3897000e-04 1.7790000e-05 2.4846527e-01\n",
      " 2.3047000e-04 1.5688000e-04 1.4170000e-05 6.4286000e-04 1.7171820e-02\n",
      " 1.1053000e-04 2.2820780e-02 4.2470000e-05 1.2259190e-02 3.5050000e-04\n",
      " 1.7605000e-04 3.9480000e-05 4.9804500e-03 1.2539000e-04 2.2808000e-04\n",
      " 1.0037300e-03 9.1440000e-05 2.5260000e-05 1.5086200e-03 1.8631000e-04\n",
      " 6.8740000e-05 2.8500000e-05 6.9900000e-05 1.4110700e-02 6.0317610e-02\n",
      " 2.2750000e-05 7.5110000e-05 1.2446600e-03 7.1812000e-04 4.6650000e-05\n",
      " 1.3190000e-05 9.7560000e-05 1.3270000e-05 1.7229000e-04 9.1848000e-04\n",
      " 6.1380000e-05 1.4814000e-04 7.0664700e-03 1.5180000e-04 5.1094000e-04\n",
      " 7.9465000e-04 1.4176000e-03 5.1441000e-04 1.7459000e-04 1.4320000e-05\n",
      " 5.0210000e-05 1.6558600e-03 8.8790000e-04 2.6111600e-03 3.1610000e-05\n",
      " 1.6418000e-04 1.1060000e-05 3.9290120e-02 1.0590000e-05 1.9303300e-02\n",
      " 4.0632796e-01 5.3519000e-03 5.9101340e-02 9.6560000e-05 1.4200000e-04\n",
      " 1.9124000e-04 4.7120000e-05 2.7629600e-03 1.8620000e-05 5.7510000e-05\n",
      " 7.2850000e-05 2.8249000e-04 1.9847000e-04 9.7200000e-06 1.0041650e-02\n",
      " 6.8850000e-05 7.9100000e-06 3.3602000e-04 8.2839000e-04 4.9012800e-03\n",
      " 1.1848300e-03]\n"
     ]
    }
   ],
   "source": [
    "print(X_seq[5999,:])"
   ]
  },
  {
   "cell_type": "code",
   "execution_count": null,
   "metadata": {
    "colab": {
     "base_uri": "https://localhost:8080/"
    },
    "id": "I-cEfeBB8YjL",
    "outputId": "93a37846-c24e-4135-e8b1-04b8fa1fa686"
   },
   "outputs": [
    {
     "name": "stdout",
     "output_type": "stream",
     "text": [
      "[2.0249420e-02 1.5778000e-03 8.2625000e-04 9.4509000e-04 6.2790000e-05\n",
      " 3.4900000e-06 1.1618200e-03 9.7420000e-05 2.1790000e-05 1.0330000e-05\n",
      " 3.3725000e-04 6.3631000e-04 1.1117000e-04 1.0078200e-03 3.6100000e-06\n",
      " 6.3123000e-04 3.9050000e-05 4.0980000e-05 9.1250000e-05 3.0321000e-04\n",
      " 1.5410000e-05 3.1970000e-05 5.2210000e-05 6.1550000e-05 1.7464590e-02\n",
      " 6.6581000e-04 6.5270000e-05 5.4450000e-05 2.7318000e-04 1.3858800e-03\n",
      " 3.3300000e-06 1.3557900e-03 5.1650000e-04 2.4261200e-03 2.7191400e-03\n",
      " 2.7700000e-06 1.5570800e-03 2.4923000e-04 2.6324300e-03 9.3050000e-05\n",
      " 8.9018000e-04 9.8830000e-05 1.0030000e-05 2.2525000e-04 9.7030000e-05\n",
      " 3.3656300e-03 7.9170000e-05 2.3487000e-04 5.0306000e-04 7.2603369e-01\n",
      " 1.9330000e-05 1.3091000e-04 9.6670000e-05 1.3184000e-04 3.4292000e-04\n",
      " 4.9308000e-04 9.7340000e-05 1.0900000e-06 3.7808000e-04 7.9463700e-03\n",
      " 2.6512000e-04 9.6647170e-02 4.4577300e-03 1.1840050e-02 2.8666000e-04\n",
      " 2.1951900e-03 2.7922400e-03 1.7740000e-05 3.3650700e-03 6.1050000e-05\n",
      " 5.7339000e-04 2.7257000e-04 3.4300000e-05 6.7373600e-03 2.0830000e-05\n",
      " 9.7790000e-05 2.5020000e-05 5.7678600e-03 2.9900000e-06 8.4730000e-05\n",
      " 6.0710000e-04 4.6061000e-04 1.1886400e-03 2.7025000e-04 1.2745000e-04\n",
      " 1.0562000e-04 1.5450000e-04 5.6664000e-04 1.9600000e-05 8.9388000e-04\n",
      " 1.0794500e-03 1.0416500e-03 1.6135000e-04 2.5716000e-04 4.6617110e-02\n",
      " 1.5613000e-04 6.0400000e-06 5.3682000e-04 3.3907000e-04 8.4368300e-03\n",
      " 4.7004000e-04]\n"
     ]
    }
   ],
   "source": [
    "print(X_seq[0,:]) # length of 1st sequence after padding the caption with zeros."
   ]
  },
  {
   "cell_type": "markdown",
   "metadata": {
    "id": "uAHSATuS8YjM"
   },
   "source": [
    "## 3.2 Building network model - using Keras library (0.273, 0.120)\n"
   ]
  },
  {
   "cell_type": "markdown",
   "metadata": {
    "id": "1FFyWc-g8YjM"
   },
   "source": [
    "Split data set to training and test data"
   ]
  },
  {
   "cell_type": "code",
   "execution_count": null,
   "metadata": {
    "id": "IuUCCCjp8YjM"
   },
   "outputs": [],
   "source": [
    "X_train, X_test, Y_train, Y_test = Split_data(X_seq)"
   ]
  },
  {
   "cell_type": "markdown",
   "metadata": {
    "id": "mScXwBPC8YjM"
   },
   "source": [
    "Shape of the data"
   ]
  },
  {
   "cell_type": "code",
   "execution_count": null,
   "metadata": {
    "colab": {
     "base_uri": "https://localhost:8080/"
    },
    "id": "GK7iEj2M8YjM",
    "outputId": "877bdec7-5972-480f-c082-ff62ab91b71c"
   },
   "outputs": [
    {
     "name": "stdout",
     "output_type": "stream",
     "text": [
      "X_train (4800, 101)\n",
      "X_test (1200, 101)\n",
      "Y_train (4800, 2)\n",
      "Y_test (1200, 2)\n"
     ]
    }
   ],
   "source": [
    "print('X_train', X_train.shape)\n",
    "print('X_test', X_test.shape)\n",
    "print('Y_train', Y_train.shape)\n",
    "print('Y_test', Y_test.shape)"
   ]
  },
  {
   "cell_type": "markdown",
   "metadata": {
    "id": "0c_AtMHq8YjM"
   },
   "source": [
    "### 3.2.1 Construction\n",
    "\n",
    "A dense layer is just a regular layer of neurons in a NN. Each neuron recieves input from all the neurons in the previous layer, thus densely connected. \n",
    "\n",
    "\n",
    "The layer has a weight matrix W, a bias vector b, and the activations of previous layer a. The following is the docstring of class Dense from the keras documentation:\n",
    "\n",
    "*output = activation(dot(input, kernel) + bias)*\n",
    "\n",
    "where activation is the element-wise activation function passed as the activation argument, kernel is a weights matrix created by the layer, and bias is a bias vector created by the layer"
   ]
  },
  {
   "cell_type": "code",
   "execution_count": null,
   "metadata": {
    "id": "-cnPJkNr8Cov"
   },
   "outputs": [],
   "source": [
    "# add dropout - Helps prevent overfitting\n",
    "# add regularizers - Regularizers allow to apply penalties on layer parameters or layer activity during optimization.\n",
    "# activations - Used to determine the output of network. It maps the resulting values in between 0 to 1 or -1 to 1 etc. (depending upon the function).\n",
    "\n",
    "model = Sequential() # The Sequential model is a linear stack of layers.\n",
    "\n",
    "# You can simply add layers via the .add() method:\n",
    "model.add(layers.Dense(10,activation='relu',kernel_regularizer=regularizers.l2(0.0005),input_shape=(max_len,))) # Just your regular densely-connected NN layer.\n",
    "model.add(layers.Dropout(0.5)) #Dropout consists in randomly setting a fraction rate of input units to 0 at each update during training; helps prevent overfitting.\n",
    "model.add(layers.Dense(10,activation='relu',kernel_regularizer=regularizers.l2(0.0005)))\n",
    "model.add(layers.Dropout(0.5))\n",
    "model.add(layers.Dense(2,activation='sigmoid'))"
   ]
  },
  {
   "cell_type": "markdown",
   "metadata": {
    "id": "M5zR7m7S8Cov"
   },
   "source": [
    "### 3.2.2 Compilation\n",
    "Define three arguments:\n",
    "\n",
    "1.   An optimizer\n",
    "2.   A loss function\n",
    "3.   A list of metrics\n"
   ]
  },
  {
   "cell_type": "code",
   "execution_count": null,
   "metadata": {
    "id": "eOnijWlU8Cov"
   },
   "outputs": [],
   "source": [
    "# compile the model \n",
    "model.compile(optimizer='rmsprop',loss='mse',metrics=['accuracy'])"
   ]
  },
  {
   "cell_type": "markdown",
   "metadata": {
    "id": "H9HnZEKn8Cow"
   },
   "source": [
    "### 3.2.3 Training\n",
    "\n",
    "Train the model using our training and testing data."
   ]
  },
  {
   "cell_type": "code",
   "execution_count": null,
   "metadata": {
    "colab": {
     "base_uri": "https://localhost:8080/"
    },
    "id": "qih5_2DQ8Cow",
    "outputId": "4cb7704b-0ffe-484f-f6a4-ecdf7f3507ea"
   },
   "outputs": [
    {
     "name": "stdout",
     "output_type": "stream",
     "text": [
      "Epoch 1/20\n",
      "150/150 [==============================] - 1s 799us/step - loss: 0.0973 - accuracy: 0.3974\n",
      "Epoch 2/20\n",
      "150/150 [==============================] - 0s 820us/step - loss: 0.0368 - accuracy: 0.5167\n",
      "Epoch 3/20\n",
      "150/150 [==============================] - 0s 834us/step - loss: 0.0252 - accuracy: 0.6765\n",
      "Epoch 4/20\n",
      "150/150 [==============================] - 0s 767us/step - loss: 0.0203 - accuracy: 0.6908\n",
      "Epoch 5/20\n",
      "150/150 [==============================] - 0s 725us/step - loss: 0.0180 - accuracy: 0.6978\n",
      "Epoch 6/20\n",
      "150/150 [==============================] - 0s 742us/step - loss: 0.0168 - accuracy: 0.6950\n",
      "Epoch 7/20\n",
      "150/150 [==============================] - 0s 841us/step - loss: 0.0155 - accuracy: 0.6975\n",
      "Epoch 8/20\n",
      "150/150 [==============================] - 0s 893us/step - loss: 0.0152 - accuracy: 0.7030\n",
      "Epoch 9/20\n",
      "150/150 [==============================] - 0s 861us/step - loss: 0.0152 - accuracy: 0.6987\n",
      "Epoch 10/20\n",
      "150/150 [==============================] - 0s 780us/step - loss: 0.0145 - accuracy: 0.7031\n",
      "Epoch 11/20\n",
      "150/150 [==============================] - 0s 869us/step - loss: 0.0143 - accuracy: 0.6931\n",
      "Epoch 12/20\n",
      "150/150 [==============================] - 0s 824us/step - loss: 0.0146 - accuracy: 0.6967\n",
      "Epoch 13/20\n",
      "150/150 [==============================] - 0s 857us/step - loss: 0.0144 - accuracy: 0.6922\n",
      "Epoch 14/20\n",
      "150/150 [==============================] - 0s 833us/step - loss: 0.0145 - accuracy: 0.7117\n",
      "Epoch 15/20\n",
      "150/150 [==============================] - 0s 869us/step - loss: 0.0133 - accuracy: 0.7004\n",
      "Epoch 16/20\n",
      "150/150 [==============================] - 0s 835us/step - loss: 0.0139 - accuracy: 0.7004\n",
      "Epoch 17/20\n",
      "150/150 [==============================] - 0s 875us/step - loss: 0.0138 - accuracy: 0.6945\n",
      "Epoch 18/20\n",
      "150/150 [==============================] - 0s 886us/step - loss: 0.0142 - accuracy: 0.7183\n",
      "Epoch 19/20\n",
      "150/150 [==============================] - 0s 882us/step - loss: 0.0140 - accuracy: 0.7036\n",
      "Epoch 20/20\n",
      "150/150 [==============================] - 0s 971us/step - loss: 0.0136 - accuracy: 0.7075\n"
     ]
    }
   ],
   "source": [
    "# training the model \n",
    "history = model.fit(X_train,Y_train,epochs=20)"
   ]
  },
  {
   "cell_type": "markdown",
   "metadata": {
    "id": "TCaBBmoY8Cow"
   },
   "source": [
    "### 3.2.4 Visualising the validation and training loss"
   ]
  },
  {
   "cell_type": "code",
   "execution_count": null,
   "metadata": {
    "colab": {
     "base_uri": "https://localhost:8080/",
     "height": 295
    },
    "id": "nz0wdNKR8Cox",
    "outputId": "3af975e1-c719-4637-b31a-d8a68acdcffa"
   },
   "outputs": [
    {
     "data": {
      "image/png": "[encoded data removed]",
      "text/plain": [
       "<Figure size 432x288 with 1 Axes>"
      ]
     },
     "metadata": {
      "needs_background": "light",
      "tags": []
     },
     "output_type": "display_data"
    }
   ],
   "source": [
    "loss = history.history['loss']\n",
    "\n",
    "epochs = range(1,len(loss)+1)\n",
    "\n",
    "plt.plot(epochs,loss,'bo',label='Training loss')\n",
    "plt.title('Training loss')\n",
    "plt.xlabel('Epochs')\n",
    "plt.ylabel('Loss')\n",
    "plt.legend()\n",
    "plt.show()"
   ]
  },
  {
   "cell_type": "markdown",
   "metadata": {
    "id": "QzO5D5_y8Cox"
   },
   "source": [
    "What is training and validation accuracy?"
   ]
  },
  {
   "cell_type": "code",
   "execution_count": null,
   "metadata": {
    "colab": {
     "base_uri": "https://localhost:8080/",
     "height": 295
    },
    "id": "9GTtjBSm8Cox",
    "outputId": "24c007d5-16c5-4138-d941-8f42eefef374"
   },
   "outputs": [
    {
     "data": {
      "image/png": "[encoded data removed]",
      "text/plain": [
       "<Figure size 432x288 with 1 Axes>"
      ]
     },
     "metadata": {
      "needs_background": "light",
      "tags": []
     },
     "output_type": "display_data"
    }
   ],
   "source": [
    "plt.figure()\n",
    "acc = history.history['accuracy']\n",
    "plt.plot(epochs, acc, 'bo', label='Training acc')\n",
    "plt.title('Training accuracy')\n",
    "plt.xlabel('Epochs')\n",
    "plt.ylabel('Acc')\n",
    "plt.legend()\n",
    "plt.show()"
   ]
  },
  {
   "cell_type": "markdown",
   "metadata": {
    "id": "qnWP7tjO8Cox"
   },
   "source": [
    "Okay lets make some predictions now on the newly trained model...."
   ]
  },
  {
   "cell_type": "code",
   "execution_count": null,
   "metadata": {
    "colab": {
     "base_uri": "https://localhost:8080/"
    },
    "id": "77_y2KDo8Cox",
    "outputId": "23661715-ee8f-4ea7-e84b-bef7fb25c638"
   },
   "outputs": [
    {
     "name": "stdout",
     "output_type": "stream",
     "text": [
      "The Spearman's correlation coefficient is: 0.273\n",
      "The Spearman's correlation coefficient is: 0.120\n"
     ]
    }
   ],
   "source": [
    "predictions = model.predict(X_test)\n",
    "Get_score(predictions, Y_test) # Try remember what the Spearman scores actually mean!"
   ]
  },
  {
   "cell_type": "markdown",
   "metadata": {
    "id": "6Na4O_jc8Coy"
   },
   "source": [
    "Saving your model"
   ]
  },
  {
   "cell_type": "code",
   "execution_count": null,
   "metadata": {
    "id": "uNf44A3-8Coy"
   },
   "outputs": [],
   "source": [
    "os.chdir('/content/drive/My Drive/')\n",
    "pickle.dump(rf, open('C3D_Model.sav', 'wb'))"
   ]
  },
  {
   "cell_type": "markdown",
   "metadata": {
    "id": "b6PRHGf3C_e-"
   },
   "source": [
    "## 3.3 Random Forest (0.324, 0.114)"
   ]
  },
  {
   "cell_type": "code",
   "execution_count": null,
   "metadata": {
    "id": "S9xLlypiDEtW"
   },
   "outputs": [],
   "source": [
    "# Instantiate model with 1000 decision trees\n",
    "rf = RandomForestRegressor(n_estimators = 1000, random_state = 42)\n",
    "# Train the model on training data\n",
    "rf.fit(X_train, Y_train)"
   ]
  },
  {
   "cell_type": "code",
   "execution_count": null,
   "metadata": {
    "id": "kGD7RxOHPnar"
   },
   "outputs": [],
   "source": [
    "predictions = rf.predict(X_test)"
   ]
  },
  {
   "cell_type": "code",
   "execution_count": null,
   "metadata": {
    "colab": {
     "base_uri": "https://localhost:8080/"
    },
    "id": "bafkeZo4Pr3v",
    "outputId": "91f13e60-76ee-46b1-b2af-f574e88e719b"
   },
   "outputs": [
    {
     "name": "stdout",
     "output_type": "stream",
     "text": [
      "The Spearman's correlation coefficient is: 0.324\n",
      "The Spearman's correlation coefficient is: 0.114\n"
     ]
    }
   ],
   "source": [
    "Get_score(predictions, Y_test)"
   ]
  },
  {
   "cell_type": "code",
   "execution_count": null,
   "metadata": {
    "id": "twPswmXskihT"
   },
   "outputs": [],
   "source": [
    "os.chdir('/content/drive/My Drive/')\n",
    "pickle.dump(rf, open('Rain_forest.sav', 'wb'))"
   ]
  },
  {
   "cell_type": "markdown",
   "metadata": {
    "id": "7ibz0Osoqa6e"
   },
   "source": [
    "## 3.4 Support Vector Regressor (0.265, 0.041)"
   ]
  },
  {
   "cell_type": "code",
   "execution_count": null,
   "metadata": {
    "colab": {
     "base_uri": "https://localhost:8080/"
    },
    "id": "fIjzRfEYrPPk",
    "outputId": "894ced16-49da-42e5-f527-f1f9234270f6"
   },
   "outputs": [
    {
     "name": "stdout",
     "output_type": "stream",
     "text": [
      "[0.787]\n"
     ]
    }
   ],
   "source": [
    "print(Y_train[1:2,0])"
   ]
  },
  {
   "cell_type": "code",
   "execution_count": null,
   "metadata": {
    "id": "UQMmU-bwqfVw"
   },
   "outputs": [],
   "source": [
    "regressor = BaggingRegressor(SVR(kernel = 'rbf'))\n",
    "regressor.fit(X_train, Y_train[:,0])"
   ]
  },
  {
   "cell_type": "code",
   "execution_count": null,
   "metadata": {
    "id": "kun0wYWersJ5"
   },
   "outputs": [],
   "source": [
    "predictions = regressor.predict(X_test)"
   ]
  },
  {
   "cell_type": "code",
   "execution_count": null,
   "metadata": {
    "colab": {
     "base_uri": "https://localhost:8080/"
    },
    "id": "XUMRlaNOrt1h",
    "outputId": "ef3275fb-f2d4-4a2b-a7d9-159b2fe0798a"
   },
   "outputs": [
    {
     "name": "stdout",
     "output_type": "stream",
     "text": [
      "The Spearman's correlation coefficient is: 0.265\n"
     ]
    }
   ],
   "source": [
    "Get_score(predictions, Y_test[:,0])"
   ]
  },
  {
   "cell_type": "code",
   "execution_count": null,
   "metadata": {
    "id": "O-mt-rK5smDe"
   },
   "outputs": [],
   "source": [
    "regressor_long_term_memorability =  BaggingRegressor(SVR(kernel = 'rbf'))\n",
    "regressor_long_term_memorability.fit(X_train, Y_train[:,1]);"
   ]
  },
  {
   "cell_type": "code",
   "execution_count": null,
   "metadata": {
    "id": "zigqVXmcswUt"
   },
   "outputs": [],
   "source": [
    "predictions_long_term = regressor_long_term_memorability.predict(X_test)"
   ]
  },
  {
   "cell_type": "code",
   "execution_count": null,
   "metadata": {
    "colab": {
     "base_uri": "https://localhost:8080/"
    },
    "id": "jRdSFiAos03F",
    "outputId": "3bd2929e-aae3-43f9-a862-83c4f1ea796d"
   },
   "outputs": [
    {
     "name": "stdout",
     "output_type": "stream",
     "text": [
      "The Spearman's correlation coefficient is: 0.041\n"
     ]
    }
   ],
   "source": [
    "Get_score(predictions_long_term, Y_test[:,1])"
   ]
  },
  {
   "cell_type": "markdown",
   "metadata": {
    "id": "hI6-2tV-tNtz"
   },
   "source": [
    "## 3.5 Gradient Boosting Regression (0.311, 0.110)"
   ]
  },
  {
   "cell_type": "code",
   "execution_count": null,
   "metadata": {
    "colab": {
     "base_uri": "https://localhost:8080/"
    },
    "id": "WmwmRW6dwIRK",
    "outputId": "ee4934cf-999c-4f2d-a7c7-9d498a379947"
   },
   "outputs": [
    {
     "data": {
      "text/plain": [
       "GradientBoostingRegressor(alpha=0.9, ccp_alpha=0.0, criterion='friedman_mse',\n",
       "                          init=None, learning_rate=0.1, loss='ls', max_depth=3,\n",
       "                          max_features=None, max_leaf_nodes=None,\n",
       "                          min_impurity_decrease=0.0, min_impurity_split=None,\n",
       "                          min_samples_leaf=1, min_samples_split=2,\n",
       "                          min_weight_fraction_leaf=0.0, n_estimators=100,\n",
       "                          n_iter_no_change=None, presort='deprecated',\n",
       "                          random_state=None, subsample=1.0, tol=0.0001,\n",
       "                          validation_fraction=0.1, verbose=0, warm_start=False)"
      ]
     },
     "execution_count": 122,
     "metadata": {
      "tags": []
     },
     "output_type": "execute_result"
    }
   ],
   "source": [
    "model= GradientBoostingRegressor()\n",
    "model.fit(X_train, Y_train[:,0])"
   ]
  },
  {
   "cell_type": "code",
   "execution_count": null,
   "metadata": {
    "id": "mxl-G-vXwgMv"
   },
   "outputs": [],
   "source": [
    "predictions = model.predict(X_test)"
   ]
  },
  {
   "cell_type": "code",
   "execution_count": null,
   "metadata": {
    "colab": {
     "base_uri": "https://localhost:8080/"
    },
    "id": "IismfnzQwiNo",
    "outputId": "8f729115-5db9-46f7-ab44-628149f0eb0e"
   },
   "outputs": [
    {
     "name": "stdout",
     "output_type": "stream",
     "text": [
      "The Spearman's correlation coefficient is: 0.311\n"
     ]
    }
   ],
   "source": [
    "Get_score(predictions, Y_test[:,0])"
   ]
  },
  {
   "cell_type": "code",
   "execution_count": null,
   "metadata": {
    "colab": {
     "base_uri": "https://localhost:8080/"
    },
    "id": "zALOtcxyzk6C",
    "outputId": "ea3b4c0d-7397-408e-f3cc-256a7b040656"
   },
   "outputs": [
    {
     "name": "stdout",
     "output_type": "stream",
     "text": [
      "The Spearman's correlation coefficient is: 0.110\n"
     ]
    }
   ],
   "source": [
    "model= GradientBoostingRegressor()\n",
    "model.fit(X_train, Y_train[:,1])\n",
    "predictions = model.predict(X_test)\n",
    "Get_score(predictions, Y_test[:,1])"
   ]
  },
  {
   "cell_type": "markdown",
   "metadata": {
    "id": "8Abns-VWBmFu"
   },
   "source": [
    "## 3.6 Elastic Net (0.282, 0.118)"
   ]
  },
  {
   "cell_type": "code",
   "execution_count": null,
   "metadata": {
    "colab": {
     "base_uri": "https://localhost:8080/"
    },
    "id": "6ONW0fBTBpGn",
    "outputId": "282a63d8-2574-425d-a2c2-af64e932d819"
   },
   "outputs": [
    {
     "name": "stderr",
     "output_type": "stream",
     "text": [
      "/usr/local/lib/python3.7/dist-packages/sklearn/linear_model/_coordinate_descent.py:476: ConvergenceWarning: Objective did not converge. You might want to increase the number of iterations. Duality gap: 14.308912512342543, tolerance: 0.0031603040479166646\n",
      "  positive)\n"
     ]
    },
    {
     "name": "stdout",
     "output_type": "stream",
     "text": [
      "MAE: -0.087\n",
      "Config: {'alpha': 0.001, 'l1_ratio': 0.0}\n"
     ]
    },
    {
     "name": "stderr",
     "output_type": "stream",
     "text": [
      "/usr/local/lib/python3.7/dist-packages/sklearn/linear_model/_coordinate_descent.py:476: ConvergenceWarning: Objective did not converge. You might want to increase the number of iterations. Duality gap: 48.14746054834263, tolerance: 0.009935011935916671\n",
      "  positive)\n"
     ]
    }
   ],
   "source": [
    "# define model\n",
    "model = ElasticNet()\n",
    "# define model evaluation method\n",
    "cv = RepeatedKFold(n_splits=10, n_repeats=3, random_state=1)\n",
    "# define grid\n",
    "grid = dict()\n",
    "grid['alpha'] = [1e-5, 1e-4, 1e-3, 1e-2, 1e-1, 0.0, 1.0, 10.0, 100.0]\n",
    "grid['l1_ratio'] = arange(0, 1, 0.01)\n",
    "# define search\n",
    "search = GridSearchCV(model, grid, scoring='neg_mean_absolute_error', cv=cv, n_jobs=-1)\n",
    "# perform the search\n",
    "results = search.fit(X_train, Y_train)\n",
    "# summarize\n",
    "print('MAE: %.3f' % results.best_score_)\n",
    "print('Config: %s' % results.best_params_)"
   ]
  },
  {
   "cell_type": "code",
   "execution_count": null,
   "metadata": {
    "id": "dGdN5aKsG1gJ"
   },
   "outputs": [],
   "source": [
    "ElasticNet_model = ElasticNet(alpha=0.001, l1_ratio=0.0)"
   ]
  },
  {
   "cell_type": "code",
   "execution_count": null,
   "metadata": {
    "colab": {
     "base_uri": "https://localhost:8080/"
    },
    "id": "JyCsKTXSMPfq",
    "outputId": "4c73acf9-4899-4649-e804-38f41aaca187"
   },
   "outputs": [
    {
     "name": "stderr",
     "output_type": "stream",
     "text": [
      "/usr/local/lib/python3.7/dist-packages/sklearn/linear_model/_coordinate_descent.py:476: ConvergenceWarning: Objective did not converge. You might want to increase the number of iterations. Duality gap: 14.308912512342543, tolerance: 0.0031603040479166646\n",
      "  positive)\n",
      "/usr/local/lib/python3.7/dist-packages/sklearn/linear_model/_coordinate_descent.py:476: ConvergenceWarning: Objective did not converge. You might want to increase the number of iterations. Duality gap: 48.14746054834263, tolerance: 0.009935011935916671\n",
      "  positive)\n"
     ]
    },
    {
     "data": {
      "text/plain": [
       "ElasticNet(alpha=0.001, copy_X=True, fit_intercept=True, l1_ratio=0.0,\n",
       "           max_iter=1000, normalize=False, positive=False, precompute=False,\n",
       "           random_state=None, selection='cyclic', tol=0.0001, warm_start=False)"
      ]
     },
     "execution_count": 45,
     "metadata": {
      "tags": []
     },
     "output_type": "execute_result"
    }
   ],
   "source": [
    "ElasticNet_model.fit(X_train, Y_train)"
   ]
  },
  {
   "cell_type": "code",
   "execution_count": null,
   "metadata": {
    "id": "-UKyzOR8MZsr"
   },
   "outputs": [],
   "source": [
    "predictions = ElasticNet_model.predict(X_test)"
   ]
  },
  {
   "cell_type": "code",
   "execution_count": null,
   "metadata": {
    "colab": {
     "base_uri": "https://localhost:8080/"
    },
    "id": "f28tEompMbyQ",
    "outputId": "2c07e5fd-035d-42d0-873d-07d137a5671f"
   },
   "outputs": [
    {
     "name": "stdout",
     "output_type": "stream",
     "text": [
      "The Spearman's correlation coefficient is: 0.282\n",
      "The Spearman's correlation coefficient is: 0.118\n"
     ]
    }
   ],
   "source": [
    "Get_score(predictions, Y_test)"
   ]
  },
  {
   "cell_type": "markdown",
   "metadata": {
    "id": "bRYnvWRQM8QT"
   },
   "source": [
    "# 4> Predicting video memorability using LBP"
   ]
  },
  {
   "cell_type": "markdown",
   "metadata": {
    "id": "tsoQsto1h6Ou"
   },
   "source": [
    "## 4.1 Loading LBP"
   ]
  },
  {
   "cell_type": "code",
   "execution_count": null,
   "metadata": {
    "colab": {
     "base_uri": "https://localhost:8080/",
     "height": 279
    },
    "id": "KUPSfV45NAKk",
    "outputId": "1acf08e1-e190-45fd-ec04-2b78176ff1f0"
   },
   "outputs": [
    {
     "data": {
      "text/html": [
       "<div>\n",
       "<style scoped>\n",
       "    .dataframe tbody tr th:only-of-type {\n",
       "        vertical-align: middle;\n",
       "    }\n",
       "\n",
       "    .dataframe tbody tr th {\n",
       "        vertical-align: top;\n",
       "    }\n",
       "\n",
       "    .dataframe thead th {\n",
       "        text-align: right;\n",
       "    }\n",
       "</style>\n",
       "<table border=\"1\" class=\"dataframe\">\n",
       "  <thead>\n",
       "    <tr style=\"text-align: right;\">\n",
       "      <th></th>\n",
       "      <th>video</th>\n",
       "      <th>LBP-0</th>\n",
       "      <th>LBP-56</th>\n",
       "      <th>LBP-112</th>\n",
       "    </tr>\n",
       "  </thead>\n",
       "  <tbody>\n",
       "    <tr>\n",
       "      <th>0</th>\n",
       "      <td>video3.webm</td>\n",
       "      <td>[0.01183208, 0.00234423, 0.00182726, 0.0013999...</td>\n",
       "      <td>[0.01051071, 0.00238281, 0.00180411, 0.0014699...</td>\n",
       "      <td>[0.01043451, 0.00247637, 0.00192178, 0.0014665...</td>\n",
       "    </tr>\n",
       "    <tr>\n",
       "      <th>1</th>\n",
       "      <td>video4.webm</td>\n",
       "      <td>[0.00966435, 0.00291811, 0.00219425, 0.0018682...</td>\n",
       "      <td>[0.01016445, 0.00291377, 0.00232832, 0.0020452...</td>\n",
       "      <td>[0.00991127, 0.00292679, 0.00233845, 0.0020862...</td>\n",
       "    </tr>\n",
       "    <tr>\n",
       "      <th>2</th>\n",
       "      <td>video6.webm</td>\n",
       "      <td>[0.01084008, 0.00189525, 0.00154128, 0.0009606...</td>\n",
       "      <td>[0.00749759, 0.00117043, 0.00096595, 0.0007257...</td>\n",
       "      <td>[0.00782986, 0.00120563, 0.00085166, 0.0006939...</td>\n",
       "    </tr>\n",
       "    <tr>\n",
       "      <th>3</th>\n",
       "      <td>video8.webm</td>\n",
       "      <td>[0.01163436, 0.00431472, 0.00321277, 0.0019121...</td>\n",
       "      <td>[0.01338397, 0.00459394, 0.00335214, 0.0026601...</td>\n",
       "      <td>[0.01097222, 0.00419367, 0.0028178, 0.00211709...</td>\n",
       "    </tr>\n",
       "    <tr>\n",
       "      <th>4</th>\n",
       "      <td>video10.webm</td>\n",
       "      <td>[0.02525029, 0.00485774, 0.00489198, 0.0038623...</td>\n",
       "      <td>[0.02373216, 0.00531973, 0.00533999, 0.0046180...</td>\n",
       "      <td>[0.02204427, 0.00510851, 0.00511767, 0.0041420...</td>\n",
       "    </tr>\n",
       "  </tbody>\n",
       "</table>\n",
       "</div>"
      ],
      "text/plain": [
       "          video  ...                                            LBP-112\n",
       "0   video3.webm  ...  [0.01043451, 0.00247637, 0.00192178, 0.0014665...\n",
       "1   video4.webm  ...  [0.00991127, 0.00292679, 0.00233845, 0.0020862...\n",
       "2   video6.webm  ...  [0.00782986, 0.00120563, 0.00085166, 0.0006939...\n",
       "3   video8.webm  ...  [0.01097222, 0.00419367, 0.0028178, 0.00211709...\n",
       "4  video10.webm  ...  [0.02204427, 0.00510851, 0.00511767, 0.0041420...\n",
       "\n",
       "[5 rows x 4 columns]"
      ]
     },
     "execution_count": 59,
     "metadata": {
      "tags": []
     },
     "output_type": "execute_result"
    }
   ],
   "source": [
    "os.chdir('/content/drive/My Drive/CA684_Assignment')\n",
    "\n",
    "# Read LBP files\n",
    "def read_LBP(fname):\n",
    "    \"\"\"Scan vectors from file\"\"\"   \n",
    "    if os.path.exists(fname):\n",
    "      with open(fname) as f:\n",
    "          for line in f:\n",
    "              LBP =[float(item) for item in line.split()] # convert to float type, using default separator\n",
    "      return LBP\n",
    "    else:\n",
    "      return np.zeros(122)\n",
    "\n",
    "df_lbp = pd.DataFrame(columns=['video','LBP-0','LBP-56','LBP-112'])\n",
    "\n",
    "# load the LBP\n",
    "for i, video in enumerate(labels['video']):\n",
    "    df_lbp.loc[i,'video'] = video   \n",
    "    df_lbp.loc[i,'LBP-0'] = read_LBP('./Dev-set/LBP/' + (video.split('.')[0]) + '-0.txt')\n",
    "    df_lbp.loc[i,'LBP-56'] = read_LBP('./Dev-set/LBP/' + (video.split('.')[0]) + '-56.txt')\n",
    "    df_lbp.loc[i,'LBP-112'] = read_LBP('./Dev-set/LBP/' + (video.split('.')[0]) + '-112.txt')\n",
    "\n",
    "df_lbp.head()"
   ]
  },
  {
   "cell_type": "code",
   "execution_count": null,
   "metadata": {
    "id": "VtnmqFC1aSvC"
   },
   "outputs": [],
   "source": [
    "os.chdir('/content/drive/My Drive/')\n",
    "df_lbp.to_pickle(\"LBP_file.pkl\")"
   ]
  },
  {
   "cell_type": "code",
   "execution_count": null,
   "metadata": {
    "colab": {
     "base_uri": "https://localhost:8080/"
    },
    "id": "B5k1zLMfWNMS",
    "outputId": "0a3502ab-1ab8-4c13-f78e-fa3065835874"
   },
   "outputs": [
    {
     "name": "stdout",
     "output_type": "stream",
     "text": [
      "               video  ...                                            LBP-112\n",
      "0        video3.webm  ...  [0.01043451, 0.00247637, 0.00192178, 0.0014665...\n",
      "1        video4.webm  ...  [0.00991127, 0.00292679, 0.00233845, 0.0020862...\n",
      "2        video6.webm  ...  [0.00782986, 0.00120563, 0.00085166, 0.0006939...\n",
      "3        video8.webm  ...  [0.01097222, 0.00419367, 0.0028178, 0.00211709...\n",
      "4       video10.webm  ...  [0.02204427, 0.00510851, 0.00511767, 0.0041420...\n",
      "...              ...  ...                                                ...\n",
      "5995  video7488.webm  ...  [0.01651235, 0.0036738, 0.00279562, 0.00200762...\n",
      "5996  video7489.webm  ...  [0.03702064, 0.00227286, 0.00241802, 0.0025082...\n",
      "5997  video7491.webm  ...  [0.02289207, 0.00598573, 0.00546055, 0.0042144...\n",
      "5998  video7492.webm  ...  [0.01113329, 0.00202691, 0.00201678, 0.0017365...\n",
      "5999  video7493.webm  ...  [0.01129292, 0.00211179, 0.0017853, 0.00150222...\n",
      "\n",
      "[6000 rows x 4 columns]\n"
     ]
    }
   ],
   "source": [
    "os.chdir('/content/drive/My Drive/CA684 - Machine Learning Assignment')\n",
    "df_lbp = pd.read_pickle(\"LBP_file.pkl\")\n",
    "print(df_lbp)"
   ]
  },
  {
   "cell_type": "code",
   "execution_count": null,
   "metadata": {
    "colab": {
     "base_uri": "https://localhost:8080/"
    },
    "id": "xhRzDefmTeDn",
    "outputId": "af3cee1a-3179-4121-9252-6e2204e7b36f"
   },
   "outputs": [
    {
     "data": {
      "text/plain": [
       "122"
      ]
     },
     "execution_count": 105,
     "metadata": {
      "tags": []
     },
     "output_type": "execute_result"
    }
   ],
   "source": [
    "len(df_lbp.loc[0,'LBP-56'])"
   ]
  },
  {
   "cell_type": "code",
   "execution_count": null,
   "metadata": {
    "id": "O3QOfoELwBlv"
   },
   "outputs": [],
   "source": [
    "# calculating max length\n",
    "max_len = 366"
   ]
  },
  {
   "cell_type": "code",
   "execution_count": null,
   "metadata": {
    "colab": {
     "base_uri": "https://localhost:8080/"
    },
    "id": "Ls6odxEwwBuE",
    "outputId": "340cd4d8-533a-4a39-cda3-132b27f48636"
   },
   "outputs": [
    {
     "name": "stdout",
     "output_type": "stream",
     "text": [
      "15\n"
     ]
    },
    {
     "data": {
      "text/plain": [
       "(6000, 366)"
      ]
     },
     "execution_count": 172,
     "metadata": {
      "tags": []
     },
     "output_type": "execute_result"
    }
   ],
   "source": [
    "X_seq = np.zeros((len(df_lbp['LBP-112']),max_len))\n",
    "count = 0\n",
    "for i in range(len(df_lbp['LBP-112'])):\n",
    "    n = 366\n",
    "    if n==0:\n",
    "        print(i)\n",
    "    elif len(df_lbp.loc[i,'LBP-112'] + df_lbp.loc[i,'LBP-56'] + df_lbp.loc[i,'LBP-0']) == 366:\n",
    "        X_seq[i,-n:] = df_lbp.loc[i,'LBP-0'] + df_lbp.loc[i,'LBP-56'] + df_lbp.loc[i,'LBP-112']\n",
    "    else:\n",
    "      count = count + 1\n",
    "print(count)\n",
    "X_seq.shape"
   ]
  },
  {
   "cell_type": "code",
   "execution_count": null,
   "metadata": {
    "id": "2E5qUeJ8_FK6"
   },
   "outputs": [],
   "source": [
    "X_train, X_test, Y_train, Y_test = Split_data(X_seq)"
   ]
  },
  {
   "cell_type": "markdown",
   "metadata": {
    "id": "sAaBQl5ch-p1"
   },
   "source": [
    "## 4.2 Random Forest (0.328, 0.064)"
   ]
  },
  {
   "cell_type": "code",
   "execution_count": null,
   "metadata": {
    "colab": {
     "base_uri": "https://localhost:8080/"
    },
    "id": "KRuEpJ9wiJ_M",
    "outputId": "1dc345fc-7bba-4a22-c533-13b7be06f1fd"
   },
   "outputs": [
    {
     "data": {
      "text/plain": [
       "RandomForestRegressor(bootstrap=True, ccp_alpha=0.0, criterion='mse',\n",
       "                      max_depth=None, max_features='auto', max_leaf_nodes=None,\n",
       "                      max_samples=None, min_impurity_decrease=0.0,\n",
       "                      min_impurity_split=None, min_samples_leaf=1,\n",
       "                      min_samples_split=2, min_weight_fraction_leaf=0.0,\n",
       "                      n_estimators=1000, n_jobs=None, oob_score=False,\n",
       "                      random_state=42, verbose=0, warm_start=False)"
      ]
     },
     "execution_count": 110,
     "metadata": {
      "tags": []
     },
     "output_type": "execute_result"
    }
   ],
   "source": [
    "# Instantiate model with 1000 decision trees\n",
    "rf = RandomForestRegressor(n_estimators = 1000, random_state = 42)\n",
    "# Train the model on training data\n",
    "rf.fit(X_train, Y_train)"
   ]
  },
  {
   "cell_type": "code",
   "execution_count": null,
   "metadata": {
    "id": "Hr8YXA_OilAM"
   },
   "outputs": [],
   "source": [
    "predictions = rf.predict(X_test)"
   ]
  },
  {
   "cell_type": "code",
   "execution_count": null,
   "metadata": {
    "colab": {
     "base_uri": "https://localhost:8080/"
    },
    "id": "LIgejXJ7ioMC",
    "outputId": "db0a6086-06ef-460b-b5ec-ae9a322231aa"
   },
   "outputs": [
    {
     "name": "stdout",
     "output_type": "stream",
     "text": [
      "The Spearman's correlation coefficient is: 0.328\n",
      "The Spearman's correlation coefficient is: 0.064\n"
     ]
    }
   ],
   "source": [
    "Get_score(predictions, Y_test)"
   ]
  },
  {
   "cell_type": "markdown",
   "metadata": {
    "id": "t5veMDR7isky"
   },
   "source": [
    "## 4.3 Support Vector Regressor (0.249, 0.085)"
   ]
  },
  {
   "cell_type": "code",
   "execution_count": null,
   "metadata": {
    "colab": {
     "base_uri": "https://localhost:8080/"
    },
    "id": "MjPChpvGiw1j",
    "outputId": "635d58d7-f3d4-456e-8e7a-a7fc9744b0c5"
   },
   "outputs": [
    {
     "name": "stdout",
     "output_type": "stream",
     "text": [
      "The Spearman's correlation coefficient is: 0.249\n"
     ]
    }
   ],
   "source": [
    "regressor = BaggingRegressor(SVR(kernel = 'rbf'))\n",
    "regressor.fit(X_train, Y_train[:,0])\n",
    "predictions = regressor.predict(X_test)\n",
    "Get_score(predictions, Y_test[:,0])"
   ]
  },
  {
   "cell_type": "code",
   "execution_count": null,
   "metadata": {
    "colab": {
     "base_uri": "https://localhost:8080/"
    },
    "id": "MfEiQMjZjCqH",
    "outputId": "d6def9f7-3b31-4468-c9b1-8e20610cd65e"
   },
   "outputs": [
    {
     "name": "stdout",
     "output_type": "stream",
     "text": [
      "The Spearman's correlation coefficient is: 0.085\n"
     ]
    }
   ],
   "source": [
    "regressor_long_term_memorability =  BaggingRegressor(SVR(kernel = 'rbf'))\n",
    "regressor_long_term_memorability.fit(X_train, Y_train[:,1])\n",
    "predictions_long_term = regressor_long_term_memorability.predict(X_test)\n",
    "Get_score(predictions_long_term, Y_test[:,1])"
   ]
  },
  {
   "cell_type": "markdown",
   "metadata": {
    "id": "kW9rwR4jjNiX"
   },
   "source": [
    "## 4.4 Elastic Net (0.232, 0.077)"
   ]
  },
  {
   "cell_type": "code",
   "execution_count": null,
   "metadata": {
    "colab": {
     "base_uri": "https://localhost:8080/"
    },
    "id": "SjlyZqHBjs9v",
    "outputId": "13df42bf-7220-4244-b14f-ea09a1eff10f"
   },
   "outputs": [
    {
     "name": "stderr",
     "output_type": "stream",
     "text": [
      "/usr/local/lib/python3.7/dist-packages/sklearn/linear_model/_coordinate_descent.py:476: ConvergenceWarning: Objective did not converge. You might want to increase the number of iterations. Duality gap: 15.39708553954809, tolerance: 0.0031603040479166646\n",
      "  positive)\n"
     ]
    },
    {
     "name": "stdout",
     "output_type": "stream",
     "text": [
      "The Spearman's correlation coefficient is: 0.232\n",
      "The Spearman's correlation coefficient is: 0.077\n"
     ]
    },
    {
     "name": "stderr",
     "output_type": "stream",
     "text": [
      "/usr/local/lib/python3.7/dist-packages/sklearn/linear_model/_coordinate_descent.py:476: ConvergenceWarning: Objective did not converge. You might want to increase the number of iterations. Duality gap: 49.38808776517216, tolerance: 0.009935011935916671\n",
      "  positive)\n"
     ]
    }
   ],
   "source": [
    "ElasticNet_model = ElasticNet(alpha=0.001, l1_ratio=0.0)\n",
    "ElasticNet_model.fit(X_train, Y_train)\n",
    "predictions = ElasticNet_model.predict(X_test)\n",
    "Get_score(predictions, Y_test)"
   ]
  },
  {
   "cell_type": "markdown",
   "metadata": {
    "id": "aHo-A4C1j-LO"
   },
   "source": [
    "## 4.5 Gradient Boosting Regression (0.298, 0.061)"
   ]
  },
  {
   "cell_type": "code",
   "execution_count": null,
   "metadata": {
    "colab": {
     "base_uri": "https://localhost:8080/"
    },
    "id": "KCBQlosmj-0P",
    "outputId": "872c4886-c5e7-41cc-cf89-38ee17be1555"
   },
   "outputs": [
    {
     "name": "stdout",
     "output_type": "stream",
     "text": [
      "The Spearman's correlation coefficient is: 0.298\n"
     ]
    }
   ],
   "source": [
    "model= GradientBoostingRegressor()\n",
    "model.fit(X_train, Y_train[:,0])\n",
    "predictions = model.predict(X_test)\n",
    "Get_score(predictions, Y_test[:,0])"
   ]
  },
  {
   "cell_type": "code",
   "execution_count": null,
   "metadata": {
    "colab": {
     "base_uri": "https://localhost:8080/"
    },
    "id": "ilisuwaGkGEv",
    "outputId": "4a849b84-6ae8-4d4a-e439-43289b9a7b26"
   },
   "outputs": [
    {
     "name": "stdout",
     "output_type": "stream",
     "text": [
      "The Spearman's correlation coefficient is: 0.061\n"
     ]
    }
   ],
   "source": [
    "model= GradientBoostingRegressor()\n",
    "model.fit(X_train, Y_train[:,1])\n",
    "predictions = model.predict(X_test)\n",
    "Get_score(predictions, Y_test[:,1])"
   ]
  },
  {
   "cell_type": "markdown",
   "metadata": {
    "id": "1JOnrV1FGQXG"
   },
   "source": [
    "# 5> Predicting video memorability using Aesthetic features"
   ]
  },
  {
   "cell_type": "markdown",
   "metadata": {
    "id": "E_3G_NUNThae"
   },
   "source": [
    "## 5.1 Loading Aesthetic features"
   ]
  },
  {
   "cell_type": "code",
   "execution_count": null,
   "metadata": {
    "id": "FcVn5-_eGYiL"
   },
   "outputs": [],
   "source": [
    "os.chdir('/content/drive/My Drive/CA684 - Machine Learning Assignment/dev-set_aesthetic-features/features/aesthetic_visual_features')\n",
    "\n",
    "# Read Aesthetic mean and median feature files\n",
    "def read_aesthetic_features(fname):\n",
    "    \"\"\"Scan vectors from file\"\"\" \n",
    "    if os.path.exists(fname):\n",
    "      with open(fname) as f:\n",
    "          for line in f:\n",
    "              aes =[float(item) for item in line.split(',')] # convert to float type, using default separator\n",
    "      return aes\n",
    "    else:\n",
    "      return np.zeros(109)"
   ]
  },
  {
   "cell_type": "code",
   "execution_count": null,
   "metadata": {},
   "outputs": [],
   "source": [
    "df_aes = pd.DataFrame(columns=['video','AES-mean','AES-median'])\n",
    "\n",
    "pbar = pyprind.ProgBar(len(labels['video']), title='Loading Aesthetic files')\n",
    "\n",
    "# load the Aesthetic files\n",
    "for i, video in enumerate(labels['video']):\n",
    "    df_aes.loc[i,'video'] = video   \n",
    "    df_aes.loc[i,'AES-mean'] = read_aesthetic_features('./aesthetic_feat_dev-set_mean/' + (video.split('.')[0]) + '.txt')\n",
    "    df_aes.loc[i,'AES-median'] = read_aesthetic_features('./aesthetic_feat_dev-set_median/' + (video.split('.')[0]) + '.txt')\n",
    "    pbar.update()"
   ]
  },
  {
   "cell_type": "code",
   "execution_count": null,
   "metadata": {
    "id": "eNtNXOa7nbkL"
   },
   "outputs": [],
   "source": [
    "os.chdir('/content/drive/My Drive/')\n",
    "df_aes.to_pickle(\"AES_file.pkl\")"
   ]
  },
  {
   "cell_type": "code",
   "execution_count": null,
   "metadata": {
    "colab": {
     "base_uri": "https://localhost:8080/"
    },
    "id": "bNA0-_IPS_iA",
    "outputId": "1bdb7490-d980-4cfa-846f-60696ba05012"
   },
   "outputs": [
    {
     "name": "stdout",
     "output_type": "stream",
     "text": [
      "               video  ...                                         AES-median\n",
      "0        video3.webm  ...  [0.180874, 0.715626, 0.19893, 0.610453, 0.1216...\n",
      "1        video4.webm  ...  [0.146076, 0.55007, 0.460729, 0.424397, 0.3418...\n",
      "2        video6.webm  ...  [0.063898, 0.827439, 0.211925, 0.720297, 0.129...\n",
      "3        video8.webm  ...  [0.380539, 0.134683, 0.746891, 0.171604, 0.697...\n",
      "4       video10.webm  ...  [0.427258, 0.381448, 0.582746, 0.409475, 0.489...\n",
      "...              ...  ...                                                ...\n",
      "5995  video7488.webm  ...  [0.413464, 0.195451, 0.71372, 0.282848, 0.6534...\n",
      "5996  video7489.webm  ...  [0.264377, 0.192016, 0.448979, 0.164919, 0.412...\n",
      "5997  video7491.webm  ...  [0.177078, 0.221348, 0.67387, 0.180848, 0.6131...\n",
      "5998  video7492.webm  ...  [0.113838, 0.585274, 0.496719, 0.474999, 0.352...\n",
      "5999  video7493.webm  ...  [0.554715, 0.132732, 0.691821, 0.209476, 0.646...\n",
      "\n",
      "[6000 rows x 3 columns]\n"
     ]
    }
   ],
   "source": [
    "os.chdir('/content/drive/My Drive/CA684 - Machine Learning Assignment')\n",
    "df_aes = pd.read_pickle(\"AES_file.pkl\")\n",
    "print(df_aes)"
   ]
  },
  {
   "cell_type": "code",
   "execution_count": null,
   "metadata": {
    "colab": {
     "base_uri": "https://localhost:8080/"
    },
    "id": "tbfWA9WTUJ53",
    "outputId": "cfdc4c18-87ce-4c29-900e-85dc115c5c92"
   },
   "outputs": [
    {
     "data": {
      "text/plain": [
       "(6000, 109)"
      ]
     },
     "execution_count": 11,
     "metadata": {
      "tags": []
     },
     "output_type": "execute_result"
    }
   ],
   "source": [
    "max_len = 109\n",
    "X_seq = define_x_seq(df_aes,max_len,'AES-mean', len(df_aes.loc[0,'AES-mean']))\n",
    "X_seq.shape"
   ]
  },
  {
   "cell_type": "code",
   "execution_count": null,
   "metadata": {
    "id": "VpPAxuNTUqJn"
   },
   "outputs": [],
   "source": [
    "X_train, X_test, Y_train, Y_test = Split_data(X_seq)"
   ]
  },
  {
   "cell_type": "markdown",
   "metadata": {
    "id": "3eGUPxZgT4Kt"
   },
   "source": [
    "## 5.2 Random Forest (0.324, 0.134)"
   ]
  },
  {
   "cell_type": "code",
   "execution_count": null,
   "metadata": {
    "colab": {
     "base_uri": "https://localhost:8080/"
    },
    "id": "jle6w1tZUyQX",
    "outputId": "544d77ef-1843-498e-feea-87fae363e343",
    "scrolled": true
   },
   "outputs": [
    {
     "data": {
      "text/plain": [
       "RandomForestRegressor(bootstrap=True, ccp_alpha=0.0, criterion='mse',\n",
       "                      max_depth=None, max_features='auto', max_leaf_nodes=None,\n",
       "                      max_samples=None, min_impurity_decrease=0.0,\n",
       "                      min_impurity_split=None, min_samples_leaf=1,\n",
       "                      min_samples_split=2, min_weight_fraction_leaf=0.0,\n",
       "                      n_estimators=1000, n_jobs=None, oob_score=False,\n",
       "                      random_state=42, verbose=0, warm_start=False)"
      ]
     },
     "execution_count": 180,
     "metadata": {
      "tags": []
     },
     "output_type": "execute_result"
    }
   ],
   "source": [
    "# Instantiate model with 1000 decision trees\n",
    "rf = RandomForestRegressor(n_estimators = 1000, random_state = 42)\n",
    "# Train the model on training data\n",
    "rf.fit(X_train, Y_train)"
   ]
  },
  {
   "cell_type": "code",
   "execution_count": null,
   "metadata": {
    "colab": {
     "base_uri": "https://localhost:8080/"
    },
    "id": "14ulbSYLU11b",
    "outputId": "f2d34b0a-b90c-45ee-dbb6-cd92eb2ba4dd"
   },
   "outputs": [
    {
     "name": "stdout",
     "output_type": "stream",
     "text": [
      "The Spearman's correlation coefficient is: 0.324\n",
      "The Spearman's correlation coefficient is: 0.134\n"
     ]
    }
   ],
   "source": [
    "predictions = rf.predict(X_test)\n",
    "Get_score(predictions, Y_test)"
   ]
  },
  {
   "cell_type": "markdown",
   "metadata": {
    "id": "yc-rMgHBU-pW"
   },
   "source": [
    "## 5.3 Support Vector Regressor (0.197, 0.097)"
   ]
  },
  {
   "cell_type": "code",
   "execution_count": null,
   "metadata": {
    "colab": {
     "base_uri": "https://localhost:8080/"
    },
    "id": "lsL3rDqgVNqy",
    "outputId": "1ef682cf-5ee4-4fbd-ffb5-2b07ff674b5f"
   },
   "outputs": [
    {
     "name": "stdout",
     "output_type": "stream",
     "text": [
      "The Spearman's correlation coefficient is: 0.197\n"
     ]
    }
   ],
   "source": [
    "regressor = BaggingRegressor(SVR(kernel = 'rbf'))\n",
    "regressor.fit(X_train, Y_train[:,0])\n",
    "predictions = regressor.predict(X_test)\n",
    "Get_score(predictions, Y_test[:,0])"
   ]
  },
  {
   "cell_type": "code",
   "execution_count": null,
   "metadata": {
    "colab": {
     "base_uri": "https://localhost:8080/"
    },
    "id": "iC8P0Sy1VRGS",
    "outputId": "89cc6189-796f-47d8-e997-f561259df986"
   },
   "outputs": [
    {
     "name": "stdout",
     "output_type": "stream",
     "text": [
      "The Spearman's correlation coefficient is: 0.097\n"
     ]
    }
   ],
   "source": [
    "regressor_long_term_memorability =  BaggingRegressor(SVR(kernel = 'rbf'))\n",
    "regressor_long_term_memorability.fit(X_train, Y_train[:,1])\n",
    "predictions_long_term = regressor_long_term_memorability.predict(X_test)\n",
    "Get_score(predictions_long_term, Y_test[:,1])"
   ]
  },
  {
   "cell_type": "markdown",
   "metadata": {
    "id": "3iGD0V4dVS61"
   },
   "source": [
    "## 5.4 Elastic Net (0.270, 0.118)"
   ]
  },
  {
   "cell_type": "code",
   "execution_count": null,
   "metadata": {
    "colab": {
     "base_uri": "https://localhost:8080/"
    },
    "id": "1_dAcPLOVWhn",
    "outputId": "b493f00e-fd0a-4893-87ec-3f8cdba9f13c"
   },
   "outputs": [
    {
     "name": "stderr",
     "output_type": "stream",
     "text": [
      "/usr/local/lib/python3.7/dist-packages/sklearn/linear_model/_coordinate_descent.py:476: ConvergenceWarning: Objective did not converge. You might want to increase the number of iterations. Duality gap: 14.242866206270572, tolerance: 0.0031603040479166646\n",
      "  positive)\n"
     ]
    },
    {
     "name": "stdout",
     "output_type": "stream",
     "text": [
      "The Spearman's correlation coefficient is: 0.270\n",
      "The Spearman's correlation coefficient is: 0.118\n"
     ]
    },
    {
     "name": "stderr",
     "output_type": "stream",
     "text": [
      "/usr/local/lib/python3.7/dist-packages/sklearn/linear_model/_coordinate_descent.py:476: ConvergenceWarning: Objective did not converge. You might want to increase the number of iterations. Duality gap: 47.82902136217619, tolerance: 0.009935011935916671\n",
      "  positive)\n"
     ]
    }
   ],
   "source": [
    "ElasticNet_model = ElasticNet(alpha=0.001, l1_ratio=0.0)\n",
    "ElasticNet_model.fit(X_train, Y_train)\n",
    "predictions = ElasticNet_model.predict(X_test)\n",
    "Get_score(predictions, Y_test)"
   ]
  },
  {
   "cell_type": "markdown",
   "metadata": {
    "id": "gVbuzCGIVetg"
   },
   "source": [
    "## 5.5 Gradient Boosting Regressor (0.284, 0.110)"
   ]
  },
  {
   "cell_type": "code",
   "execution_count": null,
   "metadata": {
    "colab": {
     "base_uri": "https://localhost:8080/"
    },
    "id": "_tKHS2uHVl-o",
    "outputId": "449865b8-0d6a-476f-d86a-dee6cd105a1a"
   },
   "outputs": [
    {
     "name": "stdout",
     "output_type": "stream",
     "text": [
      "The Spearman's correlation coefficient is: 0.284\n"
     ]
    }
   ],
   "source": [
    "model= GradientBoostingRegressor()\n",
    "model.fit(X_train, Y_train[:,0])\n",
    "predictions = model.predict(X_test)\n",
    "Get_score(predictions, Y_test[:,0])"
   ]
  },
  {
   "cell_type": "code",
   "execution_count": null,
   "metadata": {
    "colab": {
     "base_uri": "https://localhost:8080/"
    },
    "id": "1eMZUEG_Vmlm",
    "outputId": "0d31b2b6-0489-4723-e820-dd47476ef8c3"
   },
   "outputs": [
    {
     "name": "stdout",
     "output_type": "stream",
     "text": [
      "The Spearman's correlation coefficient is: 0.110\n"
     ]
    }
   ],
   "source": [
    "model= GradientBoostingRegressor()\n",
    "model.fit(X_train, Y_train[:,1])\n",
    "predictions = model.predict(X_test)\n",
    "Get_score(predictions, Y_test[:,1])"
   ]
  },
  {
   "cell_type": "markdown",
   "metadata": {
    "id": "bu4_afruvu1a"
   },
   "source": [
    "# 6> Apply LBP and C3D on Elastic Net, Random Forest and Gradient Boosting Regressor"
   ]
  },
  {
   "cell_type": "markdown",
   "metadata": {
    "id": "w51EsSURX5DB"
   },
   "source": [
    "## 6.1 Loading Data"
   ]
  },
  {
   "cell_type": "code",
   "execution_count": null,
   "metadata": {
    "colab": {
     "base_uri": "https://localhost:8080/"
    },
    "id": "Qy_NzIVWEYf7",
    "outputId": "c468cd59-7c97-4eea-dbf2-397afc4201fb"
   },
   "outputs": [
    {
     "name": "stdout",
     "output_type": "stream",
     "text": [
      "15\n"
     ]
    },
    {
     "data": {
      "text/plain": [
       "(6000, 467)"
      ]
     },
     "execution_count": 12,
     "metadata": {
      "tags": []
     },
     "output_type": "execute_result"
    }
   ],
   "source": [
    "max_len = 467\n",
    "len(pickle_df_c3d)\n",
    "X_seq = np.zeros((len(df_lbp['LBP-112']),max_len))\n",
    "count = 0\n",
    "for i in range(len(df_lbp['LBP-112'])):\n",
    "    n = 467\n",
    "    if n==0:\n",
    "        print(i)\n",
    "    elif len(df_lbp.loc[i,'LBP-0'] + df_lbp.loc[i,'LBP-56'] + df_lbp.loc[i,'LBP-112']) == 366:\n",
    "        X_seq[i,-n:] = df_lbp.loc[i,'LBP-0'] + df_lbp.loc[i,'LBP-56'] + df_lbp.loc[i,'LBP-112'] + pickle_df_c3d.loc[i,'C3D']\n",
    "    else:\n",
    "      count = count + 1\n",
    "print(count)\n",
    "X_seq.shape"
   ]
  },
  {
   "cell_type": "code",
   "execution_count": null,
   "metadata": {
    "id": "x8dkTCQ-E9a3"
   },
   "outputs": [],
   "source": [
    "X_train, X_test, Y_train, Y_test =Split_data(X_seq)"
   ]
  },
  {
   "cell_type": "markdown",
   "metadata": {
    "id": "D0O6ZenkX_62"
   },
   "source": [
    "## 6.2 Elastic Net (0.293, 0.124)"
   ]
  },
  {
   "cell_type": "code",
   "execution_count": null,
   "metadata": {
    "colab": {
     "base_uri": "https://localhost:8080/"
    },
    "id": "_cvxp1_Iv197",
    "outputId": "162cefb1-8cc5-4c56-a17e-534eda69724d"
   },
   "outputs": [
    {
     "name": "stderr",
     "output_type": "stream",
     "text": [
      "/usr/local/lib/python3.7/dist-packages/sklearn/linear_model/_coordinate_descent.py:476: ConvergenceWarning: Objective did not converge. You might want to increase the number of iterations. Duality gap: 14.257270377322309, tolerance: 0.0031603040479166646\n",
      "  positive)\n"
     ]
    },
    {
     "name": "stdout",
     "output_type": "stream",
     "text": [
      "The Spearman's correlation coefficient is: 0.293\n",
      "The Spearman's correlation coefficient is: 0.124\n"
     ]
    },
    {
     "name": "stderr",
     "output_type": "stream",
     "text": [
      "/usr/local/lib/python3.7/dist-packages/sklearn/linear_model/_coordinate_descent.py:476: ConvergenceWarning: Objective did not converge. You might want to increase the number of iterations. Duality gap: 48.09832705440102, tolerance: 0.009935011935916671\n",
      "  positive)\n"
     ]
    }
   ],
   "source": [
    "ElasticNet_model = ElasticNet(alpha=0.001, l1_ratio=0.0)\n",
    "ElasticNet_model.fit(X_train, Y_train)\n",
    "predictions = ElasticNet_model.predict(X_test)\n",
    "Get_score(predictions, Y_test)"
   ]
  },
  {
   "cell_type": "markdown",
   "metadata": {
    "id": "m0pWK5ZNX8qO"
   },
   "source": [
    "## 6.3 Random Forest (0.337, 0.132)"
   ]
  },
  {
   "cell_type": "code",
   "execution_count": null,
   "metadata": {
    "colab": {
     "base_uri": "https://localhost:8080/"
    },
    "id": "LshBAQruFGLe",
    "outputId": "9ccaeeb4-62e2-4308-9aa4-1be4a6c95717"
   },
   "outputs": [
    {
     "name": "stdout",
     "output_type": "stream",
     "text": [
      "The Spearman's correlation coefficient is: 0.337\n",
      "The Spearman's correlation coefficient is: 0.132\n"
     ]
    }
   ],
   "source": [
    "# Instantiate model with 1000 decision trees\n",
    "rf = RandomForestRegressor(n_estimators = 1000, random_state = 42)\n",
    "# Train the model on training data\n",
    "rf.fit(X_train, Y_train)\n",
    "predictions = rf.predict(X_test)\n",
    "Get_score(predictions, Y_test)"
   ]
  },
  {
   "cell_type": "markdown",
   "metadata": {
    "id": "DRBRnp0vYImb"
   },
   "source": [
    "## 6.4 Gradient Boosting Regression (0.330, 0.096)"
   ]
  },
  {
   "cell_type": "code",
   "execution_count": null,
   "metadata": {
    "colab": {
     "base_uri": "https://localhost:8080/"
    },
    "id": "Vgep4St3N_IH",
    "outputId": "b737abd3-4f97-4c1c-b308-9316e281d679"
   },
   "outputs": [
    {
     "name": "stdout",
     "output_type": "stream",
     "text": [
      "The Spearman's correlation coefficient is: 0.330\n"
     ]
    }
   ],
   "source": [
    "model= GradientBoostingRegressor()\n",
    "model.fit(X_train, Y_train[:,0])\n",
    "predictions = model.predict(X_test)\n",
    "Get_score(predictions, Y_test[:,0])"
   ]
  },
  {
   "cell_type": "code",
   "execution_count": null,
   "metadata": {
    "colab": {
     "base_uri": "https://localhost:8080/"
    },
    "id": "Nv54wTP-Yjv1",
    "outputId": "80e33a5d-826b-4b2b-ba1e-cff842d7170e"
   },
   "outputs": [
    {
     "name": "stdout",
     "output_type": "stream",
     "text": [
      "The Spearman's correlation coefficient is: 0.096\n"
     ]
    }
   ],
   "source": [
    "model.fit(X_train, Y_train[:,1])\n",
    "predictions = model.predict(X_test)\n",
    "Get_score(predictions, Y_test[:,1])"
   ]
  },
  {
   "cell_type": "markdown",
   "metadata": {
    "id": "LCl8SbgU3DuT"
   },
   "source": [
    "# 7> Load Ground-truth, LBP, C3D and Aesthetic features from Test-set.  "
   ]
  },
  {
   "cell_type": "markdown",
   "metadata": {
    "id": "FwIzbPV8F603"
   },
   "source": [
    "## 7.1 Load Ground truth"
   ]
  },
  {
   "cell_type": "code",
   "execution_count": null,
   "metadata": {
    "colab": {
     "base_uri": "https://localhost:8080/",
     "height": 195
    },
    "id": "CI40rBwqF9eX",
    "outputId": "75ae49da-6a40-4442-8022-d87530cd5b42"
   },
   "outputs": [
    {
     "data": {
      "text/html": [
       "<div>\n",
       "<style scoped>\n",
       "    .dataframe tbody tr th:only-of-type {\n",
       "        vertical-align: middle;\n",
       "    }\n",
       "\n",
       "    .dataframe tbody tr th {\n",
       "        vertical-align: top;\n",
       "    }\n",
       "\n",
       "    .dataframe thead th {\n",
       "        text-align: right;\n",
       "    }\n",
       "</style>\n",
       "<table border=\"1\" class=\"dataframe\">\n",
       "  <thead>\n",
       "    <tr style=\"text-align: right;\">\n",
       "      <th></th>\n",
       "      <th>video</th>\n",
       "      <th>short-term_memorability</th>\n",
       "      <th>nb_short-term_annotations</th>\n",
       "      <th>long-term_memorability</th>\n",
       "      <th>nb_long-term_annotations</th>\n",
       "    </tr>\n",
       "  </thead>\n",
       "  <tbody>\n",
       "    <tr>\n",
       "      <th>0</th>\n",
       "      <td>7494</td>\n",
       "      <td>NaN</td>\n",
       "      <td>33</td>\n",
       "      <td>NaN</td>\n",
       "      <td>12</td>\n",
       "    </tr>\n",
       "    <tr>\n",
       "      <th>1</th>\n",
       "      <td>7495</td>\n",
       "      <td>NaN</td>\n",
       "      <td>34</td>\n",
       "      <td>NaN</td>\n",
       "      <td>10</td>\n",
       "    </tr>\n",
       "    <tr>\n",
       "      <th>2</th>\n",
       "      <td>7496</td>\n",
       "      <td>NaN</td>\n",
       "      <td>32</td>\n",
       "      <td>NaN</td>\n",
       "      <td>13</td>\n",
       "    </tr>\n",
       "    <tr>\n",
       "      <th>3</th>\n",
       "      <td>7497</td>\n",
       "      <td>NaN</td>\n",
       "      <td>33</td>\n",
       "      <td>NaN</td>\n",
       "      <td>10</td>\n",
       "    </tr>\n",
       "    <tr>\n",
       "      <th>4</th>\n",
       "      <td>7498</td>\n",
       "      <td>NaN</td>\n",
       "      <td>33</td>\n",
       "      <td>NaN</td>\n",
       "      <td>10</td>\n",
       "    </tr>\n",
       "  </tbody>\n",
       "</table>\n",
       "</div>"
      ],
      "text/plain": [
       "   video  ...  nb_long-term_annotations\n",
       "0   7494  ...                        12\n",
       "1   7495  ...                        10\n",
       "2   7496  ...                        13\n",
       "3   7497  ...                        10\n",
       "4   7498  ...                        10\n",
       "\n",
       "[5 rows x 5 columns]"
      ]
     },
     "execution_count": 30,
     "metadata": {
      "tags": []
     },
     "output_type": "execute_result"
    }
   ],
   "source": [
    "os.chdir('/content/drive/My Drive/CA684_Assignment')\n",
    "label_test_path = './Test-set/Ground-truth_test/'\n",
    "labels_test=pd.read_csv(label_test_path+'ground_truth_template.csv')\n",
    "labels_test.head()"
   ]
  },
  {
   "cell_type": "markdown",
   "metadata": {
    "id": "h0WqabNyR1md"
   },
   "source": [
    "## 7.2 Short-term memorability model"
   ]
  },
  {
   "cell_type": "markdown",
   "metadata": {
    "id": "MWirHMEoEiTo"
   },
   "source": [
    "### 7.2.1 Load LBP"
   ]
  },
  {
   "cell_type": "code",
   "execution_count": null,
   "metadata": {
    "colab": {
     "base_uri": "https://localhost:8080/"
    },
    "id": "l_bE5EX03oLT",
    "outputId": "93a54e5e-c992-433f-d47d-808dc3669dba"
   },
   "outputs": [
    {
     "name": "stderr",
     "output_type": "stream",
     "text": [
      "Loading LBP files\n",
      "0% [##############################] 100% | ETA: 00:00:00"
     ]
    },
    {
     "name": "stdout",
     "output_type": "stream",
     "text": [
      "  video  ...                                            LBP-112\n",
      "0  7494  ...  [0.02417197, 0.00418789, 0.00467159, 0.0043050...\n",
      "1  7495  ...  [0.01960311, 0.00339506, 0.00394001, 0.0038580...\n",
      "2  7496  ...  [0.00498553, 0.00084443, 0.00075231, 0.0005550...\n",
      "3  7497  ...  [0.00843509, 0.00161748, 0.00147762, 0.0012842...\n",
      "4  7498  ...  [0.01391638, 0.00212577, 0.00200183, 0.0017192...\n",
      "\n",
      "[5 rows x 4 columns]\n"
     ]
    },
    {
     "name": "stderr",
     "output_type": "stream",
     "text": [
      "\n",
      "Total time elapsed: 00:25:05\n"
     ]
    }
   ],
   "source": [
    "os.chdir('/content/drive/My Drive/CA684_Assignment')\n",
    "\n",
    "# Read LBP files\n",
    "def read_LBP(fname):\n",
    "    \"\"\"Scan vectors from file\"\"\"   \n",
    "    if os.path.exists(fname):\n",
    "      with open(fname) as f:\n",
    "          for line in f:\n",
    "              LBP =[float(item) for item in line.split()] # convert to float type, using default separator\n",
    "      return LBP\n",
    "    else:\n",
    "      return np.zeros(122)\n",
    "\n",
    "pbar = pyprind.ProgBar(len(labels_test['video']), title='Loading LBP files')\n",
    "\n",
    "df_lbp_test = pd.DataFrame(columns=['video','LBP-0','LBP-56','LBP-112'])\n",
    "\n",
    "# load the LBP\n",
    "for i, video in enumerate(labels_test['video']):\n",
    "    df_lbp_test.loc[i,'video'] = video   \n",
    "    df_lbp_test.loc[i,'LBP-0'] = read_LBP('./Test-set/LBP_test/' + 'video' + str(video) + '-0.txt')\n",
    "    df_lbp_test.loc[i,'LBP-56'] = read_LBP('./Test-set/LBP_test/' + 'video' + str(video) + '-56.txt')\n",
    "    df_lbp_test.loc[i,'LBP-112'] = read_LBP('./Test-set/LBP_test/' + 'video' + str(video) + '-112.txt')\n",
    "    pbar.update()\n",
    "\n",
    "print(df_lbp_test.head())\n",
    "\n",
    "os.chdir('/content/drive/My Drive/')\n",
    "df_lbp_test.to_pickle(\"LBP_test_file.pkl\")"
   ]
  },
  {
   "cell_type": "markdown",
   "metadata": {
    "id": "WiVoBWg_J2GY"
   },
   "source": [
    "### 7.2.2 Load C3D"
   ]
  },
  {
   "cell_type": "code",
   "execution_count": null,
   "metadata": {
    "colab": {
     "base_uri": "https://localhost:8080/"
    },
    "id": "sW5DN45XJ02j",
    "outputId": "87c161bb-db6f-4ee0-daa2-47ff29858646"
   },
   "outputs": [
    {
     "name": "stderr",
     "output_type": "stream",
     "text": [
      "Loading C3D files\n",
      "0% [##############################] 100% | ETA: 00:00:00"
     ]
    },
    {
     "name": "stdout",
     "output_type": "stream",
     "text": [
      "  video                                                C3D\n",
      "0  7494  [0.00013576, 0.0002133, 0.00124759, 1.149e-05,...\n",
      "1  7495  [0.00012659, 2.377e-05, 0.04950115, 2.418e-05,...\n",
      "2  7496  [0.48898152, 0.00058536, 2.454e-05, 0.00016031...\n",
      "3  7497  [0.24925078, 0.00101763, 8.02e-06, 1.92e-05, 2...\n",
      "4  7498  [0.00989415, 3.413e-05, 0.00261261, 2.1e-06, 1...\n"
     ]
    },
    {
     "name": "stderr",
     "output_type": "stream",
     "text": [
      "\n",
      "Total time elapsed: 00:06:58\n"
     ]
    }
   ],
   "source": [
    "#Change the directory\n",
    "os.chdir('/content/drive/My Drive/CA684_Assignment')\n",
    "\n",
    "# load C3D\n",
    "def read_C3D(fname):\n",
    "    \"\"\"Scan vectors from file\"\"\"\n",
    "    with open(fname) as f:\n",
    "        for line in f:\n",
    "            C3D =[float(item) for item in line.split()] # convert to float type, using default separator\n",
    "    return C3D\n",
    "\n",
    "df_c3d_test = pd.DataFrame(columns=['video','C3D'])\n",
    "\n",
    "pbar = pyprind.ProgBar(len(labels_test['video']), title='Loading C3D files')\n",
    "\n",
    "# load the C3D\n",
    "for i, video in enumerate(labels_test['video']):\n",
    "    File_name = 'video' + str(video) + '.txt'\n",
    "    c3d_path = './Test-set/C3D_test/' + File_name\n",
    "    df_c3d_test.loc[i,'video'] = video\n",
    "    df_c3d_test.loc[i,'C3D'] = read_C3D(c3d_path)\n",
    "    pbar.update()\n",
    "\n",
    "print(df_c3d_test.head())\n",
    "\n",
    "os.chdir('/content/drive/My Drive/')\n",
    "df_c3d_test.to_pickle(\"C3D_test_file.pkl\")"
   ]
  },
  {
   "cell_type": "markdown",
   "metadata": {
    "id": "vFsKPUkPSNUi"
   },
   "source": [
    "### 7.2.3 Create X_train and Y_train from 6000 dataset for training purpose"
   ]
  },
  {
   "cell_type": "code",
   "execution_count": null,
   "metadata": {
    "colab": {
     "base_uri": "https://localhost:8080/"
    },
    "id": "M-Xh9rNVVRMR",
    "outputId": "41f8e1e7-3662-4c1b-a69f-df52999dd81b"
   },
   "outputs": [
    {
     "name": "stdout",
     "output_type": "stream",
     "text": [
      "15\n"
     ]
    },
    {
     "data": {
      "text/plain": [
       "(6000, 467)"
      ]
     },
     "execution_count": 72,
     "metadata": {
      "tags": []
     },
     "output_type": "execute_result"
    }
   ],
   "source": [
    "max_len = 467\n",
    "len(pickle_df_c3d)\n",
    "X_train = np.zeros((len(df_lbp['LBP-112']),max_len))\n",
    "count = 0\n",
    "invalid_LBP_File = []\n",
    "for i in range(len(df_lbp['LBP-112'])):\n",
    "    n = 467\n",
    "    if n==0:\n",
    "        print(i)\n",
    "    elif len(df_lbp.loc[i,'LBP-0'] + df_lbp.loc[i,'LBP-56'] + df_lbp.loc[i,'LBP-112']) == 366:\n",
    "        X_train[i,-n:] = df_lbp.loc[i,'LBP-0'] + df_lbp.loc[i,'LBP-56'] + df_lbp.loc[i,'LBP-112'] + pickle_df_c3d.loc[i,'C3D']\n",
    "    else:\n",
    "      count = count + 1\n",
    "print(count)\n",
    "X_train.shape"
   ]
  },
  {
   "cell_type": "code",
   "execution_count": null,
   "metadata": {
    "id": "0zU_Y5b8ZbxF"
   },
   "outputs": [],
   "source": [
    "Y_train = labels[['short-term_memorability','long-term_memorability']].values # targets"
   ]
  },
  {
   "cell_type": "code",
   "execution_count": null,
   "metadata": {
    "colab": {
     "base_uri": "https://localhost:8080/"
    },
    "id": "5JmDZ7C0b7tB",
    "outputId": "fa979eba-328a-4ecb-b07d-db360e6df476"
   },
   "outputs": [
    {
     "data": {
      "text/plain": [
       "(6000, 2)"
      ]
     },
     "execution_count": 82,
     "metadata": {
      "tags": []
     },
     "output_type": "execute_result"
    }
   ],
   "source": [
    "Y_train.shape"
   ]
  },
  {
   "cell_type": "markdown",
   "metadata": {
    "id": "HnZcasDaZx_l"
   },
   "source": [
    "### 7.2.4 Create X_test on 2000 dataset for evaluation purpose"
   ]
  },
  {
   "cell_type": "code",
   "execution_count": null,
   "metadata": {
    "colab": {
     "base_uri": "https://localhost:8080/"
    },
    "id": "jQQLXdvZSbvd",
    "outputId": "c549f565-845a-474b-db77-3173e681e62b"
   },
   "outputs": [
    {
     "name": "stdout",
     "output_type": "stream",
     "text": [
      "4\n"
     ]
    },
    {
     "data": {
      "text/plain": [
       "(2000, 467)"
      ]
     },
     "execution_count": 44,
     "metadata": {
      "tags": []
     },
     "output_type": "execute_result"
    }
   ],
   "source": [
    "max_len = 467\n",
    "X_test = np.zeros((len(df_lbp_test['LBP-112']),max_len))\n",
    "count = 0\n",
    "for i in range(len(df_lbp_test['LBP-112'])):\n",
    "    n = 467\n",
    "    if n==0:\n",
    "        print(i)\n",
    "    elif len(df_lbp_test.loc[i,'LBP-0'] + df_lbp_test.loc[i,'LBP-56'] + df_lbp_test.loc[i,'LBP-112']) == 366:\n",
    "        X_test[i,-n:] = df_lbp_test.loc[i,'LBP-0'] + df_lbp_test.loc[i,'LBP-56'] + df_lbp_test.loc[i,'LBP-112'] + df_c3d_test.loc[i,'C3D']\n",
    "    else:\n",
    "      count = count + 1\n",
    "print(count)\n",
    "X_test.shape"
   ]
  },
  {
   "cell_type": "markdown",
   "metadata": {
    "id": "Y663vBi_bhLQ"
   },
   "source": [
    "### 7.2.5 Random Forest"
   ]
  },
  {
   "cell_type": "code",
   "execution_count": null,
   "metadata": {
    "id": "MyVyuWb2bhLS"
   },
   "outputs": [],
   "source": [
    "# Instantiate model with 1000 decision trees\n",
    "rf = RandomForestRegressor(n_estimators = 1000, random_state = 42)\n",
    "# Train the model on training data\n",
    "rf.fit(X_train, Y_train)\n",
    "predictions = rf.predict(X_test)"
   ]
  },
  {
   "cell_type": "code",
   "execution_count": null,
   "metadata": {
    "id": "GUKlTLXMmze9"
   },
   "outputs": [],
   "source": [
    "os.chdir('/content/drive/My Drive/')\n",
    "pickle.dump(rf, open('Random_Forest_text_Short_term_Model.sav', 'wb'))"
   ]
  },
  {
   "cell_type": "code",
   "execution_count": null,
   "metadata": {
    "colab": {
     "base_uri": "https://localhost:8080/"
    },
    "id": "gtQ7MiK-mUbs",
    "outputId": "ad98354b-aa17-4d73-ab9a-bf7291e28e00"
   },
   "outputs": [
    {
     "data": {
      "text/plain": [
       "0.8480917499999994"
      ]
     },
     "execution_count": 88,
     "metadata": {
      "tags": []
     },
     "output_type": "execute_result"
    }
   ],
   "source": [
    "predictions[0,0]"
   ]
  },
  {
   "cell_type": "code",
   "execution_count": null,
   "metadata": {
    "id": "GjyDWqATm9r4"
   },
   "outputs": [],
   "source": [
    "for i, video in enumerate(labels_test['video']):\n",
    "  labels_test.loc[i,'short-term_memorability'] = predictions[i,0]"
   ]
  },
  {
   "cell_type": "code",
   "execution_count": null,
   "metadata": {
    "colab": {
     "base_uri": "https://localhost:8080/",
     "height": 195
    },
    "id": "H5QoQwfUogvJ",
    "outputId": "9bf7973c-2833-4f79-95f9-746aa9fddb45"
   },
   "outputs": [
    {
     "data": {
      "text/html": [
       "<div>\n",
       "<style scoped>\n",
       "    .dataframe tbody tr th:only-of-type {\n",
       "        vertical-align: middle;\n",
       "    }\n",
       "\n",
       "    .dataframe tbody tr th {\n",
       "        vertical-align: top;\n",
       "    }\n",
       "\n",
       "    .dataframe thead th {\n",
       "        text-align: right;\n",
       "    }\n",
       "</style>\n",
       "<table border=\"1\" class=\"dataframe\">\n",
       "  <thead>\n",
       "    <tr style=\"text-align: right;\">\n",
       "      <th></th>\n",
       "      <th>video</th>\n",
       "      <th>short-term_memorability</th>\n",
       "      <th>nb_short-term_annotations</th>\n",
       "      <th>long-term_memorability</th>\n",
       "      <th>nb_long-term_annotations</th>\n",
       "    </tr>\n",
       "  </thead>\n",
       "  <tbody>\n",
       "    <tr>\n",
       "      <th>0</th>\n",
       "      <td>7494</td>\n",
       "      <td>0.848092</td>\n",
       "      <td>33</td>\n",
       "      <td>NaN</td>\n",
       "      <td>12</td>\n",
       "    </tr>\n",
       "    <tr>\n",
       "      <th>1</th>\n",
       "      <td>7495</td>\n",
       "      <td>0.816057</td>\n",
       "      <td>34</td>\n",
       "      <td>NaN</td>\n",
       "      <td>10</td>\n",
       "    </tr>\n",
       "    <tr>\n",
       "      <th>2</th>\n",
       "      <td>7496</td>\n",
       "      <td>0.859052</td>\n",
       "      <td>32</td>\n",
       "      <td>NaN</td>\n",
       "      <td>13</td>\n",
       "    </tr>\n",
       "    <tr>\n",
       "      <th>3</th>\n",
       "      <td>7497</td>\n",
       "      <td>0.889942</td>\n",
       "      <td>33</td>\n",
       "      <td>NaN</td>\n",
       "      <td>10</td>\n",
       "    </tr>\n",
       "    <tr>\n",
       "      <th>4</th>\n",
       "      <td>7498</td>\n",
       "      <td>0.844994</td>\n",
       "      <td>33</td>\n",
       "      <td>NaN</td>\n",
       "      <td>10</td>\n",
       "    </tr>\n",
       "  </tbody>\n",
       "</table>\n",
       "</div>"
      ],
      "text/plain": [
       "   video  ...  nb_long-term_annotations\n",
       "0   7494  ...                        12\n",
       "1   7495  ...                        10\n",
       "2   7496  ...                        13\n",
       "3   7497  ...                        10\n",
       "4   7498  ...                        10\n",
       "\n",
       "[5 rows x 5 columns]"
      ]
     },
     "execution_count": 91,
     "metadata": {
      "tags": []
     },
     "output_type": "execute_result"
    }
   ],
   "source": [
    "labels_test.head()"
   ]
  },
  {
   "cell_type": "code",
   "execution_count": null,
   "metadata": {
    "id": "68zOaAnSoRT3"
   },
   "outputs": [],
   "source": [
    "os.chdir('/content/drive/My Drive/')\n",
    "labels_test.to_pickle(\"Short-term_Scores.pkl\")"
   ]
  },
  {
   "cell_type": "markdown",
   "metadata": {
    "id": "wXv3tXCsoEVn"
   },
   "source": [
    "## 7.3 Long-term memorability model"
   ]
  },
  {
   "cell_type": "markdown",
   "metadata": {
    "id": "QMlURLPLKx4r"
   },
   "source": [
    "### 7.3.1 Load Aesthetic features"
   ]
  },
  {
   "cell_type": "code",
   "execution_count": null,
   "metadata": {
    "colab": {
     "base_uri": "https://localhost:8080/"
    },
    "id": "JWXRCPamK1ta",
    "outputId": "60b7c9c7-938c-4bde-e4e8-6326723bacbb"
   },
   "outputs": [
    {
     "name": "stderr",
     "output_type": "stream",
     "text": [
      "Loading Aesthetic files\n",
      "0% [##############################] 100% | ETA: 00:00:00"
     ]
    },
    {
     "name": "stdout",
     "output_type": "stream",
     "text": [
      "  video                                           AES-mean\n",
      "0  7494  [0.15188, 0.435622, 0.385821, 0.324642, 0.3163...\n",
      "1  7495  [0.346129, 0.39686, 0.518731, 0.417674, 0.4222...\n",
      "2  7496  [0.126344, 0.225354, 0.479295, 0.172265, 0.432...\n",
      "3  7497  [0.217836, 0.338128, 0.633791, 0.245464, 0.529...\n",
      "4  7498  [0.436468, 0.292819, 0.4736, 0.270421, 0.40387...\n"
     ]
    },
    {
     "name": "stderr",
     "output_type": "stream",
     "text": [
      "\n",
      "Total time elapsed: 00:08:44\n"
     ]
    }
   ],
   "source": [
    "#Change the directory\n",
    "os.chdir('/content/drive/My Drive/CA684_Assignment')\n",
    "\n",
    "# Read Aesthetic mean feature files\n",
    "def read_aesthetic_features(fname):\n",
    "    \"\"\"Scan vectors from file\"\"\" \n",
    "    if os.path.exists(fname):\n",
    "      with open(fname) as f:\n",
    "          for line in f:\n",
    "              aes =[float(item) for item in line.split(',')] # convert to float type, using default separator\n",
    "      return aes\n",
    "    else:\n",
    "      return np.zeros(109)\n",
    "\n",
    "df_test_aes = pd.DataFrame(columns=['video','AES-mean'])\n",
    "\n",
    "pbar = pyprind.ProgBar(len(labels_test['video']), title='Loading Aesthetic files')\n",
    "\n",
    "# load the Aesthetic files\n",
    "for i, video in enumerate(labels_test['video']):\n",
    "    df_test_aes.loc[i,'video'] = video   \n",
    "    df_test_aes.loc[i,'AES-mean'] = read_aesthetic_features('./Test-set/aesthetic_vis_features_test/mean/' + 'video' + str(video) + '.txt')\n",
    "    pbar.update()\n",
    "\n",
    "print(df_test_aes.head())\n",
    "\n",
    "os.chdir('/content/drive/My Drive/')\n",
    "df_test_aes.to_pickle(\"Aestheic_test_file.pkl\")"
   ]
  },
  {
   "cell_type": "markdown",
   "metadata": {
    "id": "jUVOss7po017"
   },
   "source": [
    "### 7.3.2 Create X_train and Y_train on 6000 dataset for training purpose"
   ]
  },
  {
   "cell_type": "code",
   "execution_count": null,
   "metadata": {
    "colab": {
     "base_uri": "https://localhost:8080/"
    },
    "id": "t9G58PDpn-xC",
    "outputId": "87fbe1d8-071c-4990-db65-52e33410b849"
   },
   "outputs": [
    {
     "data": {
      "text/plain": [
       "(6000, 109)"
      ]
     },
     "execution_count": 94,
     "metadata": {
      "tags": []
     },
     "output_type": "execute_result"
    }
   ],
   "source": [
    "max_len = 109\n",
    "X_train = define_x_seq(df_aes,max_len,'AES-mean', len(df_aes.loc[0,'AES-mean']))\n",
    "X_train.shape"
   ]
  },
  {
   "cell_type": "code",
   "execution_count": null,
   "metadata": {
    "id": "4Nhl-pJ0pIW7"
   },
   "outputs": [],
   "source": [
    "Y_train = labels[['short-term_memorability','long-term_memorability']].values # targets"
   ]
  },
  {
   "cell_type": "markdown",
   "metadata": {
    "id": "vy2gycdtpLSi"
   },
   "source": [
    "### 7.3.3 Create X_test on 2000 dataset for evaluation purpose"
   ]
  },
  {
   "cell_type": "code",
   "execution_count": null,
   "metadata": {
    "colab": {
     "base_uri": "https://localhost:8080/"
    },
    "id": "TLiJG3WppMTe",
    "outputId": "28bc1cb8-1c81-4595-a067-77566f2c7993"
   },
   "outputs": [
    {
     "data": {
      "text/plain": [
       "(2000, 109)"
      ]
     },
     "execution_count": 96,
     "metadata": {
      "tags": []
     },
     "output_type": "execute_result"
    }
   ],
   "source": [
    "max_len = 109\n",
    "X_test = define_x_seq(df_test_aes,max_len,'AES-mean', len(df_test_aes.loc[0,'AES-mean']))\n",
    "X_test.shape"
   ]
  },
  {
   "cell_type": "markdown",
   "metadata": {
    "id": "iEyYRFYfqMOv"
   },
   "source": [
    "### 7.3.4 Random Forest"
   ]
  },
  {
   "cell_type": "code",
   "execution_count": null,
   "metadata": {
    "id": "LOm1O9y6qMOw"
   },
   "outputs": [],
   "source": [
    "# Instantiate model with 1000 decision trees\n",
    "rf = RandomForestRegressor(n_estimators = 1000, random_state = 42)\n",
    "# Train the model on training data\n",
    "rf.fit(X_train, Y_train)\n",
    "predictions = rf.predict(X_test)\n",
    "os.chdir('/content/drive/My Drive/')\n",
    "pickle.dump(rf, open('Random_Forest_text_long_term_Model.sav', 'wb'))"
   ]
  },
  {
   "cell_type": "code",
   "execution_count": null,
   "metadata": {
    "colab": {
     "base_uri": "https://localhost:8080/"
    },
    "id": "LaNVHNV9tJ0b",
    "outputId": "c0d1c78e-3f1f-477a-9461-9636f5cc1940"
   },
   "outputs": [
    {
     "data": {
      "text/plain": [
       "array([0.831126, 0.773691])"
      ]
     },
     "execution_count": 105,
     "metadata": {
      "tags": []
     },
     "output_type": "execute_result"
    }
   ],
   "source": [
    "predictions[4,:]"
   ]
  },
  {
   "cell_type": "code",
   "execution_count": null,
   "metadata": {
    "id": "q_H6-zf1thXf"
   },
   "outputs": [],
   "source": [
    "for i, video in enumerate(labels_test['video']):\n",
    "  labels_test.loc[i,'long-term_memorability'] = predictions[i,1]"
   ]
  },
  {
   "cell_type": "code",
   "execution_count": null,
   "metadata": {
    "colab": {
     "base_uri": "https://localhost:8080/",
     "height": 195
    },
    "id": "FdITermottTz",
    "outputId": "c1351ca2-c920-47ef-d8cd-61b898562aae"
   },
   "outputs": [
    {
     "data": {
      "text/html": [
       "<div>\n",
       "<style scoped>\n",
       "    .dataframe tbody tr th:only-of-type {\n",
       "        vertical-align: middle;\n",
       "    }\n",
       "\n",
       "    .dataframe tbody tr th {\n",
       "        vertical-align: top;\n",
       "    }\n",
       "\n",
       "    .dataframe thead th {\n",
       "        text-align: right;\n",
       "    }\n",
       "</style>\n",
       "<table border=\"1\" class=\"dataframe\">\n",
       "  <thead>\n",
       "    <tr style=\"text-align: right;\">\n",
       "      <th></th>\n",
       "      <th>video</th>\n",
       "      <th>short-term_memorability</th>\n",
       "      <th>nb_short-term_annotations</th>\n",
       "      <th>long-term_memorability</th>\n",
       "      <th>nb_long-term_annotations</th>\n",
       "    </tr>\n",
       "  </thead>\n",
       "  <tbody>\n",
       "    <tr>\n",
       "      <th>0</th>\n",
       "      <td>7494</td>\n",
       "      <td>0.848092</td>\n",
       "      <td>33</td>\n",
       "      <td>0.736455</td>\n",
       "      <td>12</td>\n",
       "    </tr>\n",
       "    <tr>\n",
       "      <th>1</th>\n",
       "      <td>7495</td>\n",
       "      <td>0.816057</td>\n",
       "      <td>34</td>\n",
       "      <td>0.765673</td>\n",
       "      <td>10</td>\n",
       "    </tr>\n",
       "    <tr>\n",
       "      <th>2</th>\n",
       "      <td>7496</td>\n",
       "      <td>0.859052</td>\n",
       "      <td>32</td>\n",
       "      <td>0.786938</td>\n",
       "      <td>13</td>\n",
       "    </tr>\n",
       "    <tr>\n",
       "      <th>3</th>\n",
       "      <td>7497</td>\n",
       "      <td>0.889942</td>\n",
       "      <td>33</td>\n",
       "      <td>0.785356</td>\n",
       "      <td>10</td>\n",
       "    </tr>\n",
       "    <tr>\n",
       "      <th>4</th>\n",
       "      <td>7498</td>\n",
       "      <td>0.844994</td>\n",
       "      <td>33</td>\n",
       "      <td>0.773691</td>\n",
       "      <td>10</td>\n",
       "    </tr>\n",
       "  </tbody>\n",
       "</table>\n",
       "</div>"
      ],
      "text/plain": [
       "   video  ...  nb_long-term_annotations\n",
       "0   7494  ...                        12\n",
       "1   7495  ...                        10\n",
       "2   7496  ...                        13\n",
       "3   7497  ...                        10\n",
       "4   7498  ...                        10\n",
       "\n",
       "[5 rows x 5 columns]"
      ]
     },
     "execution_count": 104,
     "metadata": {
      "tags": []
     },
     "output_type": "execute_result"
    }
   ],
   "source": [
    "labels_test.head()"
   ]
  },
  {
   "cell_type": "code",
   "execution_count": null,
   "metadata": {
    "id": "Dre-WFkut0Ia"
   },
   "outputs": [],
   "source": [
    "os.chdir('/content/drive/My Drive/')\n",
    "labels_test.to_csv(\"Final_prediction_20210205_Sanchit_Akhauri.csv\")"
   ]
  },
  {
   "cell_type": "markdown",
   "metadata": {
    "id": "yJwHgju7lCTR"
   },
   "source": [
    "## 7.4 Summary of Spearman's correlation coefficient of all the models"
   ]
  },
  {
   "cell_type": "code",
   "execution_count": null,
   "metadata": {
    "colab": {
     "base_uri": "https://localhost:8080/",
     "height": 195
    },
    "id": "FDUWcNrNhaeb",
    "outputId": "b190a3e8-9301-459a-be82-3a5f4ecdaf5e"
   },
   "outputs": [
    {
     "data": {
      "text/html": [
       "<div>\n",
       "<style scoped>\n",
       "    .dataframe tbody tr th:only-of-type {\n",
       "        vertical-align: middle;\n",
       "    }\n",
       "\n",
       "    .dataframe tbody tr th {\n",
       "        vertical-align: top;\n",
       "    }\n",
       "\n",
       "    .dataframe thead th {\n",
       "        text-align: right;\n",
       "    }\n",
       "</style>\n",
       "<table border=\"1\" class=\"dataframe\">\n",
       "  <thead>\n",
       "    <tr style=\"text-align: right;\">\n",
       "      <th></th>\n",
       "      <th>Random Forest</th>\n",
       "      <th>Gradient Boosting Regressor</th>\n",
       "      <th>Elastic Net</th>\n",
       "      <th>Support Vector Regressor</th>\n",
       "      <th>Dense Layer</th>\n",
       "    </tr>\n",
       "  </thead>\n",
       "  <tbody>\n",
       "    <tr>\n",
       "      <th>HMP</th>\n",
       "      <td>0.314</td>\n",
       "      <td>0.296</td>\n",
       "      <td>0.271</td>\n",
       "      <td>0.309</td>\n",
       "      <td>-0.052</td>\n",
       "    </tr>\n",
       "    <tr>\n",
       "      <th>C3D</th>\n",
       "      <td>0.324</td>\n",
       "      <td>0.311</td>\n",
       "      <td>0.282</td>\n",
       "      <td>0.265</td>\n",
       "      <td>0.273</td>\n",
       "    </tr>\n",
       "    <tr>\n",
       "      <th>LBP</th>\n",
       "      <td>0.328</td>\n",
       "      <td>0.298</td>\n",
       "      <td>0.232</td>\n",
       "      <td>0.249</td>\n",
       "      <td>-</td>\n",
       "    </tr>\n",
       "    <tr>\n",
       "      <th>Aethetic</th>\n",
       "      <td>0.324</td>\n",
       "      <td>0.284</td>\n",
       "      <td>0.270</td>\n",
       "      <td>0.197</td>\n",
       "      <td>-</td>\n",
       "    </tr>\n",
       "    <tr>\n",
       "      <th>LBP + C3D</th>\n",
       "      <td>0.337</td>\n",
       "      <td>0.330</td>\n",
       "      <td>0.293</td>\n",
       "      <td>-</td>\n",
       "      <td>-</td>\n",
       "    </tr>\n",
       "  </tbody>\n",
       "</table>\n",
       "</div>"
      ],
      "text/plain": [
       "          Random Forest  ... Dense Layer\n",
       "HMP               0.314  ...      -0.052\n",
       "C3D               0.324  ...       0.273\n",
       "LBP               0.328  ...           -\n",
       "Aethetic          0.324  ...           -\n",
       "LBP + C3D         0.337  ...           -\n",
       "\n",
       "[5 rows x 5 columns]"
      ]
     },
     "execution_count": 4,
     "metadata": {
      "tags": []
     },
     "output_type": "execute_result"
    }
   ],
   "source": [
    "df=pd.DataFrame({\"Random Forest\":['0.314','0.324','0.328','0.324','0.337'],\n",
    "                 \"Gradient Boosting Regressor\":['0.296','0.311','0.298','0.284','0.330'],\n",
    "                 \"Elastic Net\":['0.271','0.282','0.232','0.270','0.293'],\n",
    "                 \"Support Vector Regressor\":['0.309','0.265','0.249','0.197','-'],\n",
    "                 \"Dense Layer\":['-0.052','0.273','-','-','-']})\n",
    "df.index = ['HMP', 'C3D', 'LBP', 'Aethetic','LBP + C3D']\n",
    "df.head()"
   ]
  },
  {
   "cell_type": "code",
   "execution_count": null,
   "metadata": {
    "colab": {
     "base_uri": "https://localhost:8080/",
     "height": 195
    },
    "id": "06UHbsnxlH65",
    "outputId": "46eb05b1-0669-4d61-f5c9-dd202e6700c5"
   },
   "outputs": [
    {
     "data": {
      "text/html": [
       "<div>\n",
       "<style scoped>\n",
       "    .dataframe tbody tr th:only-of-type {\n",
       "        vertical-align: middle;\n",
       "    }\n",
       "\n",
       "    .dataframe tbody tr th {\n",
       "        vertical-align: top;\n",
       "    }\n",
       "\n",
       "    .dataframe thead th {\n",
       "        text-align: right;\n",
       "    }\n",
       "</style>\n",
       "<table border=\"1\" class=\"dataframe\">\n",
       "  <thead>\n",
       "    <tr style=\"text-align: right;\">\n",
       "      <th></th>\n",
       "      <th>Random Forest</th>\n",
       "      <th>Gradient Boosting Regressor</th>\n",
       "      <th>Elastic Net</th>\n",
       "      <th>Support Vector Regressor</th>\n",
       "      <th>Dense Layer</th>\n",
       "    </tr>\n",
       "  </thead>\n",
       "  <tbody>\n",
       "    <tr>\n",
       "      <th>HMP</th>\n",
       "      <td>0.080</td>\n",
       "      <td>0.058</td>\n",
       "      <td>0.112</td>\n",
       "      <td>0.091</td>\n",
       "      <td>0.013</td>\n",
       "    </tr>\n",
       "    <tr>\n",
       "      <th>C3D</th>\n",
       "      <td>0.114</td>\n",
       "      <td>0.110</td>\n",
       "      <td>0.118</td>\n",
       "      <td>0.041</td>\n",
       "      <td>0.120</td>\n",
       "    </tr>\n",
       "    <tr>\n",
       "      <th>LBP</th>\n",
       "      <td>0.064</td>\n",
       "      <td>0.061</td>\n",
       "      <td>0.077</td>\n",
       "      <td>0.085</td>\n",
       "      <td>-</td>\n",
       "    </tr>\n",
       "    <tr>\n",
       "      <th>Aethetic</th>\n",
       "      <td>0.134</td>\n",
       "      <td>0.110</td>\n",
       "      <td>0.118</td>\n",
       "      <td>0.097</td>\n",
       "      <td>-</td>\n",
       "    </tr>\n",
       "    <tr>\n",
       "      <th>LBP + C3D</th>\n",
       "      <td>0.132</td>\n",
       "      <td>0.096</td>\n",
       "      <td>0.124</td>\n",
       "      <td>-</td>\n",
       "      <td>-</td>\n",
       "    </tr>\n",
       "  </tbody>\n",
       "</table>\n",
       "</div>"
      ],
      "text/plain": [
       "          Random Forest  ... Dense Layer\n",
       "HMP               0.080  ...       0.013\n",
       "C3D               0.114  ...       0.120\n",
       "LBP               0.064  ...           -\n",
       "Aethetic          0.134  ...           -\n",
       "LBP + C3D         0.132  ...           -\n",
       "\n",
       "[5 rows x 5 columns]"
      ]
     },
     "execution_count": 5,
     "metadata": {
      "tags": []
     },
     "output_type": "execute_result"
    }
   ],
   "source": [
    "df=pd.DataFrame({\"Random Forest\":['0.080','0.114','0.064','0.134','0.132'],\n",
    "                 \"Gradient Boosting Regressor\":['0.058','0.110','0.061','0.110','0.096'],\n",
    "                 \"Elastic Net\":['0.112','0.118','0.077','0.118','0.124'],\n",
    "                 \"Support Vector Regressor\":['0.091','0.041','0.085','0.097','-'],\n",
    "                 \"Dense Layer\":['0.013','0.120','-','-','-']})\n",
    "df.index = ['HMP', 'C3D', 'LBP', 'Aethetic','LBP + C3D']\n",
    "df.head()"
   ]
  }
 ],
 "metadata": {
  "colab": {
   "collapsed_sections": [],
   "name": "Predicting_Memorability_using_C3D_HMP_LBP_Aesthetic_features.ipynb",
   "provenance": [],
   "toc_visible": true
  },
  "kernelspec": {
   "display_name": "Python 3",
   "language": "python",
   "name": "python3"
  },
  "language_info": {
   "codemirror_mode": {
    "name": "ipython",
    "version": 3
   },
   "file_extension": ".py",
   "mimetype": "text/x-python",
   "name": "python",
   "nbconvert_exporter": "python",
   "pygments_lexer": "ipython3",
   "version": "3.8.5"
  }
 },
 "nbformat": 4,
 "nbformat_minor": 1
}
